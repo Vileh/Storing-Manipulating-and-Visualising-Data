{
 "cells": [
  {
   "cell_type": "markdown",
   "id": "a4a0791c",
   "metadata": {},
   "source": [
    "Before you turn this problem in, make sure everything runs as expected. First, **restart the kernel** (in the menubar, select Kernel$\\rightarrow$Restart) and then **run all cells** (in the menubar, select Cell$\\rightarrow$Run All).\n",
    "\n",
    "Make sure you fill in any place that says `YOUR CODE HERE` or \"YOUR ANSWER HERE\", as well as your name and collaborators below:"
   ]
  },
  {
   "cell_type": "code",
   "execution_count": null,
   "id": "3294fc8b",
   "metadata": {},
   "outputs": [],
   "source": [
    "STUDENT_ID = \"\""
   ]
  },
  {
   "cell_type": "markdown",
   "id": "f56d0e80",
   "metadata": {},
   "source": [
    "---"
   ]
  },
  {
   "cell_type": "markdown",
   "id": "dde11440",
   "metadata": {
    "editable": false,
    "nbgrader": {
     "cell_type": "markdown",
     "checksum": "d058b42f6fe4e2cd88f6aad035cf0af5",
     "grade": false,
     "grade_id": "cell-7fd27c133f70147e",
     "locked": true,
     "schema_version": 3,
     "solution": false,
     "task": false
    }
   },
   "source": [
    "MTH765P - Coursework 1\n",
    "This is a template notebook for the first assignment  MTH765P,\n",
    "Closely follow the instructions in this template in order \n",
    "to complete the assessment and to obtain full marks. Please only\n",
    "modify cells where you are instructed to do so. Failure to comply\n",
    "may result in unexpected errors that can lead to mark deductions.\n",
    "\n",
    "Author: Primoz Skraba\n",
    "\n",
    "\n",
    "As usual, we begin by loading the necessary libraries. You should not \n",
    "import any other libraries."
   ]
  },
  {
   "cell_type": "markdown",
   "id": "55fbd537",
   "metadata": {
    "deletable": false,
    "editable": false,
    "nbgrader": {
     "cell_type": "markdown",
     "checksum": "d058b42f6fe4e2cd88f6aad035cf0af5",
     "grade": false,
     "grade_id": "cell-7fd27c133f70147e",
     "locked": true,
     "schema_version": 3,
     "solution": false,
     "task": false
    }
   },
   "source": [
    "MTH765P - Coursework 1\n",
    "This is a template notebook for the first assignment  MTH765P,\n",
    "Closely follow the instructions in this template in order \n",
    "to complete the assessment and to obtain full marks. Please only\n",
    "modify cells where you are instructed to do so. Failure to comply\n",
    "may result in unexpected errors that can lead to mark deductions.\n",
    "\n",
    "Author: Primoz Skraba\n",
    "\n",
    "\n",
    "As usual, we begin by loading the necessary libraries. You should not \n",
    "import any other libraries."
   ]
  },
  {
   "cell_type": "markdown",
   "id": "7500dd42",
   "metadata": {
    "editable": false,
    "nbgrader": {
     "cell_type": "markdown",
     "checksum": "d058b42f6fe4e2cd88f6aad035cf0af5",
     "grade": false,
     "grade_id": "cell-7fd27c133f70147e",
     "locked": true,
     "schema_version": 3,
     "solution": false,
     "task": false
    }
   },
   "source": [
    "MTH765P - Coursework 1\n",
    "This is a template notebook for the first assignment  MTH765P,\n",
    "Closely follow the instructions in this template in order \n",
    "to complete the assessment and to obtain full marks. Please only\n",
    "modify cells where you are instructed to do so. Failure to comply\n",
    "may result in unexpected errors that can lead to mark deductions.\n",
    "\n",
    "Author: Primoz Skraba\n",
    "\n",
    "\n",
    "As usual, we begin by loading the necessary libraries. You should not \n",
    "import any other libraries."
   ]
  },
  {
   "cell_type": "code",
   "execution_count": null,
   "id": "73097c07",
   "metadata": {
    "deletable": false,
    "editable": false,
    "nbgrader": {
     "cell_type": "code",
     "checksum": "8c019ba3e83a9ad474a6a21f9cca3c21",
     "grade": false,
     "grade_id": "cell-6b90c06e05248870",
     "locked": true,
     "schema_version": 3,
     "solution": false,
     "task": false
    }
   },
   "outputs": [],
   "source": [
    "import re"
   ]
  },
  {
   "cell_type": "markdown",
   "id": "a596169f",
   "metadata": {
    "deletable": false,
    "editable": false,
    "nbgrader": {
     "cell_type": "markdown",
     "checksum": "e04df7fc2216d0ca3ac6a58a652c9abe",
     "grade": false,
     "grade_id": "cell-a69385a99d5d4f96",
     "locked": true,
     "schema_version": 3,
     "solution": false,
     "task": false
    }
   },
   "source": [
    "## Question 1(20 points): \n",
    "\n",
    "-----------------------------------------\n",
    "Match everything in Column A but nothing in Column B\n",
    "\n",
    "   | Column A   |   o---------o   |  Column B |\n",
    "   |-------------|      | -----------|\n",
    "|      rap them  |      | aleht|\n",
    "|        tapeth |       |  happy them|\n",
    "|apth         |         |   tarpth|\n",
    "|wrap/try     |          |  peth|\n",
    "|sap tray     |          |   tarreth|\n",
    "| 87ap9th     |     |ddapdg|\n",
    "|apothecary  | |Apt|\n"
   ]
  },
  {
   "cell_type": "code",
   "execution_count": null,
   "id": "d35cb654",
   "metadata": {
    "deletable": false,
    "nbgrader": {
     "cell_type": "code",
     "checksum": "34ce66cd75b1e062f69dc22978e26dbe",
     "grade": false,
     "grade_id": "cell-f11a2a77eb1d4a1c",
     "locked": false,
     "schema_version": 3,
     "solution": true,
     "task": false
    }
   },
   "outputs": [],
   "source": [
    "def MatchOneColumn(column):\n",
    "    # Fill in pattern = re.compile(r'')\n",
    "    # YOUR CODE HERE\n",
    "    raise NotImplementedError()\n",
    "    return re.findall(pattern,column)"
   ]
  },
  {
   "cell_type": "code",
   "execution_count": null,
   "id": "24a9c116",
   "metadata": {},
   "outputs": [],
   "source": [
    "# Check if it matches everything in Column A\n",
    "# Here you want 7/7\n",
    "column_A = 'rap them\\n tapeth\\n apth\\n wrap/try\\n sap tray\\n 87ap9th\\n apothecary\\n'\n",
    "matches_columnA = MatchOneColumn(column_A)\n",
    "print(matches_columnA)\n",
    "print(\"------------------\")\n",
    "print(\"You matched %d / 7\\n\" % len(matches_columnA))"
   ]
  },
  {
   "cell_type": "code",
   "execution_count": null,
   "id": "3fd737df",
   "metadata": {},
   "outputs": [],
   "source": [
    "# Check if  nothing matches in Column B\n",
    "# Here you want 0/7\n",
    "column_B = 'aleht\\n happy them\\n tarpth\\n peth\\n tarreth\\n ddapdg\\n Apt\\n'\n",
    "matches_columnB = MatchOneColumn(column_B)\n",
    "print(\"You matched %d / 7\\n\" % len(matches_columnB))"
   ]
  },
  {
   "cell_type": "code",
   "execution_count": null,
   "id": "00968fb3",
   "metadata": {
    "deletable": false,
    "editable": false,
    "nbgrader": {
     "cell_type": "code",
     "checksum": "01bfd4dff832b8a065241badea455bf5",
     "grade": true,
     "grade_id": "cell-bbdfe86303a4135c",
     "locked": true,
     "points": 7,
     "schema_version": 3,
     "solution": false,
     "task": false
    }
   },
   "outputs": [],
   "source": []
  },
  {
   "cell_type": "code",
   "execution_count": null,
   "id": "adf2f89c",
   "metadata": {
    "deletable": false,
    "editable": false,
    "nbgrader": {
     "cell_type": "code",
     "checksum": "8b2b29128e017525b6005adc2f4a2b61",
     "grade": true,
     "grade_id": "cell-3aa629a44fed9992",
     "locked": true,
     "points": 7,
     "schema_version": 3,
     "solution": false,
     "task": false
    }
   },
   "outputs": [],
   "source": []
  },
  {
   "cell_type": "markdown",
   "id": "12a73a44",
   "metadata": {
    "deletable": false,
    "editable": false,
    "nbgrader": {
     "cell_type": "markdown",
     "checksum": "d586d3c2bf68b83ba68155c3649d0c1b",
     "grade": false,
     "grade_id": "cell-e47d48f5e0a2d9df",
     "locked": true,
     "schema_version": 3,
     "solution": false,
     "task": false
    }
   },
   "source": [
    "## Question 2 (30 points):\n",
    "\n",
    "You would like to extract all text which is enclosed by dollar signs \\\\$ or double dollar signs \\\\$\\\\$. For example, \\$x = 2y + 1\\\\$ or \\\\$\\\\$ X = USV \\\\$\\\\$.\n"
   ]
  },
  {
   "cell_type": "code",
   "execution_count": null,
   "id": "2b17bda6",
   "metadata": {
    "deletable": false,
    "nbgrader": {
     "cell_type": "code",
     "checksum": "e4bfa344cea4b505bc8b27f96d98a3f0",
     "grade": false,
     "grade_id": "cell-56e45ae4fdba2aa0",
     "locked": false,
     "schema_version": 3,
     "solution": true,
     "task": false
    }
   },
   "outputs": [],
   "source": [
    "def LatexMatch(text):\n",
    "    # Enter pattern here\n",
    "    # pattern = re.compile(r'')\n",
    "    # YOUR CODE HERE\n",
    "    raise NotImplementedError()\n",
    "    # No need to change this line\n",
    "    return re.findall(pattern,text)"
   ]
  },
  {
   "cell_type": "markdown",
   "id": "dfc9ce8d",
   "metadata": {
    "deletable": false,
    "editable": false,
    "nbgrader": {
     "cell_type": "markdown",
     "checksum": "d2a7604d4115f8ddd027ac42f5d125a7",
     "grade": false,
     "grade_id": "cell-3ca48fb32d5def79",
     "locked": true,
     "schema_version": 3,
     "solution": false,
     "task": false
    }
   },
   "source": [
    "### Test Case:\n",
    "\n",
    "Through the point $B$, draw a straight line cutting\n",
    "$OA'$ in the point $D'$ and making with it the angle\n",
    "$OCA'$, so that the congruence\n",
    "\n",
    "(1$\\ast$) $\\angle OCA' \\equiv \\angle OD'B$\n",
    "\n",
    "is fulfilled. Now, according to a well known property\n",
    "of circles, $CBD'A'$ is an inscribed quadrilateral, and,\n",
    "consequently, by aid of the theorem concerning the\n",
    "congruence of angles inscribed in the same segment\n",
    "of a circle, we have the congruence\n",
    "\n",
    "(2$\\ast$) $\\angle OBA' \\equiv \\angle OD'C$.\n",
    "\n",
    "Since, by hypothesis, $CA'$ and $AC'$ are parallel, we\n",
    "have\n",
    "\n",
    "(3$\\ast$) $\\angle OCA' \\equiv \\angle OAC'$,\n",
    "\n",
    "and from (1$\\ast$) and (3$\\ast$) we obtain the congruence\n",
    "$$\n",
    "\\angle OD'B \\equiv \\angle OAC'.\n",
    "$$"
   ]
  },
  {
   "cell_type": "code",
   "execution_count": null,
   "id": "02e8ed65",
   "metadata": {
    "deletable": false,
    "editable": false,
    "nbgrader": {
     "cell_type": "code",
     "checksum": "c94583e949ebd6f840b3662e0011c626",
     "grade": false,
     "grade_id": "cell-821322a62f562c10",
     "locked": true,
     "schema_version": 3,
     "solution": false,
     "task": false
    }
   },
   "outputs": [],
   "source": [
    "test_text = \"\"\"Through the point $B$, draw a straight line cutting\n",
    "$OA'$ in the point $D'$ and making with it the angle\n",
    "$OCA'$, so that the congruence\n",
    "\n",
    "(1$\\\\ast$) $\\\\angle OCA' \\\\equiv \\\\angle OD'B$\n",
    "\n",
    "is fulfilled. Now, according to a well known property\n",
    "of circles, $CBD'A'$ is an inscribed quadrilateral, and,\n",
    "consequently, by aid of the theorem concerning the\n",
    "congruence of angles inscribed in the same segment\n",
    "of a circle, we have the congruence\n",
    "\n",
    "(2$\\\\ast$) $\\\\angle OBA' \\\\equiv \\\\angle OD'C$.\n",
    "\n",
    "Since, by hypothesis, $CA'$ and $AC'$ are parallel, we\n",
    "have\n",
    "\n",
    "(3$\\\\ast$) $\\\\angle OCA' \\\\equiv \\\\angle OAC'$,\n",
    "\n",
    "and from (1$\\\\ast$) and (3$\\\\ast$) we obtain the congruence\n",
    "$$\\\\angle OD'B \\\\equiv \\\\angle OAC'.$$\n",
    "\"\"\"\n",
    "\n",
    "print(LatexMatch(test_text))"
   ]
  },
  {
   "cell_type": "markdown",
   "id": "3fe64fe7",
   "metadata": {
    "deletable": false,
    "editable": false,
    "nbgrader": {
     "cell_type": "markdown",
     "checksum": "6ac5fdab67b1d7fa0a3a9a59ebf66a7c",
     "grade": false,
     "grade_id": "cell-b5eb880731fd1c38",
     "locked": true,
     "schema_version": 3,
     "solution": false,
     "task": false
    }
   },
   "source": [
    "#### Output should be:\n",
    "\n",
    "['B', \"OA'\", \"D'\", \"OCA'\", '\\\\ast', \"\\\\angle OCA' \\\\equiv \\\\angle OD'B\", \"CBD'A'\", '\\\\ast', \"\\\\angle OBA' \\\\equiv \\\\angle OD'C\", \"CA'\", \"AC'\", '\\\\ast', \"\\\\angle OCA' \\\\equiv \\\\angle OAC'\", '\\\\ast', '\\\\ast', \"\\\\angle OD'B \\\\equiv \\\\angle OAC'.\"]"
   ]
  },
  {
   "cell_type": "code",
   "execution_count": null,
   "id": "8bb9615c",
   "metadata": {
    "deletable": false,
    "editable": false,
    "nbgrader": {
     "cell_type": "code",
     "checksum": "fa57b3bf35d38d21d5061c35788b3107",
     "grade": true,
     "grade_id": "cell-75fc9cc0958a5f0e",
     "locked": true,
     "points": 12,
     "schema_version": 3,
     "solution": false,
     "task": false
    }
   },
   "outputs": [],
   "source": []
  },
  {
   "cell_type": "code",
   "execution_count": null,
   "id": "b9b4a27b",
   "metadata": {
    "deletable": false,
    "editable": false,
    "nbgrader": {
     "cell_type": "code",
     "checksum": "5412dd7540845c205e6a0cff52895965",
     "grade": true,
     "grade_id": "cell-3545c6f2f0b346c2",
     "locked": true,
     "points": 3,
     "schema_version": 3,
     "solution": false,
     "task": false
    }
   },
   "outputs": [],
   "source": []
  },
  {
   "cell_type": "code",
   "execution_count": null,
   "id": "a1260c95",
   "metadata": {
    "deletable": false,
    "editable": false,
    "nbgrader": {
     "cell_type": "code",
     "checksum": "3d2fbbf764d727d6533934b5a02e4891",
     "grade": true,
     "grade_id": "cell-448bd0a5d99aba01",
     "locked": true,
     "points": 9,
     "schema_version": 3,
     "solution": false,
     "task": false
    }
   },
   "outputs": [],
   "source": []
  },
  {
   "cell_type": "markdown",
   "id": "7ac51d87",
   "metadata": {
    "deletable": false,
    "editable": false,
    "nbgrader": {
     "cell_type": "markdown",
     "checksum": "7b4b235143e1909626ea7fa4cd8fbb89",
     "grade": false,
     "grade_id": "cell-5d6bf7621847aeae",
     "locked": true,
     "schema_version": 3,
     "solution": false,
     "task": false
    }
   },
   "source": [
    "## Question 3 (30 points):\n",
    "Date Replace - find all dates in the text and replace it with November 5, 1955 \n",
    "\n",
    "- The date will be of the form year. month, day\n",
    "- The shortenings Jan. Feb. Aug. Sept. Oct. Nov. Dec. are used \n",
    "- You do not to check for false dates"
   ]
  },
  {
   "cell_type": "code",
   "execution_count": null,
   "id": "4d58b973",
   "metadata": {
    "deletable": false,
    "nbgrader": {
     "cell_type": "code",
     "checksum": "34df14030bec44a407ef5593c419d793",
     "grade": false,
     "grade_id": "cell-db670dbef019f86c",
     "locked": false,
     "schema_version": 3,
     "solution": true,
     "task": false
    }
   },
   "outputs": [],
   "source": [
    "def DateReplace(text):\n",
    "    # Enter pattern here\n",
    "    # pattern = re.compile(r'')\n",
    "    # YOUR CODE HERE\n",
    "    raise NotImplementedError()\n",
    "    output = []\n",
    "    # replace the above command with the \n",
    "    # command for replacing all instances of pattern\n",
    "    # ------------------\n",
    "    output =  re.sub(pattern,\"November 5, 1955\",text)\n",
    "    return output "
   ]
  },
  {
   "cell_type": "markdown",
   "id": "3c280b98",
   "metadata": {
    "deletable": false,
    "editable": false,
    "nbgrader": {
     "cell_type": "markdown",
     "checksum": "9510f9603d5677ab549a32f013180097",
     "grade": false,
     "grade_id": "cell-df92138d55490a89",
     "locked": true,
     "schema_version": 3,
     "solution": false,
     "task": false
    }
   },
   "source": [
    "### Test Case:\n",
    "\n",
    "&#8291;1996. July 4th, Aliens invade earth\n",
    " \n",
    "&#8291;2000. Jan. 1st, Philip J. Fry is frozen and unfrozen in the year 3000.\n",
    "\n",
    "&#8291;2004. Sept. 22nd,  Oceanic Flight 815 crashes over the island\n",
    "\n",
    "&#8291;2063. April 5th, Dr. Zefram Cochrane makes first contact with the Vulcans.\n",
    " \n",
    "&#8291;1992. Jan. 12th,  HAL 9000 goes online.\n",
    "\n",
    "&#8291;1997. Aug. 29th, Skynet becomes self-aware at 2:14 am.\n"
   ]
  },
  {
   "cell_type": "code",
   "execution_count": null,
   "id": "21e3657b",
   "metadata": {
    "deletable": false,
    "editable": false,
    "nbgrader": {
     "cell_type": "code",
     "checksum": "efe713cbc4f9a387d69413c865de93dd",
     "grade": false,
     "grade_id": "cell-e0f87f140e87a278",
     "locked": true,
     "schema_version": 3,
     "solution": false,
     "task": false
    }
   },
   "outputs": [],
   "source": [
    "test_text=\"\"\"1996. July 4th, Aliens invade earth.\n",
    "\n",
    "2000. Jan. 1st, Philip J. Fry is frozen and unfrozen in the year 3000.\n",
    "\n",
    "2004. Sept. 22nd, Oceanic Flight 815 crashes over the island.\n",
    "\n",
    "2063. April 5th, Dr. Zefram Cochrane makes first contact with the Vulcans.\n",
    " \n",
    "1992. Jan. 12th, HAL 9000 goes online.\n",
    "\n",
    "1997. Aug. 29th, Skynet becomes self-aware at 2:14 am.\"\"\"\n",
    "print(DateReplace(test_text))"
   ]
  },
  {
   "cell_type": "markdown",
   "id": "d86078a7",
   "metadata": {
    "deletable": false,
    "editable": false,
    "nbgrader": {
     "cell_type": "markdown",
     "checksum": "8f23d65e8e101b2f10cc333f25149f4a",
     "grade": false,
     "grade_id": "cell-c7d5bb7be207c619",
     "locked": true,
     "schema_version": 3,
     "solution": false,
     "task": false
    }
   },
   "source": [
    "#### Output should be:\n",
    "\n",
    "November 5, 1955, Aliens invade earth.\n",
    "\n",
    "November 5, 1955, Philip J. Fry is frozen and unfrozen in the year 3000.\n",
    "\n",
    "November 5, 1955, Oceanic Flight 815 crashes over the island.\n",
    "\n",
    "November 5, 1955, Dr. Zefram Cochrane makes first contact with the Vulcans.\n",
    " \n",
    "November 5, 1955, HAL 9000 goes online.\n",
    "\n",
    "November 5, 1955, Skynet becomes self-aware at 2:14 am."
   ]
  },
  {
   "cell_type": "code",
   "execution_count": null,
   "id": "2f285e5d",
   "metadata": {
    "deletable": false,
    "editable": false,
    "nbgrader": {
     "cell_type": "code",
     "checksum": "4332319aecafd626f85ae51b8140413e",
     "grade": true,
     "grade_id": "cell-4bf9958d78641d5e",
     "locked": true,
     "points": 6,
     "schema_version": 3,
     "solution": false,
     "task": false
    }
   },
   "outputs": [],
   "source": []
  },
  {
   "cell_type": "code",
   "execution_count": null,
   "id": "39d0ca17",
   "metadata": {
    "deletable": false,
    "editable": false,
    "nbgrader": {
     "cell_type": "code",
     "checksum": "59d7e94eb7c613f48ea4e190076298e5",
     "grade": true,
     "grade_id": "cell-b66a7e86f79fcfdf",
     "locked": true,
     "points": 5,
     "schema_version": 3,
     "solution": false,
     "task": false
    }
   },
   "outputs": [],
   "source": []
  },
  {
   "cell_type": "markdown",
   "id": "57c999ed",
   "metadata": {
    "deletable": false,
    "editable": false,
    "nbgrader": {
     "cell_type": "markdown",
     "checksum": "d8b703522c1042c88f632103dd3d852f",
     "grade": false,
     "grade_id": "cell-c52ed582be2abdeb",
     "locked": true,
     "points": 0,
     "schema_version": 3,
     "solution": false,
     "task": true
    }
   },
   "source": [
    "Can you name where each of the events is from (including November 5, 1955)? (0 Points)"
   ]
  },
  {
   "cell_type": "markdown",
   "id": "d684c14d",
   "metadata": {
    "deletable": false,
    "nbgrader": {
     "cell_type": "markdown",
     "checksum": "53608713ac481b0865c4af6a733136c6",
     "grade": true,
     "grade_id": "cell-25b83c90ee6fd200",
     "locked": false,
     "points": 0,
     "schema_version": 3,
     "solution": true,
     "task": false
    }
   },
   "source": [
    "YOUR ANSWER HERE"
   ]
  }
 ],
 "metadata": {
  "kernelspec": {
   "display_name": "Python 3 (ipykernel)",
   "language": "python",
   "name": "python3"
  },
  "language_info": {
   "codemirror_mode": {
    "name": "ipython",
    "version": 3
   },
   "file_extension": ".py",
   "mimetype": "text/x-python",
   "name": "python",
   "nbconvert_exporter": "python",
   "pygments_lexer": "ipython3",
   "version": "3.9.13"
  }
 },
 "nbformat": 4,
 "nbformat_minor": 5
}
