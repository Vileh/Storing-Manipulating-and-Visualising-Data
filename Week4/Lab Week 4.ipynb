{
 "cells": [
  {
   "cell_type": "markdown",
   "id": "58e925c9",
   "metadata": {},
   "source": [
    "### First, we import the relevant libraries"
   ]
  },
  {
   "cell_type": "code",
   "execution_count": 3,
   "id": "ff514a9d",
   "metadata": {},
   "outputs": [],
   "source": [
    "import numpy as np\n",
    "import matplotlib.pyplot as plt\n",
    "import colorsys"
   ]
  },
  {
   "cell_type": "markdown",
   "id": "cc804aa7",
   "metadata": {},
   "source": [
    "### Warmup: Markersize\n",
    "\n",
    "\n",
    "##### Create two numpy arrays:\n",
    "\n",
    "- x = [10,20,30,40,50]\n",
    "\n",
    "- y = [0,0,0,0,0]\n"
   ]
  },
  {
   "cell_type": "code",
   "execution_count": 4,
   "id": "f270b502",
   "metadata": {},
   "outputs": [],
   "source": [
    "x = np.array([10,20,30,40,50])\n",
    "y =  np.array([0,0,0,0,0])"
   ]
  },
  {
   "cell_type": "markdown",
   "id": "5a8c7c6a",
   "metadata": {},
   "source": [
    "##### Make 3x3 plots, specifically scatter plots of x and y where each of the axes has a different markersize function:\n",
    "- Row 1: $10\\sqrt{x}$, $50\\sqrt{x}$, and $100\\sqrt{x}$\n",
    "- Row 2: $x$, $10x$, and $50x$\n",
    "- Row 3: $\\frac{1}{2}x^2$, $x^2$, and $5x^2$\n",
    "\n",
    "\n",
    "Using the argument `s` of the scatter function."
   ]
  },
  {
   "cell_type": "code",
   "execution_count": 5,
   "id": "95c47ae0",
   "metadata": {},
   "outputs": [
    {
     "data": {
      "text/plain": [
       "<matplotlib.collections.PathCollection at 0x10f140c70>"
      ]
     },
     "execution_count": 5,
     "metadata": {},
     "output_type": "execute_result"
    },
    {
     "data": {
      "image/png": "[encoded data removed]",
      "text/plain": [
       "<Figure size 432x288 with 1 Axes>"
      ]
     },
     "metadata": {
      "needs_background": "light"
     },
     "output_type": "display_data"
    }
   ],
   "source": [
    "plt.scatter(x,y,s=x)"
   ]
  },
  {
   "cell_type": "markdown",
   "id": "4d3b2fe8",
   "metadata": {},
   "source": [
    "### Load the file Rank.csv into a variable\n",
    "\n",
    "The first column is the independent variable. We consider the remaining columns as dependent variables, and store them into variables with names $X, Y$, and $Z$."
   ]
  },
  {
   "cell_type": "code",
   "execution_count": null,
   "id": "21c7c70e",
   "metadata": {},
   "outputs": [],
   "source": []
  },
  {
   "cell_type": "markdown",
   "id": "198adc70",
   "metadata": {},
   "source": [
    "##### Colour\n",
    "\n",
    "Plot the three dependent variables in the same plot using the colours red, green, and blue"
   ]
  },
  {
   "cell_type": "code",
   "execution_count": null,
   "id": "b3bd7902",
   "metadata": {},
   "outputs": [],
   "source": []
  },
  {
   "cell_type": "markdown",
   "id": "d4b989d7",
   "metadata": {},
   "source": [
    "Use the ColorBrewer application (available at https://colorbrewer2.org/) to find a diverging palette of two colours that is  colorblind safe. Then plot the $Y$ and $Z$ variables in the same plot using these colours. \n"
   ]
  },
  {
   "cell_type": "code",
   "execution_count": null,
   "id": "2789ce78",
   "metadata": {},
   "outputs": [],
   "source": []
  },
  {
   "cell_type": "markdown",
   "id": "04dfcea2",
   "metadata": {},
   "source": [
    "Now plot $X,Y,Z$ in the same plot using three sequential colors that are colorblind safe."
   ]
  },
  {
   "cell_type": "code",
   "execution_count": null,
   "id": "310f4b36",
   "metadata": {},
   "outputs": [],
   "source": []
  },
  {
   "cell_type": "markdown",
   "id": "867e4cce",
   "metadata": {},
   "source": [
    "Using the `c` argument (as opposed to the `s` argument used above), plot a scatter plot of $Y$ with $X$ as the colour. \n"
   ]
  },
  {
   "cell_type": "code",
   "execution_count": null,
   "id": "58a295be",
   "metadata": {},
   "outputs": [],
   "source": []
  },
  {
   "cell_type": "markdown",
   "id": "49bfa694",
   "metadata": {},
   "source": [
    "Repeat with $Z$ as the colour. "
   ]
  },
  {
   "cell_type": "code",
   "execution_count": null,
   "id": "d5abdb86",
   "metadata": {},
   "outputs": [],
   "source": []
  },
  {
   "cell_type": "markdown",
   "id": "0a29177f",
   "metadata": {},
   "source": [
    "What is that you see (how would you interpret this)?"
   ]
  },
  {
   "cell_type": "code",
   "execution_count": null,
   "id": "2364bd8e",
   "metadata": {},
   "outputs": [],
   "source": []
  },
  {
   "cell_type": "markdown",
   "id": "84abceb0",
   "metadata": {},
   "source": [
    "##### Linewidth \n",
    "\n",
    "It is difficult to directly modify the linewidth, so we will use the `fill_between()` function. This takes as arguments the independent variable $x$, two dependent variables $f(x)$ and $g(x)$, and it fills the space contained between the two dependent variables. The argument `alpha`allows to regulate the transparency, and can take on values between 0 (completely transparent) and 1 (completely  opaque).\n",
    "\n",
    "\n",
    "Plot the area between $Y-X$ and $Y+Z$."
   ]
  },
  {
   "cell_type": "code",
   "execution_count": null,
   "id": "fdff5103",
   "metadata": {},
   "outputs": [],
   "source": []
  },
  {
   "cell_type": "markdown",
   "id": "3ea3cc38",
   "metadata": {},
   "source": [
    "Normalise the three columns separately (so the maximum of each column is 1 -- observe that the values are all positive) \n",
    "\n",
    "(**Hint**: Use the *max* function or *np.max()*)"
   ]
  },
  {
   "cell_type": "code",
   "execution_count": null,
   "id": "1f02e742",
   "metadata": {},
   "outputs": [],
   "source": []
  },
  {
   "cell_type": "markdown",
   "id": "a5528d9b",
   "metadata": {},
   "source": [
    "Plot again the area between $Y-X$ and $Y+Z$ after normalisation."
   ]
  },
  {
   "cell_type": "code",
   "execution_count": null,
   "id": "e9de3b6f",
   "metadata": {},
   "outputs": [],
   "source": []
  },
  {
   "cell_type": "markdown",
   "id": "b2c81745",
   "metadata": {},
   "source": [
    "How would you improve this type of plot --- for example if they were confidence intervals. \n",
    "\n",
    "Can you think of other scenarios where this type of plot would be useful.\n",
    "\n",
    "================================================================================================================="
   ]
  },
  {
   "cell_type": "markdown",
   "id": "96b201e1",
   "metadata": {},
   "source": [
    "### Design: Scores\n",
    "\n",
    "- First load the file **Scores.csv** \n",
    "- There are four columns: maths scores, reading scores, writing scores, group name (in that order)\n",
    "\n",
    "\n",
    "\n",
    "Show a visualisation to see if there is any connection/correlation between the three scores (visually not mathematically) -- you can use multiple plots, reduce the number of points, etc."
   ]
  },
  {
   "cell_type": "code",
   "execution_count": null,
   "id": "45c4c153",
   "metadata": {},
   "outputs": [],
   "source": []
  },
  {
   "cell_type": "markdown",
   "id": "d007f254",
   "metadata": {},
   "source": [
    "Can you encode all three scores in a single plot? "
   ]
  },
  {
   "cell_type": "code",
   "execution_count": null,
   "id": "ead3cf89",
   "metadata": {},
   "outputs": [],
   "source": []
  },
  {
   "cell_type": "markdown",
   "id": "03d46608",
   "metadata": {},
   "source": [
    "Visualise the effect of the group (here the group just refers to either the number 0 or the number 1) -- that is, are the scores different for the two different groups."
   ]
  },
  {
   "cell_type": "code",
   "execution_count": null,
   "id": "4d60c1c5",
   "metadata": {},
   "outputs": [],
   "source": []
  },
  {
   "cell_type": "markdown",
   "id": "91b63c8a",
   "metadata": {},
   "source": [
    "**Note:** for some of the previous exercises, you might want to use pairwise scatter plots, available in the Seaborn visualization library. For this you would need to import the library with `import seaborn as sns` and then use `sns.pairplot`"
   ]
  },
  {
   "cell_type": "code",
   "execution_count": null,
   "id": "c9d2fa5a",
   "metadata": {},
   "outputs": [],
   "source": []
  },
  {
   "cell_type": "markdown",
   "id": "b7ce778a",
   "metadata": {},
   "source": [
    "## Color-blind friendly visualisation"
   ]
  },
  {
   "cell_type": "markdown",
   "id": "908c0277",
   "metadata": {},
   "source": [
    "We first need to install some additional packages. For this, run the following commands in the terminal (in MSYS2 if you are using Appsanywhere): `pip install opencv-python` and \n",
    "`pip install colorblind`. \n"
   ]
  },
  {
   "cell_type": "code",
   "execution_count": null,
   "id": "d74fdcaa",
   "metadata": {},
   "outputs": [],
   "source": [
    "import cv2\n",
    "from colorblind import colorblind"
   ]
  },
  {
   "cell_type": "markdown",
   "id": "1df93eaa",
   "metadata": {},
   "source": [
    "Now choose some of the visualisations from the previous exercises, and test whether the choice of colors is colorblind-friendly, for people affected by deuteranopia and tritanopia. Note, to do this you might want to save the plot as a figure, with the command `plt.savefig()`"
   ]
  },
  {
   "cell_type": "code",
   "execution_count": null,
   "id": "621aafc6",
   "metadata": {},
   "outputs": [],
   "source": []
  },
  {
   "cell_type": "markdown",
   "id": "00cd0cc2",
   "metadata": {},
   "source": [
    "If you realised that some of the choice of colors was not well-suited for colorblind people, use some of the correction algorithms discussed to shift the colors.  "
   ]
  },
  {
   "cell_type": "code",
   "execution_count": null,
   "id": "82d70ebf",
   "metadata": {},
   "outputs": [],
   "source": []
  },
  {
   "cell_type": "markdown",
   "id": "3fe33c2c",
   "metadata": {},
   "source": [
    "Now test that the correction has the desired effect, by running the deuteranopia and tritanopia simulation on the plots with corrected colors."
   ]
  },
  {
   "cell_type": "code",
   "execution_count": null,
   "id": "020cd5d5",
   "metadata": {},
   "outputs": [],
   "source": []
  },
  {
   "cell_type": "markdown",
   "id": "a4eb4197",
   "metadata": {},
   "source": [
    "There seems to be some issue if we simply save the plots as figures. How could you improve the visualisations?"
   ]
  },
  {
   "cell_type": "code",
   "execution_count": null,
   "id": "a310d900",
   "metadata": {},
   "outputs": [],
   "source": []
  }
 ],
 "metadata": {
  "kernelspec": {
   "display_name": "Python 3 (ipykernel)",
   "language": "python",
   "name": "python3"
  },
  "language_info": {
   "codemirror_mode": {
    "name": "ipython",
    "version": 3
   },
   "file_extension": ".py",
   "mimetype": "text/x-python",
   "name": "python",
   "nbconvert_exporter": "python",
   "pygments_lexer": "ipython3",
   "version": "3.10.6"
  }
 },
 "nbformat": 4,
 "nbformat_minor": 5
}
