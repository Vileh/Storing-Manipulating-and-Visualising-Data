{
 "cells": [
  {
   "cell_type": "markdown",
   "id": "5cd14a8e",
   "metadata": {},
   "source": [
    "#### First we load the relevant libraries\n"
   ]
  },
  {
   "cell_type": "code",
   "execution_count": null,
   "id": "4c3d6303",
   "metadata": {},
   "outputs": [],
   "source": [
    "import numpy as np\n",
    "import pandas as pd\n",
    "import urllib \n",
    "import json\n",
    "\n",
    "#  we will also import xml.dom.minidom\n",
    "from xml.dom import minidom"
   ]
  },
  {
   "cell_type": "markdown",
   "id": "617648a7",
   "metadata": {},
   "source": [
    "First try to get the files using the browser, wget, and curl\n",
    "\n",
    "-------\n",
    "\n",
    "Now, we will use urllib. The documentation can be found at https://docs.python.org/3/library/urllib.html \n",
    "\n",
    "The process is straightforward\n",
    "- you will define the url putting it together as a string\n",
    "- use urllib to read the result - use the function \n",
    "\n",
    "         urllib.request.urlopen(url_string).read() \n",
    "\n",
    "    it will return a string. \n",
    "- print out the answer"
   ]
  },
  {
   "cell_type": "code",
   "execution_count": null,
   "id": "a5b01c89",
   "metadata": {},
   "outputs": [],
   "source": []
  },
  {
   "cell_type": "markdown",
   "id": "0636c5a3",
   "metadata": {},
   "source": [
    "#### Construct the queries:\n",
    "\n",
    "-  Download the data for the first 12 of **my** papers (use \\%20 to denote a space). Rather than **all:**, you want to specify the author. Save this in variable called _primoz_.\n",
    "- Download the data for first 15 papers with the word _homology_ in the title. Save this in variable called _homology_.\n",
    "- Download the data for 30 papers with _Machine Learning_ appearing anywhere.  Save this in variable called _ML_.\n"
   ]
  },
  {
   "cell_type": "code",
   "execution_count": null,
   "id": "49202e13",
   "metadata": {},
   "outputs": [],
   "source": []
  },
  {
   "cell_type": "markdown",
   "id": "eeb771d8",
   "metadata": {},
   "source": [
    "#### Reading in XML\n",
    "\n",
    "Here we will use minidom to read the XML strings from above. First, read in the variable \n",
    "_primoz_ using \n",
    "\n",
    "        dom_name = minidom.parseString(string_name)"
   ]
  },
  {
   "cell_type": "code",
   "execution_count": null,
   "id": "50924882",
   "metadata": {},
   "outputs": [],
   "source": []
  },
  {
   "cell_type": "markdown",
   "id": "a8b6afe2",
   "metadata": {},
   "source": [
    "Print it out nicely using\n",
    "\n",
    "        dom.toprettyxml()"
   ]
  },
  {
   "cell_type": "code",
   "execution_count": null,
   "id": "0183d271",
   "metadata": {},
   "outputs": [],
   "source": []
  },
  {
   "cell_type": "markdown",
   "id": "4ce7bafa",
   "metadata": {},
   "source": [
    "Print it out to a file using\n",
    "\n",
    "    file = open(name_of_file, \"w\")\n",
    "    file.write(string)\n",
    "    file.close()\n",
    "    \n",
    "Make sure you output the \"nice\" xml from above."
   ]
  },
  {
   "cell_type": "code",
   "execution_count": null,
   "id": "0229663d",
   "metadata": {},
   "outputs": [],
   "source": []
  },
  {
   "cell_type": "markdown",
   "id": "fd19da7c",
   "metadata": {},
   "source": [
    "Repeat with the other two queries from above."
   ]
  },
  {
   "cell_type": "code",
   "execution_count": null,
   "id": "91ca3d1c",
   "metadata": {},
   "outputs": [],
   "source": []
  },
  {
   "cell_type": "code",
   "execution_count": null,
   "id": "ea8d9830",
   "metadata": {},
   "outputs": [],
   "source": []
  },
  {
   "cell_type": "markdown",
   "id": "89a00364",
   "metadata": {},
   "source": [
    "Now we will use minidom directly. \n",
    "\n",
    "### Find the titles in the xml file \n",
    "\n",
    "1. Find all the elements with the tag \"title\"\n",
    "\n",
    "        titles = dom_name.getElementsByTagName(search_string)\n",
    "\n"
   ]
  },
  {
   "cell_type": "code",
   "execution_count": null,
   "id": "5e819896",
   "metadata": {},
   "outputs": [],
   "source": []
  },
  {
   "cell_type": "markdown",
   "id": "0ee99b93",
   "metadata": {},
   "source": [
    "2. Iterate over the elements in a for loop and use _firstChild.nodeValue_ to get the actual strings. \n",
    "\n",
    "            titlename = nodename.firstChild.nodeValue\n",
    "   to get the names of the titles. Note thet nodeValue is **not** a function\n",
    "   "
   ]
  },
  {
   "cell_type": "code",
   "execution_count": null,
   "id": "a4e9e149",
   "metadata": {},
   "outputs": [],
   "source": []
  },
  {
   "cell_type": "markdown",
   "id": "2c5e489e",
   "metadata": {},
   "source": [
    "\n",
    "----------\n",
    "\n",
    "Get a list of some of my co-authors, this time however to print out the list use \n",
    "            \n",
    "            ElementVariableHere.toxml()\n",
    "            \n",
    "**HINT** Search for the tag authors.\n",
    "\n",
    "\n",
    "----------"
   ]
  },
  {
   "cell_type": "code",
   "execution_count": null,
   "id": "78e365e4",
   "metadata": {},
   "outputs": [],
   "source": []
  },
  {
   "cell_type": "markdown",
   "id": "93c35272",
   "metadata": {},
   "source": [
    "\n",
    "--------\n",
    "Alternatively, try searching for the tage **name** rather than **author**. In this case use firstChild.nodeValue as above.\n",
    "\n",
    "\n",
    "--------"
   ]
  },
  {
   "cell_type": "code",
   "execution_count": null,
   "id": "e3a7b0f9",
   "metadata": {},
   "outputs": [],
   "source": []
  },
  {
   "cell_type": "markdown",
   "id": "0d8883d7",
   "metadata": {},
   "source": [
    "### JSON\n",
    "\n",
    "Read in the file **books.json**, using \n",
    "            \n",
    "            file = open(name_of_file)\n",
    "            json_variable = json.load(file)\n",
    "            "
   ]
  },
  {
   "cell_type": "code",
   "execution_count": null,
   "id": "d41011b5",
   "metadata": {},
   "outputs": [],
   "source": []
  },
  {
   "cell_type": "markdown",
   "id": "db515793",
   "metadata": {},
   "source": [
    "-----\n",
    "\n",
    "Check what the keys if the dictionary are\n",
    "\n",
    "\n",
    "------"
   ]
  },
  {
   "cell_type": "code",
   "execution_count": null,
   "id": "7af7bf57",
   "metadata": {},
   "outputs": [],
   "source": []
  },
  {
   "cell_type": "markdown",
   "id": "a0a597b7",
   "metadata": {},
   "source": [
    "---------\n",
    "\n",
    "Print out a list of titles (as a dictionary)\n",
    "\n",
    "-------"
   ]
  },
  {
   "cell_type": "code",
   "execution_count": null,
   "id": "6b1aa666",
   "metadata": {},
   "outputs": [],
   "source": [
    "# HINT: you do not need the print statement here\n"
   ]
  },
  {
   "cell_type": "markdown",
   "id": "1878aac3",
   "metadata": {},
   "source": [
    "-----------\n",
    "Turn this into a (Python) list of just titles\n",
    "\n",
    "--------"
   ]
  },
  {
   "cell_type": "code",
   "execution_count": null,
   "id": "c23fbb53",
   "metadata": {},
   "outputs": [],
   "source": []
  },
  {
   "cell_type": "markdown",
   "id": "9dd04a53",
   "metadata": {},
   "source": [
    "-----------\n",
    " \n",
    " Create a NumPy array with the number of weeks on the Bestseller's List\n",
    "\n",
    "\n",
    "----------"
   ]
  },
  {
   "cell_type": "code",
   "execution_count": null,
   "id": "47e9f091",
   "metadata": {},
   "outputs": [],
   "source": []
  },
  {
   "cell_type": "markdown",
   "id": "dfbdaedb",
   "metadata": {},
   "source": [
    "------\n",
    "Now we can follow the same technique as above \n",
    "\n",
    "\n",
    "**HOWEVER:** \n",
    "   1. Notice the difference in structure \n",
    "   2. Do not forget to import NumPy \n",
    "   3. Make sure to make the strings into integers\n",
    "   3. In the end do not forget to turn the list into a NumPy array\n",
    "   \n",
    "**Hint**: you can use a _for_ loop \n",
    "\n",
    "\n",
    "-------"
   ]
  },
  {
   "cell_type": "code",
   "execution_count": null,
   "id": "5531a64d",
   "metadata": {},
   "outputs": [],
   "source": []
  },
  {
   "cell_type": "code",
   "execution_count": null,
   "id": "abead259",
   "metadata": {},
   "outputs": [],
   "source": []
  }
 ],
 "metadata": {
  "kernelspec": {
   "display_name": "Python 3 (ipykernel)",
   "language": "python",
   "name": "python3"
  },
  "language_info": {
   "codemirror_mode": {
    "name": "ipython",
    "version": 3
   },
   "file_extension": ".py",
   "mimetype": "text/x-python",
   "name": "python",
   "nbconvert_exporter": "python",
   "pygments_lexer": "ipython3",
   "version": "3.8.12"
  }
 },
 "nbformat": 4,
 "nbformat_minor": 5
}
