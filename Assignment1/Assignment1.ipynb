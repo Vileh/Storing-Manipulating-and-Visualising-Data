{
 "cells": [
  {
   "cell_type": "markdown",
   "id": "b90d19b1",
   "metadata": {},
   "source": [
    "Before you turn this problem in, make sure everything runs as expected. First, **restart the kernel** (in the menubar, select Kernel$\\rightarrow$Restart) and then **run all cells** (in the menubar, select Cell$\\rightarrow$Run All).\n",
    "\n",
    "Make sure you fill in any place that says `YOUR CODE HERE` or \"YOUR ANSWER HERE\", as well as your name and collaborators below:"
   ]
  },
  {
   "cell_type": "code",
   "execution_count": 1,
   "id": "ab021ed2",
   "metadata": {},
   "outputs": [],
   "source": [
    "STUDENT_ID = \"230966576\""
   ]
  },
  {
   "cell_type": "markdown",
   "id": "9ea3ceca",
   "metadata": {},
   "source": [
    "---"
   ]
  },
  {
   "cell_type": "markdown",
   "id": "a5f73f37",
   "metadata": {
    "deletable": false,
    "editable": false,
    "nbgrader": {
     "cell_type": "markdown",
     "checksum": "661d919b5f2aaf89967efa376174451d",
     "grade": false,
     "grade_id": "cell-7fd27c133f70147e",
     "locked": true,
     "schema_version": 3,
     "solution": false,
     "task": false
    }
   },
   "source": [
    "MTH765P - Coursework 1 (new)\n",
    "This is a template notebook for the first assignment  MTH765P,\n",
    "Closely follow the instructions in this template in order \n",
    "to complete the assessment and to obtain full marks. Please only\n",
    "modify cells where you are instructed to do so. Failure to comply\n",
    "may result in unexpected errors that can lead to mark deductions.\n",
    "\n",
    "Author: Primoz Skraba\n",
    "\n",
    "\n",
    "As usual, we begin by loading the necessary libraries. You should not \n",
    "import any other libraries."
   ]
  },
  {
   "cell_type": "code",
   "execution_count": 2,
   "id": "a74a9c58",
   "metadata": {
    "deletable": false,
    "editable": false,
    "nbgrader": {
     "cell_type": "code",
     "checksum": "8c019ba3e83a9ad474a6a21f9cca3c21",
     "grade": false,
     "grade_id": "cell-6b90c06e05248870",
     "locked": true,
     "schema_version": 3,
     "solution": false,
     "task": false
    }
   },
   "outputs": [],
   "source": [
    "import re"
   ]
  },
  {
   "cell_type": "markdown",
   "id": "f426e6b8",
   "metadata": {
    "deletable": false,
    "editable": false,
    "nbgrader": {
     "cell_type": "markdown",
     "checksum": "810f0355da30e282c0611995cc5131f8",
     "grade": false,
     "grade_id": "cell-a69385a99d5d4f96",
     "locked": true,
     "schema_version": 3,
     "solution": false,
     "task": false
    }
   },
   "source": [
    "## Question 1(20 points): \n",
    "\n",
    "-----------------------------------------\n",
    "Match everything in Column A but nothing in Column B\n",
    "\n",
    "   | Column A   |   o---------o   |  Column B |\n",
    "   |-------------|      | -----------|\n",
    "    |      somebody  |   o---------o      | luxembourg|\n",
    "|      anything |    o---------o   |  anybody|\n",
    "|      Routing    |   o---------o  |   stooge|\n",
    "|      42 test     |  o---------o  |  59 left|\n",
    "|     strategery |     o---------o     |   passport|\n",
    "| passing     |   o---------o  |testing|\n",
    "|  recovery  |o---------o | Anaheim|\n"
   ]
  },
  {
   "cell_type": "code",
   "execution_count": 3,
   "id": "da784972",
   "metadata": {
    "deletable": false,
    "nbgrader": {
     "cell_type": "code",
     "checksum": "34ce66cd75b1e062f69dc22978e26dbe",
     "grade": false,
     "grade_id": "cell-f11a2a77eb1d4a1c",
     "locked": false,
     "schema_version": 3,
     "solution": true,
     "task": false
    }
   },
   "outputs": [],
   "source": [
    "def MatchOneColumn(column):\n",
    "    # Fill in pattern = re.compile(r'')\n",
    "    # YOUR CODE HERE\n",
    "    pattern = re.compile(r'(somebody|anything|Routing|42 test|strategery|passing|recovery)')\n",
    "\n",
    "    # raise NotImplementedError()\n",
    "    return re.findall(pattern,column)"
   ]
  },
  {
   "cell_type": "code",
   "execution_count": 4,
   "id": "b31782c3",
   "metadata": {},
   "outputs": [
    {
     "name": "stdout",
     "output_type": "stream",
     "text": [
      "['somebody', 'anything', 'Routing', '42 test', 'strategery', 'passing', 'recovery']\n",
      "------------------\n",
      "You matched 7 / 7\n",
      "\n"
     ]
    }
   ],
   "source": [
    "# Check if it matches everything in Column A\n",
    "# Here you want 7/7\n",
    "column_A = 'somebody\\n anything\\n Routing\\n 42 test\\n strategery\\n passing\\n recovery\\n'\n",
    "matches_columnA = MatchOneColumn(column_A)\n",
    "print(matches_columnA)\n",
    "print(\"------------------\")\n",
    "print(\"You matched %d / 7\\n\" % len(matches_columnA))"
   ]
  },
  {
   "cell_type": "code",
   "execution_count": 5,
   "id": "8e00a2c3",
   "metadata": {},
   "outputs": [
    {
     "name": "stdout",
     "output_type": "stream",
     "text": [
      "[]\n",
      "------------------\n",
      "You matched 0 / 7\n",
      "\n"
     ]
    }
   ],
   "source": [
    "# Check if  nothing matches in Column B\n",
    "# Here you want 0/7\n",
    "column_B = 'luxembourg\\n anybody\\n stooge\\n 59 left\\n passport\\n testing\\n Anaheim\\n'\n",
    "matches_columnB = MatchOneColumn(column_B)\n",
    "print(matches_columnB)\n",
    "print(\"------------------\")\n",
    "print(\"You matched %d / 7\\n\" % len(matches_columnB))\n"
   ]
  },
  {
   "cell_type": "markdown",
   "id": "6e2739eb",
   "metadata": {
    "deletable": false,
    "editable": false,
    "nbgrader": {
     "cell_type": "markdown",
     "checksum": "506fb496247f011a309bed8b084b475a",
     "grade": false,
     "grade_id": "cell-e47d48f5e0a2d9df",
     "locked": true,
     "schema_version": 3,
     "solution": false,
     "task": false
    }
   },
   "source": [
    "## Question 2 (30 points):\n",
    "\n",
    "In this question you will be trying to capture certain parts of text in Markdown. If you have not seen it before, it is a way that is used to (lightly) format text. Notice that this also applies to Jupyter Notebooks - since cells can support Markdown. The goal is to capture all instances of bold text (which appears between two \\*'s, so \\*\\***text**\\*\\*), or italic text which is either one \\*, as in  \\**text*\\*. \n",
    "\n",
    "You need to match all of them. You can assume that the markdown is correct (there is no \"dangling \\*\\s\")\n",
    "Also there other ways to create this type of text - your pattern should not match them. "
   ]
  },
  {
   "cell_type": "code",
   "execution_count": 6,
   "id": "9e653920",
   "metadata": {
    "deletable": false,
    "nbgrader": {
     "cell_type": "code",
     "checksum": "e4bfa344cea4b505bc8b27f96d98a3f0",
     "grade": false,
     "grade_id": "cell-56e45ae4fdba2aa0",
     "locked": false,
     "schema_version": 3,
     "solution": true,
     "task": false
    }
   },
   "outputs": [],
   "source": [
    "def LatexMatch(text):\n",
    "    # Enter pattern here\n",
    "    # YOUR CODE HERE\n",
    "    pattern = re.compile(r'(\\*\\*.+[^\\*]\\*\\*|\\*.+[^\\*]\\*)')\n",
    "    # raise NotImplementedError()\n",
    "    # No need to change this line\n",
    "    return re.findall(pattern,text)"
   ]
  },
  {
   "cell_type": "markdown",
   "id": "47091216",
   "metadata": {
    "deletable": false,
    "editable": false,
    "nbgrader": {
     "cell_type": "markdown",
     "checksum": "b7d7cf9648aeb77c0307af3d7b04fa41",
     "grade": false,
     "grade_id": "cell-3ca48fb32d5def79",
     "locked": true,
     "schema_version": 3,
     "solution": false,
     "task": false
    }
   },
   "source": [
    "### Test Case:\n",
    "\n",
    "##### Alexander Grothendieck\n",
    "\n",
    "**Alexander Grothendieck** 28 March 1928 – 13 November 2014) was a *mathematician* who became the leading figure\n",
    "in the creation of modern **algebraic geometry**. His research extended the scope of the field and added elements\n",
    "of *commutative algebra, homological algebra, sheaf theory* and *category theory* to its foundations, while his\n",
    "so-called _relative_ perspective led to revolutionary advances in many areas of pure mathematics. He is \n",
    "considered by many to be the *greatest mathematician of the 20th century*.\n"
   ]
  },
  {
   "cell_type": "code",
   "execution_count": 7,
   "id": "8166cece",
   "metadata": {
    "deletable": false,
    "editable": false,
    "nbgrader": {
     "cell_type": "code",
     "checksum": "e5466d2a2c0d34dfe99884d82331ee9f",
     "grade": false,
     "grade_id": "cell-821322a62f562c10",
     "locked": true,
     "schema_version": 3,
     "solution": false,
     "task": false
    }
   },
   "outputs": [
    {
     "name": "stdout",
     "output_type": "stream",
     "text": [
      "['**Alexander Grothendieck**', '*mathematician*', '**algebraic geometry**', '***greatest mathematician of the 20th century**']\n"
     ]
    }
   ],
   "source": [
    "test_text = r\"\"\"##### Alexander Grothendieck\n",
    "\n",
    "**Alexander Grothendieck** 28 March 1928 – 13 November 2014) was a *mathematician* who became the leading figure\n",
    "in the creation of modern **algebraic geometry**. His research extended the scope of the field and added elements\n",
    "of _commutative algebra, homological algebra, sheaf theory_ and _category theory_ to its foundations, while his\n",
    "so-called \"relative\" perspective led to revolutionary advances in many areas of pure mathematics. He is \n",
    "considered by many to be the ***greatest mathematician of the 20th century***.\n",
    "\"\"\"\n",
    "\n",
    "print(LatexMatch(test_text))"
   ]
  },
  {
   "cell_type": "markdown",
   "id": "d9a6209c",
   "metadata": {
    "deletable": false,
    "editable": false,
    "nbgrader": {
     "cell_type": "markdown",
     "checksum": "f88b423b43071f520046ba5ae6256653",
     "grade": false,
     "grade_id": "cell-b5eb880731fd1c38",
     "locked": true,
     "schema_version": 3,
     "solution": false,
     "task": false
    }
   },
   "source": [
    "#### Output should be:\n",
    "['**Alexander Grothendieck**', '*mathematician*', '**algebraic geometry**', '***greatest mathematician of the 20th century**']"
   ]
  },
  {
   "cell_type": "markdown",
   "id": "12834b10",
   "metadata": {
    "deletable": false,
    "editable": false,
    "nbgrader": {
     "cell_type": "markdown",
     "checksum": "7b4afb1afa9d1e70b78cf3ac97b8a138",
     "grade": false,
     "grade_id": "cell-5d6bf7621847aeae",
     "locked": true,
     "schema_version": 3,
     "solution": false,
     "task": false
    }
   },
   "source": [
    "## Question 3 (30 points):\n",
    "\n",
    "In this question, you will need to replace all of a certain part of a piece of mathematics. We most often write mathematics in LaTeX, which is similar to markdown. Just as in regular expressions, many useful commands are prefaced using the backslash, i.e. \\\\. For example to use the greek letter alpha we would write \\\\alpha. There are many other examples. We may use \\\\angle to make an angle sign, or \\\\dom(f) to write the dom of the function f. Your task is to replace all the commands with the command \\\\universal. \n",
    "\n",
    "The operator may be followed by a space, bracket,  mathematical operation (plus, minus, multiplication, division, exponentiation), or other operator. \n",
    "\n",
    "When doing the replacing, \n"
   ]
  },
  {
   "cell_type": "code",
   "execution_count": 8,
   "id": "54033a62",
   "metadata": {
    "deletable": false,
    "nbgrader": {
     "cell_type": "code",
     "checksum": "df12dc70d02348ab0171133a76fd7311",
     "grade": false,
     "grade_id": "cell-db670dbef019f86c",
     "locked": false,
     "schema_version": 3,
     "solution": true,
     "task": false
    }
   },
   "outputs": [],
   "source": [
    "def DateReplace(text):\n",
    "    # Enter pattern here\n",
    "    # YOUR CODE HERE\n",
    "    pattern = re.compile(r'\\\\[a-z_]+')\n",
    "    # raise NotImplementedError()\n",
    "    output = []\n",
    "    # replace the above command with the \n",
    "    # command for replacing all instances of pattern\n",
    "    # ------------------\n",
    "    output =  re.sub(pattern,r\"\\\\universal\",text)\n",
    "    return output "
   ]
  },
  {
   "cell_type": "markdown",
   "id": "83266098",
   "metadata": {
    "deletable": false,
    "editable": false,
    "nbgrader": {
     "cell_type": "markdown",
     "checksum": "5a0cb28d63c9b08bad308c3e0b7ca5d6",
     "grade": false,
     "grade_id": "cell-df92138d55490a89",
     "locked": true,
     "schema_version": 3,
     "solution": false,
     "task": false
    }
   },
   "source": [
    "### Test Case:\n",
    "````\n",
    "The homology of the space \\$\\mathcal{X}\\$ can be given \n",
    "by the quotient group of the chain group denoted by \\$H_k(\\mathcal{X})\\$ where \n",
    "$k$ denotes the dimension of the invariant. This is a graded group so for\n",
    "berevity we write\n",
    "\n",
    "\\$\\$H(\\\\mathcal{X}) = \\bigoplus\\limits_{k=0}^\\infty  H_k(\\mathcal{X})\\$\\$\n",
    "\n",
    "The definition is given by\n",
    "\n",
    "\\$\\$ H_k(\\mathcal{X})= \\frac{\\ker \\partial_k}{\\im \\partial_{k+1}}\\$\\$\n",
    "\n",
    "where $\\partial_k$ is an endomorphism on the graded chain group\n",
    "\\$\\$ \\partial_k : C_k \\rightarrow C_{k-1}$$ \n",
    "\n",
    "We denote the homology of a point by  \\$\\*\\$, where there is a single generator\n",
    "in degree 0, i.e. \\$H_0 \\cong \\mathbb{Z}\\$\n",
    "````\n",
    "\n",
    "#### which looks like\n",
    "The homology of the space \\$\\mathcal{X}\\$ can be given \n",
    "by the quotient group of the chain group denoted by \\$H_k(\\mathcal{X})\\$ where \n",
    "$k$ denotes the dimension of the invariant. This is a graded group so for\n",
    "berevity we write\n",
    "\n",
    "\\$\\$H(\\\\mathcal{X}) = \\bigoplus\\limits_{k=0}^\\infty  H_k(\\mathcal{X})\\$\\$\n",
    "\n",
    "The definition is given by\n",
    "\n",
    "\\$\\$ H_k(\\mathcal{X})= \\frac{\\ker \\partial_k}{\\mathrm{im} \\partial_{k+1}}\\$\\$\n",
    "\n",
    "where $\\partial_k$ is an endomorphism on the graded chain group\n",
    "\\$\\$ \\partial_k : C_k \\rightarrow C_{k-1}$$ \n",
    "\n",
    "We denote the homology of a point by  \\$\\*\\$, where there is a single generator\n",
    "in degree 0, i.e. \\$H_0 \\cong \\mathbb{Z}\\$"
   ]
  },
  {
   "cell_type": "code",
   "execution_count": 9,
   "id": "38608c8d",
   "metadata": {
    "deletable": false,
    "editable": false,
    "nbgrader": {
     "cell_type": "code",
     "checksum": "e711934116e0a9277f1c1d37ca0a8ef3",
     "grade": false,
     "grade_id": "cell-e0f87f140e87a278",
     "locked": true,
     "schema_version": 3,
     "solution": false,
     "task": false
    }
   },
   "outputs": [
    {
     "name": "stdout",
     "output_type": "stream",
     "text": [
      "The homology of the space $\\universal{X}$ can be given \n",
      "by the quotient group of the chain group denoted by $H_k(\\universal{X})$ where \n",
      "$k$ denotes the dimension of the invariant. This is a graded group so for\n",
      "berevity we write\n",
      "\n",
      "$$H(\\universal{X}) = \\universal\\universal{k=0}^\\universal  H_k(\\universal{X})$$\n",
      "\n",
      "The definition is given by\n",
      "\n",
      "$$ H_k(\\universal{X})= \\universal{\\universal \\universal}{\\universal \\universal{k+1}}$$\n",
      "\n",
      "where $\\universal$ is an endomorphism on the graded chain group\n",
      "$$ \\universal : C_k \\universal C_{k-1}$$ \n",
      "\n",
      "We denote the homology of a point by  $*$, where there is a single generator\n",
      "in degree 0, i.e. $H_0 \\universal \\universal{Z}$\n"
     ]
    }
   ],
   "source": [
    "test_text=r\"\"\"The homology of the space $\\mathcal{X}$ can be given \n",
    "by the quotient group of the chain group denoted by $H_k(\\mathcal{X})$ where \n",
    "$k$ denotes the dimension of the invariant. This is a graded group so for\n",
    "berevity we write\n",
    "\n",
    "$$H(\\mathcal{X}) = \\bigoplus\\limits_{k=0}^\\infty  H_k(\\mathcal{X})$$\n",
    "\n",
    "The definition is given by\n",
    "\n",
    "$$ H_k(\\mathcal{X})= \\frac{\\ker \\partial_k}{\\im \\partial_{k+1}}$$\n",
    "\n",
    "where $\\partial_k$ is an endomorphism on the graded chain group\n",
    "$$ \\partial_k : C_k \\rightarrow C_{k-1}$$ \n",
    "\n",
    "We denote the homology of a point by  $*$, where there is a single generator\n",
    "in degree 0, i.e. $H_0 \\cong \\mathbb{Z}$\"\"\"\n",
    "print(DateReplace(test_text))"
   ]
  },
  {
   "cell_type": "markdown",
   "id": "12bca4a7",
   "metadata": {
    "deletable": false,
    "editable": false,
    "nbgrader": {
     "cell_type": "markdown",
     "checksum": "88d70e53fc309456a52ad2ac447fe4e0",
     "grade": false,
     "grade_id": "cell-c7d5bb7be207c619",
     "locked": true,
     "schema_version": 3,
     "solution": false,
     "task": false
    }
   },
   "source": [
    "#### Output should be:\n",
    "````\n",
    "The homology of the space $\\universal{X}$ can be given \n",
    "by the quotient group of the chain group denoted by $H_k(\\universal{X})$ where \n",
    "$k$ denotes the dimension of the invariant. This is a graded group so for\n",
    "berevity we write\n",
    "\n",
    "$$H(\\universal{X}) = \\universal\\universal{k=0}^\\universal  H_k(\\universal{X})$$\n",
    "\n",
    "The definition is given by\n",
    "\n",
    "$$ H_k(\\universal{X})= \\universal{\\universal \\universal}{\\universal \\universal{k+1}}$$\n",
    "\n",
    "where $\\universal$ is an endomorphism on the graded chain group\n",
    "$$ \\universal : C_k \\universal C_{k-1}$$ \n",
    "\n",
    "We denote the homology of a point by  $*$, where there is a single generator\n",
    "in degree 0, i.e. $H_0 \\universal \\universal{Z}$\n",
    "````"
   ]
  }
 ],
 "metadata": {
  "kernelspec": {
   "display_name": "Python 3 (ipykernel)",
   "language": "python",
   "name": "python3"
  },
  "language_info": {
   "codemirror_mode": {
    "name": "ipython",
    "version": 3
   },
   "file_extension": ".py",
   "mimetype": "text/x-python",
   "name": "python",
   "nbconvert_exporter": "python",
   "pygments_lexer": "ipython3",
   "version": "3.9.18"
  }
 },
 "nbformat": 4,
 "nbformat_minor": 5
}
