{
 "cells": [
  {
   "cell_type": "markdown",
   "id": "b90d19b1",
   "metadata": {},
   "source": [
    "Before you turn this problem in, make sure everything runs as expected. First, **restart the kernel** (in the menubar, select Kernel$\\rightarrow$Restart) and then **run all cells** (in the menubar, select Cell$\\rightarrow$Run All).\n",
    "\n",
    "Make sure you fill in any place that says `YOUR CODE HERE` or \"YOUR ANSWER HERE\", as well as your name and collaborators below:"
   ]
  },
  {
   "cell_type": "code",
   "execution_count": 1,
   "id": "ab021ed2",
   "metadata": {},
   "outputs": [],
   "source": [
    "STUDENT_ID = \"\""
   ]
  },
  {
   "cell_type": "markdown",
   "id": "9ea3ceca",
   "metadata": {},
   "source": [
    "---"
   ]
  },
  {
   "cell_type": "markdown",
   "id": "a5f73f37",
   "metadata": {
    "deletable": false,
    "editable": false,
    "nbgrader": {
     "cell_type": "markdown",
     "checksum": "661d919b5f2aaf89967efa376174451d",
     "grade": false,
     "grade_id": "cell-7fd27c133f70147e",
     "locked": true,
     "schema_version": 3,
     "solution": false,
     "task": false
    }
   },
   "source": [
    "MTH765P - Coursework 1 (new)\n",
    "This is a template notebook for the first assignment  MTH765P,\n",
    "Closely follow the instructions in this template in order \n",
    "to complete the assessment and to obtain full marks. Please only\n",
    "modify cells where you are instructed to do so. Failure to comply\n",
    "may result in unexpected errors that can lead to mark deductions.\n",
    "\n",
    "Author: Primoz Skraba\n",
    "\n",
    "\n",
    "As usual, we begin by loading the necessary libraries. You should not \n",
    "import any other libraries."
   ]
  },
  {
   "cell_type": "code",
   "execution_count": 2,
   "id": "a74a9c58",
   "metadata": {
    "deletable": false,
    "editable": false,
    "nbgrader": {
     "cell_type": "code",
     "checksum": "8c019ba3e83a9ad474a6a21f9cca3c21",
     "grade": false,
     "grade_id": "cell-6b90c06e05248870",
     "locked": true,
     "schema_version": 3,
     "solution": false,
     "task": false
    }
   },
   "outputs": [],
   "source": [
    "import re"
   ]
  },
  {
   "cell_type": "markdown",
   "id": "f426e6b8",
   "metadata": {
    "deletable": false,
    "editable": false,
    "nbgrader": {
     "cell_type": "markdown",
     "checksum": "810f0355da30e282c0611995cc5131f8",
     "grade": false,
     "grade_id": "cell-a69385a99d5d4f96",
     "locked": true,
     "schema_version": 3,
     "solution": false,
     "task": false
    }
   },
   "source": [
    "## Question 1(20 points): \n",
    "\n",
    "-----------------------------------------\n",
    "Match everything in Column A but nothing in Column B\n",
    "\n",
    "   | Column A   |   o---------o   |  Column B |\n",
    "   |-------------|      | -----------|\n",
    "    |      somebody  |   o---------o      | luxembourg|\n",
    "|      anything |    o---------o   |  anybody|\n",
    "|      Routing    |   o---------o  |   stooge|\n",
    "|      42 test     |  o---------o  |  59 left|\n",
    "|     strategery |     o---------o     |   passport|\n",
    "| passing     |   o---------o  |testing|\n",
    "|  recovery  |o---------o | Anaheim|\n"
   ]
  },
  {
   "cell_type": "code",
   "execution_count": 3,
   "id": "da784972",
   "metadata": {
    "deletable": false,
    "nbgrader": {
     "cell_type": "code",
     "checksum": "34ce66cd75b1e062f69dc22978e26dbe",
     "grade": false,
     "grade_id": "cell-f11a2a77eb1d4a1c",
     "locked": false,
     "schema_version": 3,
     "solution": true,
     "task": false
    }
   },
   "outputs": [],
   "source": [
    "def MatchOneColumn(column):\n",
    "    # Fill in pattern = re.compile(r'')\n",
    "    # YOUR CODE HERE\n",
    "    raise NotImplementedError()\n",
    "    return re.findall(pattern,column)"
   ]
  },
  {
   "cell_type": "code",
   "execution_count": 4,
   "id": "b31782c3",
   "metadata": {},
   "outputs": [
    {
     "ename": "NotImplementedError",
     "evalue": "",
     "output_type": "error",
     "traceback": [
      "\u001b[0;31m---------------------------------------------------------------------------\u001b[0m",
      "\u001b[0;31mNotImplementedError\u001b[0m                       Traceback (most recent call last)",
      "Cell \u001b[0;32mIn [4], line 4\u001b[0m\n\u001b[1;32m      1\u001b[0m \u001b[38;5;66;03m# Check if it matches everything in Column A\u001b[39;00m\n\u001b[1;32m      2\u001b[0m \u001b[38;5;66;03m# Here you want 7/7\u001b[39;00m\n\u001b[1;32m      3\u001b[0m column_A \u001b[38;5;241m=\u001b[39m \u001b[38;5;124m'\u001b[39m\u001b[38;5;124msomebody\u001b[39m\u001b[38;5;130;01m\\n\u001b[39;00m\u001b[38;5;124m anything\u001b[39m\u001b[38;5;130;01m\\n\u001b[39;00m\u001b[38;5;124m Routing\u001b[39m\u001b[38;5;130;01m\\n\u001b[39;00m\u001b[38;5;124m 42 test\u001b[39m\u001b[38;5;130;01m\\n\u001b[39;00m\u001b[38;5;124m strategery\u001b[39m\u001b[38;5;130;01m\\n\u001b[39;00m\u001b[38;5;124m passing\u001b[39m\u001b[38;5;130;01m\\n\u001b[39;00m\u001b[38;5;124m recovery\u001b[39m\u001b[38;5;130;01m\\n\u001b[39;00m\u001b[38;5;124m'\u001b[39m\n\u001b[0;32m----> 4\u001b[0m matches_columnA \u001b[38;5;241m=\u001b[39m MatchOneColumn(column_A)\n\u001b[1;32m      5\u001b[0m \u001b[38;5;28mprint\u001b[39m(matches_columnA)\n\u001b[1;32m      6\u001b[0m \u001b[38;5;28mprint\u001b[39m(\u001b[38;5;124m\"\u001b[39m\u001b[38;5;124m------------------\u001b[39m\u001b[38;5;124m\"\u001b[39m)\n",
      "Cell \u001b[0;32mIn [3], line 4\u001b[0m, in \u001b[0;36mMatchOneColumn\u001b[0;34m(column)\u001b[0m\n\u001b[1;32m      1\u001b[0m \u001b[38;5;28;01mdef\u001b[39;00m \u001b[38;5;21mMatchOneColumn\u001b[39m(column):\n\u001b[1;32m      2\u001b[0m     \u001b[38;5;66;03m# Fill in pattern = re.compile(r'')\u001b[39;00m\n\u001b[1;32m      3\u001b[0m     \u001b[38;5;66;03m# YOUR CODE HERE\u001b[39;00m\n\u001b[0;32m----> 4\u001b[0m     \u001b[38;5;28;01mraise\u001b[39;00m \u001b[38;5;167;01mNotImplementedError\u001b[39;00m()\n\u001b[1;32m      5\u001b[0m     \u001b[38;5;28;01mreturn\u001b[39;00m re\u001b[38;5;241m.\u001b[39mfindall(pattern,column)\n",
      "\u001b[0;31mNotImplementedError\u001b[0m: "
     ]
    }
   ],
   "source": [
    "# Check if it matches everything in Column A\n",
    "# Here you want 7/7\n",
    "column_A = 'somebody\\n anything\\n Routing\\n 42 test\\n strategery\\n passing\\n recovery\\n'\n",
    "matches_columnA = MatchOneColumn(column_A)\n",
    "print(matches_columnA)\n",
    "print(\"------------------\")\n",
    "print(\"You matched %d / 7\\n\" % len(matches_columnA))"
   ]
  },
  {
   "cell_type": "code",
   "execution_count": null,
   "id": "8e00a2c3",
   "metadata": {},
   "outputs": [],
   "source": [
    "# Check if  nothing matches in Column B\n",
    "# Here you want 0/7\n",
    "column_B = 'luxembourg\\n anybody\\n stooge\\n 59 left\\n passport\\n testing\\n Anaheim\\n'\n",
    "matches_columnB = MatchOneColumn(column_B)\n",
    "print(matches_columnB)\n",
    "print(\"------------------\")\n",
    "print(\"You matched %d / 7\\n\" % len(matches_columnB))\n"
   ]
  },
  {
   "cell_type": "code",
   "execution_count": null,
   "id": "80980968",
   "metadata": {
    "deletable": false,
    "editable": false,
    "nbgrader": {
     "cell_type": "code",
     "checksum": "01bfd4dff832b8a065241badea455bf5",
     "grade": true,
     "grade_id": "cell-bbdfe86303a4135c",
     "locked": true,
     "points": 7,
     "schema_version": 3,
     "solution": false,
     "task": false
    }
   },
   "outputs": [],
   "source": []
  },
  {
   "cell_type": "code",
   "execution_count": null,
   "id": "3cb453c2",
   "metadata": {
    "deletable": false,
    "editable": false,
    "nbgrader": {
     "cell_type": "code",
     "checksum": "8b2b29128e017525b6005adc2f4a2b61",
     "grade": true,
     "grade_id": "cell-3aa629a44fed9992",
     "locked": true,
     "points": 7,
     "schema_version": 3,
     "solution": false,
     "task": false
    }
   },
   "outputs": [],
   "source": []
  },
  {
   "cell_type": "markdown",
   "id": "6e2739eb",
   "metadata": {
    "deletable": false,
    "editable": false,
    "nbgrader": {
     "cell_type": "markdown",
     "checksum": "506fb496247f011a309bed8b084b475a",
     "grade": false,
     "grade_id": "cell-e47d48f5e0a2d9df",
     "locked": true,
     "schema_version": 3,
     "solution": false,
     "task": false
    }
   },
   "source": [
    "## Question 2 (30 points):\n",
    "\n",
    "In this question you will be trying to capture certain parts of text in Markdown. If you have not seen it before, it is a way that is used to (lightly) format text. Notice that this also applies to Jupyter Notebooks - since cells can support Markdown. The goal is to capture all instances of bold text (which appears between two \\*'s, so \\*\\***text**\\*\\*), or italic text which is either one \\*, as in  \\**text*\\*. \n",
    "\n",
    "You need to match all of them. You can assume that the markdown is correct (there is no \"dangling \\*\\s\")\n",
    "Also there other ways to create this type of text - your pattern should not match them. "
   ]
  },
  {
   "cell_type": "code",
   "execution_count": null,
   "id": "9e653920",
   "metadata": {
    "deletable": false,
    "nbgrader": {
     "cell_type": "code",
     "checksum": "e4bfa344cea4b505bc8b27f96d98a3f0",
     "grade": false,
     "grade_id": "cell-56e45ae4fdba2aa0",
     "locked": false,
     "schema_version": 3,
     "solution": true,
     "task": false
    }
   },
   "outputs": [],
   "source": [
    "def LatexMatch(text):\n",
    "    # Enter pattern here\n",
    "    # pattern = re.compile(r'')\n",
    "    # YOUR CODE HERE\n",
    "    raise NotImplementedError()\n",
    "    # No need to change this line\n",
    "    return re.findall(pattern,text)"
   ]
  },
  {
   "cell_type": "markdown",
   "id": "47091216",
   "metadata": {
    "deletable": false,
    "editable": false,
    "nbgrader": {
     "cell_type": "markdown",
     "checksum": "b7d7cf9648aeb77c0307af3d7b04fa41",
     "grade": false,
     "grade_id": "cell-3ca48fb32d5def79",
     "locked": true,
     "schema_version": 3,
     "solution": false,
     "task": false
    }
   },
   "source": [
    "### Test Case:\n",
    "\n",
    "##### Alexander Grothendieck\n",
    "\n",
    "**Alexander Grothendieck** 28 March 1928 – 13 November 2014) was a *mathematician* who became the leading figure\n",
    "in the creation of modern **algebraic geometry**. His research extended the scope of the field and added elements\n",
    "of *commutative algebra, homological algebra, sheaf theory* and *category theory* to its foundations, while his\n",
    "so-called _relative_ perspective led to revolutionary advances in many areas of pure mathematics. He is \n",
    "considered by many to be the *greatest mathematician of the 20th century*.\n"
   ]
  },
  {
   "cell_type": "code",
   "execution_count": null,
   "id": "8166cece",
   "metadata": {
    "deletable": false,
    "editable": false,
    "nbgrader": {
     "cell_type": "code",
     "checksum": "e5466d2a2c0d34dfe99884d82331ee9f",
     "grade": false,
     "grade_id": "cell-821322a62f562c10",
     "locked": true,
     "schema_version": 3,
     "solution": false,
     "task": false
    }
   },
   "outputs": [],
   "source": [
    "test_text = r\"\"\"##### Alexander Grothendieck\n",
    "\n",
    "**Alexander Grothendieck** 28 March 1928 – 13 November 2014) was a *mathematician* who became the leading figure\n",
    "in the creation of modern **algebraic geometry**. His research extended the scope of the field and added elements\n",
    "of _commutative algebra, homological algebra, sheaf theory_ and _category theory_ to its foundations, while his\n",
    "so-called \"relative\" perspective led to revolutionary advances in many areas of pure mathematics. He is \n",
    "considered by many to be the ***greatest mathematician of the 20th century***.\n",
    "\n",
    "\"\"\"\n",
    "\n",
    "print(LatexMatch(test_text))"
   ]
  },
  {
   "cell_type": "markdown",
   "id": "d9a6209c",
   "metadata": {
    "deletable": false,
    "editable": false,
    "nbgrader": {
     "cell_type": "markdown",
     "checksum": "f88b423b43071f520046ba5ae6256653",
     "grade": false,
     "grade_id": "cell-b5eb880731fd1c38",
     "locked": true,
     "schema_version": 3,
     "solution": false,
     "task": false
    }
   },
   "source": [
    "#### Output should be:\n",
    "['**Alexander Grothendieck**', '*mathematician*', '**algebraic geometry**', '***greatest mathematician of the 20th century**']"
   ]
  },
  {
   "cell_type": "code",
   "execution_count": null,
   "id": "0d95e122",
   "metadata": {
    "deletable": false,
    "editable": false,
    "nbgrader": {
     "cell_type": "code",
     "checksum": "eb2f89f42723ada410336d476b79447f",
     "grade": true,
     "grade_id": "cell-75fc9cc0958a5f0e",
     "locked": true,
     "points": 4,
     "schema_version": 3,
     "solution": false,
     "task": false
    }
   },
   "outputs": [],
   "source": []
  },
  {
   "cell_type": "code",
   "execution_count": null,
   "id": "82f6d16f",
   "metadata": {
    "deletable": false,
    "editable": false,
    "nbgrader": {
     "cell_type": "code",
     "checksum": "5412dd7540845c205e6a0cff52895965",
     "grade": true,
     "grade_id": "cell-3545c6f2f0b346c2",
     "locked": true,
     "points": 3,
     "schema_version": 3,
     "solution": false,
     "task": false
    }
   },
   "outputs": [],
   "source": []
  },
  {
   "cell_type": "code",
   "execution_count": null,
   "id": "0c615d49",
   "metadata": {
    "deletable": false,
    "editable": false,
    "nbgrader": {
     "cell_type": "code",
     "checksum": "aefe592f2c960f2a545075ac254e9e47",
     "grade": true,
     "grade_id": "cell-448bd0a5d99aba01",
     "locked": true,
     "points": 7,
     "schema_version": 3,
     "solution": false,
     "task": false
    }
   },
   "outputs": [],
   "source": []
  },
  {
   "cell_type": "markdown",
   "id": "12834b10",
   "metadata": {
    "deletable": false,
    "editable": false,
    "nbgrader": {
     "cell_type": "markdown",
     "checksum": "7b4afb1afa9d1e70b78cf3ac97b8a138",
     "grade": false,
     "grade_id": "cell-5d6bf7621847aeae",
     "locked": true,
     "schema_version": 3,
     "solution": false,
     "task": false
    }
   },
   "source": [
    "## Question 3 (30 points):\n",
    "\n",
    "In this question, you will need to replace all of a certain part of a piece of mathematics. We most often write mathematics in LaTeX, which is similar to markdown. Just as in regular expressions, many useful commands are prefaced using the backslash, i.e. \\\\. For example to use the greek letter alpha we would write \\\\alpha. There are many other examples. We may use \\\\angle to make an angle sign, or \\\\dom(f) to write the dom of the function f. Your task is to replace all the commands with the command \\\\universal. \n",
    "\n",
    "The operator may be followed by a space, bracket,  mathematical operation (plus, minus, multiplication, division, exponentiation), or other operator. \n",
    "\n",
    "When doing the replacing, \n"
   ]
  },
  {
   "cell_type": "code",
   "execution_count": null,
   "id": "54033a62",
   "metadata": {
    "deletable": false,
    "nbgrader": {
     "cell_type": "code",
     "checksum": "df12dc70d02348ab0171133a76fd7311",
     "grade": false,
     "grade_id": "cell-db670dbef019f86c",
     "locked": false,
     "schema_version": 3,
     "solution": true,
     "task": false
    }
   },
   "outputs": [],
   "source": [
    "def DateReplace(text):\n",
    "    # Enter pattern here\n",
    "    # pattern = re.compile(r'')\n",
    "    # YOUR CODE HERE\n",
    "    raise NotImplementedError()\n",
    "    output = []\n",
    "    # replace the above command with the \n",
    "    # command for replacing all instances of pattern\n",
    "    # ------------------\n",
    "    output =  re.sub(pattern,r\"\\\\universal\",text)\n",
    "    return output "
   ]
  },
  {
   "cell_type": "markdown",
   "id": "83266098",
   "metadata": {
    "deletable": false,
    "editable": false,
    "nbgrader": {
     "cell_type": "markdown",
     "checksum": "5a0cb28d63c9b08bad308c3e0b7ca5d6",
     "grade": false,
     "grade_id": "cell-df92138d55490a89",
     "locked": true,
     "schema_version": 3,
     "solution": false,
     "task": false
    }
   },
   "source": [
    "### Test Case:\n",
    "````\n",
    "The homology of the space \\$\\mathcal{X}\\$ can be given \n",
    "by the quotient group of the chain group denoted by \\$H_k(\\mathcal{X})\\$ where \n",
    "$k$ denotes the dimension of the invariant. This is a graded group so for\n",
    "berevity we write\n",
    "\n",
    "\\$\\$H(\\\\mathcal{X}) = \\bigoplus\\limits_{k=0}^\\infty  H_k(\\mathcal{X})\\$\\$\n",
    "\n",
    "The definition is given by\n",
    "\n",
    "\\$\\$ H_k(\\mathcal{X})= \\frac{\\ker \\partial_k}{\\im \\partial_{k+1}}\\$\\$\n",
    "\n",
    "where $\\partial_k$ is an endomorphism on the graded chain group\n",
    "\\$\\$ \\partial_k : C_k \\rightarrow C_{k-1}$$ \n",
    "\n",
    "We denote the homology of a point by  \\$\\*\\$, where there is a single generator\n",
    "in degree 0, i.e. \\$H_0 \\cong \\mathbb{Z}\\$\n",
    "````\n",
    "\n",
    "#### which looks like\n",
    "The homology of the space \\$\\mathcal{X}\\$ can be given \n",
    "by the quotient group of the chain group denoted by \\$H_k(\\mathcal{X})\\$ where \n",
    "$k$ denotes the dimension of the invariant. This is a graded group so for\n",
    "berevity we write\n",
    "\n",
    "\\$\\$H(\\\\mathcal{X}) = \\bigoplus\\limits_{k=0}^\\infty  H_k(\\mathcal{X})\\$\\$\n",
    "\n",
    "The definition is given by\n",
    "\n",
    "\\$\\$ H_k(\\mathcal{X})= \\frac{\\ker \\partial_k}{\\mathrm{im} \\partial_{k+1}}\\$\\$\n",
    "\n",
    "where $\\partial_k$ is an endomorphism on the graded chain group\n",
    "\\$\\$ \\partial_k : C_k \\rightarrow C_{k-1}$$ \n",
    "\n",
    "We denote the homology of a point by  \\$\\*\\$, where there is a single generator\n",
    "in degree 0, i.e. \\$H_0 \\cong \\mathbb{Z}\\$"
   ]
  },
  {
   "cell_type": "code",
   "execution_count": null,
   "id": "38608c8d",
   "metadata": {
    "deletable": false,
    "editable": false,
    "nbgrader": {
     "cell_type": "code",
     "checksum": "e711934116e0a9277f1c1d37ca0a8ef3",
     "grade": false,
     "grade_id": "cell-e0f87f140e87a278",
     "locked": true,
     "schema_version": 3,
     "solution": false,
     "task": false
    }
   },
   "outputs": [],
   "source": [
    "test_text=r\"\"\"The homology of the space $\\mathcal{X}$ can be given \n",
    "by the quotient group of the chain group denoted by $H_k(\\mathcal{X})$ where \n",
    "$k$ denotes the dimension of the invariant. This is a graded group so for\n",
    "berevity we write\n",
    "\n",
    "$$H(\\mathcal{X}) = \\bigoplus\\limits_{k=0}^\\infty  H_k(\\mathcal{X})$$\n",
    "\n",
    "The definition is given by\n",
    "\n",
    "$$ H_k(\\mathcal{X})= \\frac{\\ker \\partial_k}{\\im \\partial_{k+1}}$$\n",
    "\n",
    "where $\\partial_k$ is an endomorphism on the graded chain group\n",
    "$$ \\partial_k : C_k \\rightarrow C_{k-1}$$ \n",
    "\n",
    "We denote the homology of a point by  $*$, where there is a single generator\n",
    "in degree 0, i.e. $H_0 \\cong \\mathbb{Z}$\"\"\"\n",
    "print(DateReplace(test_text))"
   ]
  },
  {
   "cell_type": "markdown",
   "id": "12bca4a7",
   "metadata": {
    "deletable": false,
    "editable": false,
    "nbgrader": {
     "cell_type": "markdown",
     "checksum": "88d70e53fc309456a52ad2ac447fe4e0",
     "grade": false,
     "grade_id": "cell-c7d5bb7be207c619",
     "locked": true,
     "schema_version": 3,
     "solution": false,
     "task": false
    }
   },
   "source": [
    "#### Output should be:\n",
    "````\n",
    "The homology of the space $\\universal{X}$ can be given \n",
    "by the quotient group of the chain group denoted by $H_k(\\universal{X})$ where \n",
    "$k$ denotes the dimension of the invariant. This is a graded group so for\n",
    "berevity we write\n",
    "\n",
    "$$H(\\universal{X}) = \\universal\\universal{k=0}^\\universal  H_k(\\universal{X})$$\n",
    "\n",
    "The definition is given by\n",
    "\n",
    "$$ H_k(\\universal{X})= \\universal{\\universal \\universal}{\\universal \\universal{k+1}}$$\n",
    "\n",
    "where $\\universal$ is an endomorphism on the graded chain group\n",
    "$$ \\universal : C_k \\universal C_{k-1}$$ \n",
    "\n",
    "We denote the homology of a point by  $*$, where there is a single generator\n",
    "in degree 0, i.e. $H_0 \\universal \\universal{Z}$\n",
    "````"
   ]
  },
  {
   "cell_type": "code",
   "execution_count": null,
   "id": "a8b768b8",
   "metadata": {
    "deletable": false,
    "editable": false,
    "nbgrader": {
     "cell_type": "code",
     "checksum": "ae8cfdeb041fd1cb700fef56d180113d",
     "grade": true,
     "grade_id": "cell-4bf9958d78641d5e",
     "locked": true,
     "points": 18,
     "schema_version": 3,
     "solution": false,
     "task": false
    }
   },
   "outputs": [],
   "source": []
  },
  {
   "cell_type": "code",
   "execution_count": null,
   "id": "f868e3d5",
   "metadata": {
    "deletable": false,
    "editable": false,
    "nbgrader": {
     "cell_type": "code",
     "checksum": "0f1319563a2798c63d0a239b8364281f",
     "grade": true,
     "grade_id": "cell-b66a7e86f79fcfdf",
     "locked": true,
     "points": 17,
     "schema_version": 3,
     "solution": false,
     "task": false
    }
   },
   "outputs": [],
   "source": []
  },
  {
   "cell_type": "code",
   "execution_count": null,
   "id": "b62650e7",
   "metadata": {
    "deletable": false,
    "editable": false,
    "nbgrader": {
     "cell_type": "code",
     "checksum": "a5e7f3a2472df2eeec317b663c93dd91",
     "grade": true,
     "grade_id": "cell-de5d1a61f9f09fab",
     "locked": true,
     "points": 25,
     "schema_version": 3,
     "solution": false,
     "task": false
    }
   },
   "outputs": [],
   "source": []
  },
  {
   "cell_type": "code",
   "execution_count": null,
   "id": "6b56c712",
   "metadata": {},
   "outputs": [],
   "source": []
  }
 ],
 "metadata": {
  "kernelspec": {
   "display_name": "Python 3 (ipykernel)",
   "language": "python",
   "name": "python3"
  },
  "language_info": {
   "codemirror_mode": {
    "name": "ipython",
    "version": 3
   },
   "file_extension": ".py",
   "mimetype": "text/x-python",
   "name": "python",
   "nbconvert_exporter": "python",
   "pygments_lexer": "ipython3",
   "version": "3.10.6"
  }
 },
 "nbformat": 4,
 "nbformat_minor": 5
}
