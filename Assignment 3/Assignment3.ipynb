{
 "cells": [
  {
   "cell_type": "markdown",
   "id": "2aba8197",
   "metadata": {},
   "source": [
    "Before you turn this problem in, make sure everything runs as expected. First, **restart the kernel** (in the menubar, select Kernel$\\rightarrow$Restart) and then **run all cells** (in the menubar, select Cell$\\rightarrow$Run All).\n",
    "\n",
    "Make sure you fill in any place that says `YOUR CODE HERE` or \"YOUR ANSWER HERE\", as well as your name and collaborators below:"
   ]
  },
  {
   "cell_type": "code",
   "execution_count": null,
   "id": "a8f417e4",
   "metadata": {},
   "outputs": [],
   "source": [
    "NAME = \"Viktor Penchev\"\n",
    "STUDENTID = \"230966576\""
   ]
  },
  {
   "cell_type": "markdown",
   "id": "0dd64fb9",
   "metadata": {},
   "source": [
    "---"
   ]
  },
  {
   "cell_type": "markdown",
   "id": "5367f9ce",
   "metadata": {
    "deletable": false,
    "editable": false,
    "nbgrader": {
     "cell_type": "markdown",
     "checksum": "5e51252ff7b3be970ac91b3c61426442",
     "grade": false,
     "grade_id": "cell-125b2f808476ac23",
     "locked": true,
     "schema_version": 3,
     "solution": false,
     "task": false
    }
   },
   "source": [
    "# MTH765P - Coursework 3\n",
    "This is a template notebook for the third coursework assignment for MTH765P,\n",
    "Closely follow the instructions in this template in order \n",
    "to complete the assessment and to obtain full marks. Please only\n",
    "modify cells where you are instructed to do so. Note that you may add other cells.\n",
    "Failure to comply may result in unexpected errors that can lead to mark deductions. **Please submit only this file, without changing its name to QMPlus.**\n",
    "\n",
    "\n",
    "##### DO NOT FORGET TO REMOVE THE LINE  _raise NotImplementedError()_ after you answer the question.\n",
    "\n",
    "Author: Primoz Skraba\n",
    "\n",
    "\n",
    "As usual, we begin by loading the necessary libraries. You should not \n",
    "import any other libraries."
   ]
  },
  {
   "cell_type": "code",
   "execution_count": 1,
   "id": "512d5082",
   "metadata": {
    "deletable": false,
    "editable": false,
    "nbgrader": {
     "cell_type": "code",
     "checksum": "0ea08a79a14e0bced16f1bc30ae6da47",
     "grade": false,
     "grade_id": "cell-80475a4d32a8b7f6",
     "locked": true,
     "schema_version": 3,
     "solution": false,
     "task": false
    }
   },
   "outputs": [],
   "source": [
    "import pandas as pd\n",
    "import numpy as np\n",
    "import matplotlib.pyplot as plt"
   ]
  },
  {
   "cell_type": "markdown",
   "id": "cbf1a479",
   "metadata": {
    "deletable": false,
    "editable": false,
    "nbgrader": {
     "cell_type": "markdown",
     "checksum": "fe03ac7497e49cd8324d1c9acf473014",
     "grade": false,
     "grade_id": "cell-36e272d2750a54d5",
     "locked": true,
     "schema_version": 3,
     "solution": false,
     "task": false
    }
   },
   "source": [
    "### Question 1\n",
    "---------\n",
    "---------\n",
    " \n",
    "Linear models and residuals\n",
    "\n",
    "--------\n",
    "--------\n",
    "\n",
    "Run the next cell to load the first dataset.\n",
    "\n",
    "--------\n",
    "\n",
    "\n"
   ]
  },
  {
   "cell_type": "code",
   "execution_count": 2,
   "id": "ccbe9be8",
   "metadata": {
    "deletable": false,
    "editable": false,
    "nbgrader": {
     "cell_type": "code",
     "checksum": "29ccd0f4a002aa597b5257dcfb0f9dd9",
     "grade": false,
     "grade_id": "cell-e35ad477aa18ce29",
     "locked": true,
     "schema_version": 3,
     "solution": false,
     "task": false
    }
   },
   "outputs": [
    {
     "data": {
      "text/html": [
       "<div>\n",
       "<style scoped>\n",
       "    .dataframe tbody tr th:only-of-type {\n",
       "        vertical-align: middle;\n",
       "    }\n",
       "\n",
       "    .dataframe tbody tr th {\n",
       "        vertical-align: top;\n",
       "    }\n",
       "\n",
       "    .dataframe thead th {\n",
       "        text-align: right;\n",
       "    }\n",
       "</style>\n",
       "<table border=\"1\" class=\"dataframe\">\n",
       "  <thead>\n",
       "    <tr style=\"text-align: right;\">\n",
       "      <th></th>\n",
       "      <th>x</th>\n",
       "      <th>y</th>\n",
       "    </tr>\n",
       "  </thead>\n",
       "  <tbody>\n",
       "    <tr>\n",
       "      <th>0</th>\n",
       "      <td>-1.167390</td>\n",
       "      <td>-40.099714</td>\n",
       "    </tr>\n",
       "    <tr>\n",
       "      <th>1</th>\n",
       "      <td>-1.082710</td>\n",
       "      <td>-19.151187</td>\n",
       "    </tr>\n",
       "    <tr>\n",
       "      <th>2</th>\n",
       "      <td>-1.063447</td>\n",
       "      <td>-16.397238</td>\n",
       "    </tr>\n",
       "    <tr>\n",
       "      <th>3</th>\n",
       "      <td>-1.061148</td>\n",
       "      <td>-11.336125</td>\n",
       "    </tr>\n",
       "    <tr>\n",
       "      <th>4</th>\n",
       "      <td>-0.993360</td>\n",
       "      <td>-19.188918</td>\n",
       "    </tr>\n",
       "  </tbody>\n",
       "</table>\n",
       "</div>"
      ],
      "text/plain": [
       "          x          y\n",
       "0 -1.167390 -40.099714\n",
       "1 -1.082710 -19.151187\n",
       "2 -1.063447 -16.397238\n",
       "3 -1.061148 -11.336125\n",
       "4 -0.993360 -19.188918"
      ]
     },
     "execution_count": 2,
     "metadata": {},
     "output_type": "execute_result"
    }
   ],
   "source": [
    "X = pd.read_csv('data.csv',sep=' ')\n",
    "X.head()"
   ]
  },
  {
   "cell_type": "markdown",
   "id": "f23f8926",
   "metadata": {
    "deletable": false,
    "editable": false,
    "nbgrader": {
     "cell_type": "markdown",
     "checksum": "0ae67588e35f13253924667bbc2b8993",
     "grade": false,
     "grade_id": "cell-a02f9d790a1e06e5",
     "locked": true,
     "schema_version": 3,
     "solution": false,
     "task": false
    }
   },
   "source": [
    "----\n",
    "\n",
    "a.) **(2 points)** Use _numpy.polyfit()_ to fit a linear model to the data, storing the parameters into variables called _m_ and _b_ respectively for the slope and y-intercept. \n",
    "\n",
    "----"
   ]
  },
  {
   "cell_type": "code",
   "execution_count": 8,
   "id": "e8e87a79",
   "metadata": {
    "deletable": false,
    "nbgrader": {
     "cell_type": "code",
     "checksum": "440108b12843f99eb90a27c52acdacad",
     "grade": false,
     "grade_id": "cell-5d0385e8424d056d",
     "locked": false,
     "schema_version": 3,
     "solution": true,
     "task": false
    }
   },
   "outputs": [],
   "source": [
    "# YOUR CODE HERE\n",
    "coefs = np.polyfit(X['x'], X['y'], 1)\n",
    "m = coefs[0]\n",
    "b = coefs[1]"
   ]
  },
  {
   "cell_type": "code",
   "execution_count": null,
   "metadata": {},
   "outputs": [],
   "source": []
  },
  {
   "cell_type": "markdown",
   "id": "e4a7baf8",
   "metadata": {
    "deletable": false,
    "editable": false,
    "nbgrader": {
     "cell_type": "markdown",
     "checksum": "248235a8652d44d65e2082e9baf1aafe",
     "grade": false,
     "grade_id": "cell-4637557f72240df6",
     "locked": true,
     "schema_version": 3,
     "solution": false,
     "task": false
    }
   },
   "source": [
    "----\n",
    "\n",
    "b.) **(5 points)** Compute the residual of the data with respect to the model and store them in a variable called _res_\n",
    "\n",
    "----"
   ]
  },
  {
   "cell_type": "code",
   "execution_count": 10,
   "id": "0b2ade41",
   "metadata": {
    "deletable": false,
    "nbgrader": {
     "cell_type": "code",
     "checksum": "bb493beea81b90457c0161b8290a960d",
     "grade": false,
     "grade_id": "cell-bdd25af32a94f5d4",
     "locked": false,
     "schema_version": 3,
     "solution": true,
     "task": false
    }
   },
   "outputs": [
    {
     "name": "stdout",
     "output_type": "stream",
     "text": [
      "0     -24.249424\n",
      "1      -3.853320\n",
      "2      -1.225035\n",
      "3       3.821077\n",
      "4      -4.473942\n",
      "         ...    \n",
      "295   -53.038326\n",
      "296   -56.326524\n",
      "297     1.129731\n",
      "298    10.599195\n",
      "299    -4.675949\n",
      "Name: y, Length: 300, dtype: float64\n"
     ]
    }
   ],
   "source": [
    "# YOUR CODE HERE\n",
    "# Create the polynomial function\n",
    "p = np.poly1d(coefs)\n",
    "\n",
    "# Calculate the predicted values\n",
    "y_pred = p(X['x'])\n",
    "\n",
    "# Calculate the residuals\n",
    "res = X['y'] - y_pred\n",
    "\n",
    "print(res)"
   ]
  },
  {
   "cell_type": "code",
   "execution_count": null,
   "id": "179aee4c",
   "metadata": {
    "deletable": false,
    "editable": false,
    "nbgrader": {
     "cell_type": "code",
     "checksum": "f8a47d9e0ae09e06428186ce519c2033",
     "grade": true,
     "grade_id": "cell-49f5c19f12e0e32d",
     "locked": true,
     "points": 5,
     "schema_version": 3,
     "solution": false,
     "task": false
    }
   },
   "outputs": [],
   "source": []
  },
  {
   "cell_type": "markdown",
   "id": "44596de5",
   "metadata": {
    "deletable": false,
    "editable": false,
    "nbgrader": {
     "cell_type": "markdown",
     "checksum": "fcc4230b8447a590f1d0434b7a332a55",
     "grade": false,
     "grade_id": "cell-f1bed8e2f93abf15",
     "locked": true,
     "schema_version": 3,
     "solution": false,
     "task": false
    }
   },
   "source": [
    "----\n",
    "\n",
    "c.) **(4 points)** Plot an unnormalised histogram of the residuals with 30 bins\n",
    "\n",
    "----"
   ]
  },
  {
   "cell_type": "code",
   "execution_count": 24,
   "id": "141c1a8c",
   "metadata": {
    "deletable": false,
    "nbgrader": {
     "cell_type": "code",
     "checksum": "2ff10866e625d5c4eea281c17bfd2ce7",
     "grade": true,
     "grade_id": "cell-87c23e242654c4c9",
     "locked": false,
     "points": 4,
     "schema_version": 3,
     "solution": true,
     "task": false
    }
   },
   "outputs": [
    {
     "data": {
      "image/png": "[encoded data removed]",
      "text/plain": [
       "<Figure size 640x480 with 1 Axes>"
      ]
     },
     "metadata": {},
     "output_type": "display_data"
    }
   ],
   "source": [
    "# YOUR CODE HERE\n",
    "plt.hist(res, bins=30);"
   ]
  },
  {
   "cell_type": "markdown",
   "id": "94496680",
   "metadata": {
    "deletable": false,
    "editable": false,
    "nbgrader": {
     "cell_type": "markdown",
     "checksum": "5359624e8c9f50806ddbecc25c1e8b33",
     "grade": false,
     "grade_id": "cell-c04efdd669ff991e",
     "locked": true,
     "schema_version": 3,
     "solution": false,
     "task": false
    }
   },
   "source": [
    "----\n",
    "\n",
    "d.) **(4 points)** Is the linear model a good fit? (one or two sentences)\n",
    "\n",
    "----"
   ]
  },
  {
   "cell_type": "markdown",
   "id": "e6d9cbd7",
   "metadata": {
    "deletable": false,
    "nbgrader": {
     "cell_type": "markdown",
     "checksum": "01d0999dbfd9ed7e366384c396676273",
     "grade": true,
     "grade_id": "cell-042efc41467b5bb0",
     "locked": false,
     "points": 4,
     "schema_version": 3,
     "solution": true,
     "task": false
    }
   },
   "source": [
    "The residuals of the model are grouped around 0, with not many values outside [-10, 10]. "
   ]
  },
  {
   "cell_type": "markdown",
   "id": "894ffeb0",
   "metadata": {
    "deletable": false,
    "editable": false,
    "nbgrader": {
     "cell_type": "markdown",
     "checksum": "05a1390fcebc1e2f6c42f0c3810d2191",
     "grade": false,
     "grade_id": "cell-34745a4e5d2edefd",
     "locked": true,
     "schema_version": 3,
     "solution": false,
     "task": false
    }
   },
   "source": [
    "----\n",
    "\n",
    "e.) **(8 points)** Complete the function below to compute hinges of the input x, which should be set at the 30th and 70th quantile.\n",
    "\n",
    "----"
   ]
  },
  {
   "cell_type": "code",
   "execution_count": null,
   "id": "eccc8785",
   "metadata": {
    "deletable": false,
    "nbgrader": {
     "cell_type": "code",
     "checksum": "77cb03e2a804e66344d2cc0b669e0604",
     "grade": false,
     "grade_id": "cell-9a6a0df2fe278068",
     "locked": false,
     "schema_version": 3,
     "solution": true,
     "task": false
    }
   },
   "outputs": [],
   "source": [
    "def hinges(x):\n",
    "# YOUR CODE HERE\n",
    "raise NotImplementedError()\n",
    "    return lower,upper"
   ]
  },
  {
   "cell_type": "code",
   "execution_count": null,
   "id": "ff21674b",
   "metadata": {
    "deletable": false,
    "editable": false,
    "nbgrader": {
     "cell_type": "code",
     "checksum": "f200be8e50b6f989300a07ec49c8c2ca",
     "grade": true,
     "grade_id": "cell-b0cfceae9fee3684",
     "locked": true,
     "points": 8,
     "schema_version": 3,
     "solution": false,
     "task": false
    }
   },
   "outputs": [],
   "source": []
  },
  {
   "cell_type": "markdown",
   "id": "892890b2",
   "metadata": {
    "deletable": false,
    "editable": false,
    "nbgrader": {
     "cell_type": "markdown",
     "checksum": "fd9997c97bebb161877f75ad5d9f48bb",
     "grade": false,
     "grade_id": "cell-45a212ec3ffa89ed",
     "locked": true,
     "schema_version": 3,
     "solution": false,
     "task": false
    }
   },
   "source": [
    "----\n",
    "\n",
    "f.) **(2 points)** Use the above function to compute the inner fences of the residuals. Store the results in the variables _lower_fence_ and _upper_fence_ respectively.\n",
    "\n",
    "----"
   ]
  },
  {
   "cell_type": "code",
   "execution_count": null,
   "id": "6b7f3103",
   "metadata": {
    "deletable": false,
    "nbgrader": {
     "cell_type": "code",
     "checksum": "cc5476e1e5653435c8908eed1cc4fc4e",
     "grade": false,
     "grade_id": "cell-0c9813f56d0b5880",
     "locked": false,
     "schema_version": 3,
     "solution": true,
     "task": false
    }
   },
   "outputs": [],
   "source": [
    "# YOUR CODE HERE\n",
    "raise NotImplementedError()"
   ]
  },
  {
   "cell_type": "code",
   "execution_count": null,
   "id": "dea07d33",
   "metadata": {
    "deletable": false,
    "editable": false,
    "nbgrader": {
     "cell_type": "code",
     "checksum": "44f2e97d093034598009c082a13c2f2d",
     "grade": true,
     "grade_id": "cell-02e6a1b75db70ab7",
     "locked": true,
     "points": 2,
     "schema_version": 3,
     "solution": false,
     "task": false
    }
   },
   "outputs": [],
   "source": []
  },
  {
   "cell_type": "markdown",
   "id": "8ada1415",
   "metadata": {
    "deletable": false,
    "editable": false,
    "nbgrader": {
     "cell_type": "markdown",
     "checksum": "fa7e3984116f85eac1609072b04329f1",
     "grade": false,
     "grade_id": "cell-ab135b5db7d34a72",
     "locked": true,
     "schema_version": 3,
     "solution": false,
     "task": false
    }
   },
   "source": [
    "----\n",
    "\n",
    "g.) **(3 points)** Create a new Dataframe called _Y_ with all the values corresponding to residuals which are beyond the inner fences removed.\n",
    "\n",
    "----"
   ]
  },
  {
   "cell_type": "code",
   "execution_count": null,
   "id": "3adf9d84",
   "metadata": {
    "deletable": false,
    "nbgrader": {
     "cell_type": "code",
     "checksum": "5d32ce4bc254f7b7908a047006dd7bb2",
     "grade": false,
     "grade_id": "cell-9df6b079e5d05ed9",
     "locked": false,
     "schema_version": 3,
     "solution": true,
     "task": false
    }
   },
   "outputs": [],
   "source": [
    "# YOUR CODE HERE\n",
    "raise NotImplementedError()"
   ]
  },
  {
   "cell_type": "code",
   "execution_count": null,
   "id": "6c249563",
   "metadata": {
    "deletable": false,
    "editable": false,
    "nbgrader": {
     "cell_type": "code",
     "checksum": "bcaeb19b3cfffd8d0a0732a136dd1fe0",
     "grade": false,
     "grade_id": "cell-5587eaeba70f827e",
     "locked": true,
     "schema_version": 3,
     "solution": false,
     "task": false
    }
   },
   "outputs": [],
   "source": [
    "## Leave this cell it prints out the resulting dataframe\n",
    "display(Y)"
   ]
  },
  {
   "cell_type": "code",
   "execution_count": null,
   "id": "3be71450",
   "metadata": {
    "deletable": false,
    "editable": false,
    "nbgrader": {
     "cell_type": "code",
     "checksum": "84f35b50fe93a808cbff8455f473be67",
     "grade": true,
     "grade_id": "cell-915dde633ddedd13",
     "locked": true,
     "points": 3,
     "schema_version": 3,
     "solution": false,
     "task": false
    }
   },
   "outputs": [],
   "source": []
  },
  {
   "cell_type": "markdown",
   "id": "27b9774b",
   "metadata": {
    "deletable": false,
    "editable": false,
    "nbgrader": {
     "cell_type": "markdown",
     "checksum": "a1834ee5d5da2334bef9491bf2eede1e",
     "grade": false,
     "grade_id": "cell-6a49739aee69c15b",
     "locked": true,
     "schema_version": 3,
     "solution": false,
     "task": false
    }
   },
   "source": [
    "----\n",
    "\n",
    "h.) **(3 points)** Fit a new linear model and plot the  outliers as red points, the remainder of the points (non-outliers) as blue stars (\\*), the original model as a black line and the new model shown as a green line. Store the new model parameters in the variables _m\\_new_ and _b\\_new_.\n",
    "\n",
    "----"
   ]
  },
  {
   "cell_type": "code",
   "execution_count": null,
   "id": "319bb134",
   "metadata": {
    "deletable": false,
    "nbgrader": {
     "cell_type": "code",
     "checksum": "01684d047c9d60aec54f81965ac27f76",
     "grade": true,
     "grade_id": "cell-5f22fe29f2335091",
     "locked": false,
     "points": 3,
     "schema_version": 3,
     "solution": true,
     "task": false
    }
   },
   "outputs": [],
   "source": [
    "# YOUR CODE HERE\n",
    "raise NotImplementedError()"
   ]
  },
  {
   "cell_type": "markdown",
   "id": "8f14734b",
   "metadata": {
    "deletable": false,
    "editable": false,
    "nbgrader": {
     "cell_type": "markdown",
     "checksum": "78b5abadbd744811a499eec1088bf51e",
     "grade": false,
     "grade_id": "cell-0ac06d00a2d4e370",
     "locked": true,
     "schema_version": 3,
     "solution": false,
     "task": false
    }
   },
   "source": [
    "----\n",
    "\n",
    "i.) **(4 points)** Is what you did above different from computing (and filtering) the outliers on the original data? If so, describe how, otherwise explain why they are the same. (a few sentences)\n",
    "\n",
    "----"
   ]
  },
  {
   "cell_type": "markdown",
   "id": "63155e5d",
   "metadata": {
    "deletable": false,
    "nbgrader": {
     "cell_type": "markdown",
     "checksum": "058a4942ca765ea3e3a178a47ff50790",
     "grade": true,
     "grade_id": "cell-b16cf6f03074fa73",
     "locked": false,
     "points": 4,
     "schema_version": 3,
     "solution": true,
     "task": false
    }
   },
   "source": [
    "YOUR ANSWER HERE"
   ]
  },
  {
   "cell_type": "markdown",
   "id": "a828a5b7",
   "metadata": {
    "deletable": false,
    "editable": false,
    "nbgrader": {
     "cell_type": "markdown",
     "checksum": "90343a7b8d7118b8347eba9526587882",
     "grade": false,
     "grade_id": "cell-7c41d349c1de066d",
     "locked": true,
     "schema_version": 3,
     "solution": false,
     "task": false
    }
   },
   "source": [
    "### Question  2\n",
    "\n",
    "The next dataset is on the sales of video games. \n",
    "\n",
    "---------\n",
    "---------\n",
    "\n",
    "Use pandas to read in the file **vgsales.csv** into a dataframe called _games_\n",
    "\n"
   ]
  },
  {
   "cell_type": "code",
   "execution_count": null,
   "id": "9497311d",
   "metadata": {
    "deletable": false,
    "editable": false,
    "nbgrader": {
     "cell_type": "code",
     "checksum": "2bacb82c88e41291393cb43a1310e3f0",
     "grade": false,
     "grade_id": "cell-ef8aa8eb7eb5367b",
     "locked": true,
     "schema_version": 3,
     "solution": false,
     "task": false
    }
   },
   "outputs": [],
   "source": [
    "games = pd.read_csv('vgsales.csv')\n",
    "games.head()"
   ]
  },
  {
   "cell_type": "markdown",
   "id": "452dc588",
   "metadata": {
    "deletable": false,
    "editable": false,
    "nbgrader": {
     "cell_type": "markdown",
     "checksum": "f607016330e101a68e48abb7c707f20d",
     "grade": false,
     "grade_id": "cell-83c932189e7038a7",
     "locked": true,
     "schema_version": 3,
     "solution": false,
     "task": false
    }
   },
   "source": [
    "\n",
    " ----\n",
    " \n",
    "a.) **(3 points)** Find answers to the following questions about the dataframe.\n",
    "- How many genres are there? Store the answer in a variable called _num_genres_. \n",
    "- How many publishers are there? Store the answer in a variable _num_publishers_.\n",
    "- How many platforms are there? Store the answer in a variable _num_platforms_.\n",
    "\n",
    "----\n"
   ]
  },
  {
   "cell_type": "code",
   "execution_count": null,
   "id": "e1d49973",
   "metadata": {
    "deletable": false,
    "nbgrader": {
     "cell_type": "code",
     "checksum": "a3d5c64cfd1f2efeae1d050adbc9bd83",
     "grade": false,
     "grade_id": "cell-a895136977a65809",
     "locked": false,
     "schema_version": 3,
     "solution": true,
     "task": false
    }
   },
   "outputs": [],
   "source": [
    "# YOUR CODE HERE\n",
    "raise NotImplementedError()"
   ]
  },
  {
   "cell_type": "code",
   "execution_count": null,
   "id": "c19288af",
   "metadata": {
    "deletable": false,
    "editable": false,
    "nbgrader": {
     "cell_type": "code",
     "checksum": "6fa9030818d36a419032cdb29c0a120f",
     "grade": true,
     "grade_id": "cell-9bd4d3c9745b9b6e",
     "locked": true,
     "points": 3,
     "schema_version": 3,
     "solution": false,
     "task": false
    }
   },
   "outputs": [],
   "source": []
  },
  {
   "cell_type": "markdown",
   "id": "bdc7785f",
   "metadata": {
    "deletable": false,
    "editable": false,
    "nbgrader": {
     "cell_type": "markdown",
     "checksum": "a608f710b3ef5f85579257b54f66ac8b",
     "grade": false,
     "grade_id": "cell-92502e03ec31ec1a",
     "locked": true,
     "schema_version": 3,
     "solution": false,
     "task": false
    }
   },
   "source": [
    "----\n",
    "\n",
    "b.) **(4 points)** Create a box-and-whisker plot of Global Sales by genre.\n",
    "\n",
    "----"
   ]
  },
  {
   "cell_type": "code",
   "execution_count": null,
   "id": "e21b3947",
   "metadata": {
    "deletable": false,
    "nbgrader": {
     "cell_type": "code",
     "checksum": "fa005e2d90f6ec72ad9490b919bd38cc",
     "grade": true,
     "grade_id": "cell-ad05bdfe1f74fd5a",
     "locked": false,
     "points": 4,
     "schema_version": 3,
     "solution": true,
     "task": false
    }
   },
   "outputs": [],
   "source": [
    "# YOUR CODE HERE\n",
    "raise NotImplementedError()"
   ]
  },
  {
   "cell_type": "markdown",
   "id": "ed539631",
   "metadata": {
    "deletable": false,
    "editable": false,
    "nbgrader": {
     "cell_type": "markdown",
     "checksum": "baaaf9661d537b7392ca7a4396f2446a",
     "grade": false,
     "grade_id": "cell-6753222df59f8cc9",
     "locked": true,
     "schema_version": 3,
     "solution": false,
     "task": false
    }
   },
   "source": [
    "----\n",
    "\n",
    "c.) **(10 points)** Find the upper outer fence thresholds for each genre (assuming hinges at the 25th and 75th percentile). Store them in a dictionary {genre:upper outer fence} called ufence.\n",
    "\n",
    "---"
   ]
  },
  {
   "cell_type": "code",
   "execution_count": null,
   "id": "675ad765",
   "metadata": {
    "deletable": false,
    "nbgrader": {
     "cell_type": "code",
     "checksum": "e122bd72e575b38a74916eaa733b6566",
     "grade": false,
     "grade_id": "cell-efe4710776f50850",
     "locked": false,
     "schema_version": 3,
     "solution": true,
     "task": false
    }
   },
   "outputs": [],
   "source": [
    "# YOUR CODE HERE\n",
    "raise NotImplementedError()"
   ]
  },
  {
   "cell_type": "code",
   "execution_count": null,
   "id": "6291c7a4",
   "metadata": {
    "deletable": false,
    "editable": false,
    "nbgrader": {
     "cell_type": "code",
     "checksum": "29125bb36c0d7e668e397cb87c8a2a19",
     "grade": true,
     "grade_id": "cell-b19900eb856a4a17",
     "locked": true,
     "points": 10,
     "schema_version": 3,
     "solution": false,
     "task": false
    }
   },
   "outputs": [],
   "source": []
  },
  {
   "cell_type": "markdown",
   "id": "6ab2f434",
   "metadata": {
    "deletable": false,
    "editable": false,
    "nbgrader": {
     "cell_type": "markdown",
     "checksum": "3d27d4d971144384421af34821af2999",
     "grade": false,
     "grade_id": "cell-4df6d7939b1cd6de",
     "locked": true,
     "schema_version": 3,
     "solution": false,
     "task": false
    }
   },
   "source": [
    "----\n",
    "\n",
    "d.) **(4 points)** Plot the unnormalised histogram with 20 bins for all sports games whose Global sales which are beyond the outer fence.\n",
    "\n",
    "\n",
    "----\n"
   ]
  },
  {
   "cell_type": "code",
   "execution_count": null,
   "id": "7eee0275",
   "metadata": {
    "deletable": false,
    "nbgrader": {
     "cell_type": "code",
     "checksum": "66d492e4383d5d81a83e6e03977203a2",
     "grade": true,
     "grade_id": "cell-0ec4c9ec902d4aba",
     "locked": false,
     "points": 4,
     "schema_version": 3,
     "solution": true,
     "task": false
    }
   },
   "outputs": [],
   "source": [
    "# YOUR CODE HERE\n",
    "raise NotImplementedError()"
   ]
  },
  {
   "cell_type": "markdown",
   "id": "48b238e3",
   "metadata": {
    "deletable": false,
    "editable": false,
    "nbgrader": {
     "cell_type": "markdown",
     "checksum": "4775bdf0337a407b70efb85c01db70ee",
     "grade": false,
     "grade_id": "cell-db7439f2e21a666d",
     "locked": true,
     "schema_version": 3,
     "solution": false,
     "task": false
    }
   },
   "source": [
    "---- \n",
    "e.) **(4 points)** If these are successful games - what can you say about the maximum versus the typical successful game? What are the problems with using the average (overall or just the succesful games).\n",
    "\n",
    "---"
   ]
  },
  {
   "cell_type": "markdown",
   "id": "52a8c0fb",
   "metadata": {
    "deletable": false,
    "nbgrader": {
     "cell_type": "markdown",
     "checksum": "56bab1e0c38fcdff1867915c5a0513cd",
     "grade": true,
     "grade_id": "cell-73becb7b6ff394e2",
     "locked": false,
     "points": 4,
     "schema_version": 3,
     "solution": true,
     "task": false
    }
   },
   "source": [
    "YOUR ANSWER HERE"
   ]
  },
  {
   "cell_type": "markdown",
   "id": "b0d417e0",
   "metadata": {
    "deletable": false,
    "editable": false,
    "nbgrader": {
     "cell_type": "markdown",
     "checksum": "1927140c5f499712696f3c177468a812",
     "grade": false,
     "grade_id": "cell-e4f6208a960302e8",
     "locked": true,
     "schema_version": 3,
     "solution": false,
     "task": false
    }
   },
   "source": [
    "----\n",
    "\n",
    "f.) **(10 points)** Create a plot of the difference between North American Sales and EU Sales with a line for the following platforms per year.\n",
    "- 2600, NES, SNES, GEN, N64, GC, WII, PS, PS2, PS3, PS4, X360, XB, XOne\n",
    "\n",
    "----\n"
   ]
  },
  {
   "cell_type": "code",
   "execution_count": null,
   "id": "aa5921ed",
   "metadata": {
    "deletable": false,
    "nbgrader": {
     "cell_type": "code",
     "checksum": "4ad33b0148c65d6ae468882874b8af43",
     "grade": true,
     "grade_id": "cell-d2695e9a2a0dee9d",
     "locked": false,
     "points": 10,
     "schema_version": 3,
     "solution": true,
     "task": false
    }
   },
   "outputs": [],
   "source": [
    "# YOUR CODE HERE\n",
    "raise NotImplementedError()"
   ]
  },
  {
   "cell_type": "markdown",
   "id": "108cae81",
   "metadata": {
    "deletable": false,
    "editable": false,
    "nbgrader": {
     "cell_type": "markdown",
     "checksum": "f06cbf68a1751ac3334f53f1ef742220",
     "grade": false,
     "grade_id": "cell-aa666be08e135ea1",
     "locked": true,
     "schema_version": 3,
     "solution": false,
     "task": false
    }
   },
   "source": [
    "g.) **(2 points)** Qualitatively describe what you see (a few sentences). "
   ]
  },
  {
   "cell_type": "markdown",
   "id": "3ab4c5aa",
   "metadata": {
    "deletable": false,
    "nbgrader": {
     "cell_type": "markdown",
     "checksum": "b8872d5f07cefb0c7a0705cbf24345e4",
     "grade": true,
     "grade_id": "cell-e22a4ce501bb41fd",
     "locked": false,
     "points": 2,
     "schema_version": 3,
     "solution": true,
     "task": false
    }
   },
   "source": [
    "YOUR ANSWER HERE"
   ]
  },
  {
   "cell_type": "markdown",
   "id": "25818f02",
   "metadata": {
    "deletable": false,
    "editable": false,
    "nbgrader": {
     "cell_type": "markdown",
     "checksum": "0f9cc0042de810fb3ec9e5a3572a3a93",
     "grade": false,
     "grade_id": "cell-60c6bfb70069e17f",
     "locked": true,
     "schema_version": 3,
     "solution": false,
     "task": false
    }
   },
   "source": [
    "h.) **(3 points)** Answer which system:\n",
    "\n",
    "    i.) was more popular in North America (give the one which \n",
    "        is largest)\n",
    "    ii.) was more popular in the EU (give the one which is largest)\n",
    "    iii.) had the smallest largest difference"
   ]
  },
  {
   "cell_type": "markdown",
   "id": "ba4d82ff",
   "metadata": {
    "deletable": false,
    "nbgrader": {
     "cell_type": "markdown",
     "checksum": "d3155a93cc6ae6311c6de93f8706464d",
     "grade": true,
     "grade_id": "cell-41f0dc2b973ece4f",
     "locked": false,
     "points": 3,
     "schema_version": 3,
     "solution": true,
     "task": false
    }
   },
   "source": [
    "YOUR ANSWER HERE"
   ]
  }
 ],
 "metadata": {
  "kernelspec": {
   "display_name": "Python 3 (ipykernel)",
   "language": "python",
   "name": "python3"
  },
  "language_info": {
   "codemirror_mode": {
    "name": "ipython",
    "version": 3
   },
   "file_extension": ".py",
   "mimetype": "text/x-python",
   "name": "python",
   "nbconvert_exporter": "python",
   "pygments_lexer": "ipython3",
   "version": "3.9.18"
  }
 },
 "nbformat": 4,
 "nbformat_minor": 5
}
