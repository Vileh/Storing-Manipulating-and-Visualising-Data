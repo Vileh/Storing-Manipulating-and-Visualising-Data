{
 "cells": [
  {
   "cell_type": "markdown",
   "id": "748b1f02",
   "metadata": {},
   "source": [
    "Before you turn this problem in, make sure everything runs as expected. First, **restart the kernel** (in the menubar, select Kernel$\\rightarrow$Restart) and then **run all cells** (in the menubar, select Cell$\\rightarrow$Run All).\n",
    "\n",
    "Make sure you fill in any place that says `YOUR CODE HERE` or \"YOUR ANSWER HERE\", as well as your name and collaborators below:"
   ]
  },
  {
   "cell_type": "code",
   "execution_count": null,
   "id": "d4c50c21",
   "metadata": {},
   "outputs": [],
   "source": [
    "NAME = \"\"\n",
    "STUDENTID = \"\""
   ]
  },
  {
   "cell_type": "markdown",
   "id": "4e63a4e2",
   "metadata": {},
   "source": [
    "---"
   ]
  },
  {
   "cell_type": "markdown",
   "id": "3e893889",
   "metadata": {
    "deletable": false,
    "editable": false,
    "nbgrader": {
     "cell_type": "markdown",
     "checksum": "babe91ff3d6e8a834afd441a59c36d13",
     "grade": false,
     "grade_id": "cell-7186ca423b60543c",
     "locked": true,
     "schema_version": 3,
     "solution": false,
     "task": false
    }
   },
   "source": [
    "MTH765P - Coursework 4 \n",
    "This is a template notebook for the last coursework assignment for MTH765P,\n",
    "Closely follow the instructions in this template in order \n",
    "to complete the assessment and to obtain full marks. Please only\n",
    "modify cells where you are instructed to do so. Failure to comply\n",
    "may result in unexpected errors that can lead to mark deductions.\n",
    "\n",
    "Author: Primoz Skraba\n",
    "\n",
    "\n",
    "As usual, we begin by loading the necessary libraries. You should not \n",
    "import any other libraries."
   ]
  },
  {
   "cell_type": "code",
   "execution_count": null,
   "id": "6fcdc7a3",
   "metadata": {
    "deletable": false,
    "editable": false,
    "nbgrader": {
     "cell_type": "code",
     "checksum": "c9ff89dd24fc7c99fd76a01fb1cf261e",
     "grade": false,
     "grade_id": "cell-e0498cc6111d3a30",
     "locked": true,
     "schema_version": 3,
     "solution": false,
     "task": false
    }
   },
   "outputs": [],
   "source": [
    "import sqlite3 \n",
    "import pandas as pd\n",
    "import numpy as np\n",
    "import matplotlib.pyplot as plt"
   ]
  },
  {
   "cell_type": "markdown",
   "id": "5b456c4d",
   "metadata": {
    "deletable": false,
    "editable": false,
    "nbgrader": {
     "cell_type": "markdown",
     "checksum": "41b44f87f80e61292766c187158260a8",
     "grade": false,
     "grade_id": "cell-3789e660386ae6ea",
     "locked": true,
     "schema_version": 3,
     "solution": false,
     "task": false
    }
   },
   "source": [
    "## Question 1 (20 points): \n",
    "\n",
    "-----------------------------------------\n",
    "\n",
    "\n",
    "a.)  **(12 points)** Create a sqlite database called **nanoim.db** with the following tables.\n",
    "- All numbers should be integers\n",
    "- IDs should be the primary key\n",
    "- All other entries should be of type TEXT\n",
    "\n",
    "Be sure to close the table once you have created it. \n",
    "\n",
    "<h1><center>Movies</center></h1>\n",
    "\n",
    "|MovieID  | Movie |Actor |Director|\n",
    "|  :--:|  :----: |  :----:| :----:|\n",
    "|1 | Idiocracy| 1 |4|\n",
    "|2 | Predator |2 |1|\n",
    "|3 | Unbearable Weight of Massive Talent |4  |2|\n",
    "|4 | Point Break  |3 | 3 |\n",
    "\n",
    "\n",
    "<h1><center>Actors</center></h1>\n",
    "\n",
    "|ActorID  | Name | Rank|\n",
    "|  :--:|  :----: |  :----:|\n",
    "|1 |Terry Crews|3|\n",
    "|2 | Arnold Schwarzenegger |2|\n",
    "|3 |Keanu Reeves | 1 |\n",
    "|4 |Nicholas Cage |4|\n",
    "\n",
    "\n",
    "<h1><center>Directors </center></h1>\n",
    "\n",
    "|DirectorID  | Name |\n",
    "|  :--:|  :----: | \n",
    "|1 |John McTiernan| \n",
    "|2 |Tom Gormican|\n",
    "|3 |Kathryn Bigelow |\n",
    "|4 |Mike Judge|\n",
    "\n",
    "\n",
    "\n"
   ]
  },
  {
   "cell_type": "code",
   "execution_count": null,
   "id": "c788644c",
   "metadata": {
    "deletable": false,
    "nbgrader": {
     "cell_type": "code",
     "checksum": "34f7aff5d882e22b5e3c5320a0a2cd1a",
     "grade": false,
     "grade_id": "cell-bc359bcd41563bd4",
     "locked": false,
     "schema_version": 3,
     "solution": true,
     "task": false
    }
   },
   "outputs": [],
   "source": [
    "# YOUR CODE HERE\n",
    "raise NotImplementedError()\n"
   ]
  },
  {
   "cell_type": "code",
   "execution_count": null,
   "id": "8d6dd2fc",
   "metadata": {
    "deletable": false,
    "editable": false,
    "nbgrader": {
     "cell_type": "code",
     "checksum": "27828b5106992dd66af292fbbc6091ad",
     "grade": true,
     "grade_id": "cell-f4c687095074f32a",
     "locked": true,
     "points": 12,
     "schema_version": 3,
     "solution": false,
     "task": false
    }
   },
   "outputs": [],
   "source": []
  },
  {
   "cell_type": "markdown",
   "id": "c569f38a",
   "metadata": {
    "deletable": false,
    "editable": false,
    "nbgrader": {
     "cell_type": "markdown",
     "checksum": "36b3ad1e836a08d59a543ab6046241c1",
     "grade": false,
     "grade_id": "cell-89c1238704719e7d",
     "locked": true,
     "schema_version": 3,
     "solution": false,
     "task": false
    }
   },
   "source": [
    "----------------\n",
    "----------------\n",
    "\n",
    "b.) **(2 points)** Reconnect with **nanoim.db** in a connection named _conn_\n",
    "\n",
    "----------------"
   ]
  },
  {
   "cell_type": "code",
   "execution_count": null,
   "id": "b17efd7e",
   "metadata": {
    "deletable": false,
    "nbgrader": {
     "cell_type": "code",
     "checksum": "1413a1fa8ebd3e0be3cc7b19c85735f0",
     "grade": false,
     "grade_id": "cell-0e83b7a5e4b6f4b3",
     "locked": false,
     "schema_version": 3,
     "solution": true,
     "task": false
    }
   },
   "outputs": [],
   "source": [
    "# YOUR CODE HERE\n",
    "raise NotImplementedError()"
   ]
  },
  {
   "cell_type": "code",
   "execution_count": null,
   "id": "85974e8b",
   "metadata": {
    "deletable": false,
    "editable": false,
    "nbgrader": {
     "cell_type": "code",
     "checksum": "03c774d212b233896d9fd52ca18ee910",
     "grade": true,
     "grade_id": "cell-64c8e3763986c6ff",
     "locked": true,
     "points": 2,
     "schema_version": 3,
     "solution": false,
     "task": false
    }
   },
   "outputs": [],
   "source": []
  },
  {
   "cell_type": "markdown",
   "id": "2f92fb5d",
   "metadata": {
    "deletable": false,
    "editable": false,
    "nbgrader": {
     "cell_type": "markdown",
     "checksum": "7f9895939d351801256cd18481eae0c7",
     "grade": false,
     "grade_id": "cell-a1fdcd3fb52af73b",
     "locked": true,
     "schema_version": 3,
     "solution": false,
     "task": false
    }
   },
   "source": [
    "For the rest of this question you will construct SQL queries and run them.\n",
    "- Make sure to store the result in the variable name given\n",
    "- Make queries so that they would work if the tables are expanded or updated. \n",
    "- Use only sqlite3 functions "
   ]
  },
  {
   "cell_type": "markdown",
   "id": "88152613",
   "metadata": {
    "deletable": false,
    "editable": false,
    "nbgrader": {
     "cell_type": "markdown",
     "checksum": "28bff85c33418c2369411762682ffffb",
     "grade": false,
     "grade_id": "cell-13158495b4a99e7f",
     "locked": true,
     "schema_version": 3,
     "solution": false,
     "task": false
    }
   },
   "source": [
    "---------\n",
    "---------\n",
    "\n",
    "c.) **(3 points)** Create the following query to return names of the actors who are ranked 3rd or higher (**The highest rank is 1**). Store the result in a variable called _actors_\n",
    "\n",
    "---------"
   ]
  },
  {
   "cell_type": "code",
   "execution_count": null,
   "id": "c8e92255",
   "metadata": {
    "deletable": false,
    "nbgrader": {
     "cell_type": "code",
     "checksum": "2e5cadbda69ab8ae47d1dcf035fef538",
     "grade": false,
     "grade_id": "cell-9702431e37dc0ea6",
     "locked": false,
     "schema_version": 3,
     "solution": true,
     "task": false
    }
   },
   "outputs": [],
   "source": [
    "# YOUR CODE HERE\n",
    "raise NotImplementedError()"
   ]
  },
  {
   "cell_type": "code",
   "execution_count": null,
   "id": "2925d5c6",
   "metadata": {
    "deletable": false,
    "editable": false,
    "nbgrader": {
     "cell_type": "code",
     "checksum": "46cc178430a71d9e0cb1b96eccac96ef",
     "grade": true,
     "grade_id": "cell-80a9a838039df5dd",
     "locked": true,
     "points": 3,
     "schema_version": 3,
     "solution": false,
     "task": false
    }
   },
   "outputs": [],
   "source": []
  },
  {
   "cell_type": "markdown",
   "id": "1d84c08a",
   "metadata": {
    "deletable": false,
    "editable": false,
    "nbgrader": {
     "cell_type": "markdown",
     "checksum": "74041730bd9fbc1c1b44554be9d2b433",
     "grade": false,
     "grade_id": "cell-6597e941e04eb8c3",
     "locked": true,
     "schema_version": 3,
     "solution": false,
     "task": false
    }
   },
   "source": [
    "---------\n",
    "---------\n",
    "\n",
    "d.) **(2 points)** Create a following query to return the name of movies starring Keanu Reeves. Store the result in a variable called _keanu_\n",
    "\n",
    "---------"
   ]
  },
  {
   "cell_type": "code",
   "execution_count": null,
   "id": "79c2a3f5",
   "metadata": {
    "deletable": false,
    "nbgrader": {
     "cell_type": "code",
     "checksum": "7687576eea21d89bddfcaeafe9f61f03",
     "grade": false,
     "grade_id": "cell-4aaf6d7e34c05102",
     "locked": false,
     "schema_version": 3,
     "solution": true,
     "task": false
    }
   },
   "outputs": [],
   "source": [
    "# YOUR CODE HERE\n",
    "raise NotImplementedError()"
   ]
  },
  {
   "cell_type": "code",
   "execution_count": null,
   "id": "398613d5",
   "metadata": {
    "deletable": false,
    "editable": false,
    "nbgrader": {
     "cell_type": "code",
     "checksum": "2ea1136294adf3a6ea60b937140328ef",
     "grade": true,
     "grade_id": "cell-8032f92b9dc27c72",
     "locked": true,
     "points": 2,
     "schema_version": 3,
     "solution": false,
     "task": false
    }
   },
   "outputs": [],
   "source": []
  },
  {
   "cell_type": "markdown",
   "id": "9cc29647",
   "metadata": {
    "deletable": false,
    "editable": false,
    "nbgrader": {
     "cell_type": "markdown",
     "checksum": "c90b4e95b4433236f75691a1bd0db4fe",
     "grade": false,
     "grade_id": "cell-5e33e47f87d09f21",
     "locked": true,
     "schema_version": 3,
     "solution": false,
     "task": false
    }
   },
   "source": [
    "----------\n",
    "----------\n",
    "e.) **(1 point)** Close the connection.\n",
    "\n",
    "----------"
   ]
  },
  {
   "cell_type": "code",
   "execution_count": null,
   "id": "9783e642",
   "metadata": {
    "deletable": false,
    "nbgrader": {
     "cell_type": "code",
     "checksum": "a3f4f35072df47f7c0e9c70c91ef8009",
     "grade": false,
     "grade_id": "cell-b69d938db7aa93b2",
     "locked": false,
     "schema_version": 3,
     "solution": true,
     "task": false
    }
   },
   "outputs": [],
   "source": [
    "# YOUR CODE HERE\n",
    "raise NotImplementedError()"
   ]
  },
  {
   "cell_type": "code",
   "execution_count": null,
   "id": "7b2a17b7",
   "metadata": {
    "deletable": false,
    "editable": false,
    "nbgrader": {
     "cell_type": "code",
     "checksum": "73c28d160d58a78c7097e406c3995e6a",
     "grade": true,
     "grade_id": "cell-5c19e0eb26c3b078",
     "locked": true,
     "points": 1,
     "schema_version": 3,
     "solution": false,
     "task": false
    }
   },
   "outputs": [],
   "source": []
  },
  {
   "cell_type": "markdown",
   "id": "731fde5f",
   "metadata": {},
   "source": [
    "## Question 2 (30 Points)\n",
    "------------\n",
    "\n",
    "We will connect to the database given in the file **music.db**. This database has quite a large\n",
    "number of tables. We will deal with the following tables which have the following\n",
    "columns.\n",
    "- album: album id, title, artist id\n",
    "- artist: artist id, name\n",
    "- genre: genre id, name\n",
    "- track: track id, name, album id, media type id, genre id, composer, milliseconds, bytes, unit price"
   ]
  },
  {
   "cell_type": "code",
   "execution_count": null,
   "id": "60bdc5e9",
   "metadata": {
    "deletable": false,
    "editable": false,
    "nbgrader": {
     "cell_type": "code",
     "checksum": "ed5cc5cac1e76f52123e3a9e0d390e43",
     "grade": false,
     "grade_id": "cell-5871a329f307ceae",
     "locked": true,
     "schema_version": 3,
     "solution": false,
     "task": false
    }
   },
   "outputs": [],
   "source": [
    "m_conn = sqlite3.connect('music.db')"
   ]
  },
  {
   "cell_type": "markdown",
   "id": "d6cda008",
   "metadata": {
    "deletable": false,
    "editable": false,
    "nbgrader": {
     "cell_type": "markdown",
     "checksum": "ccf666d8add00184a308a11c6e21da4a",
     "grade": false,
     "grade_id": "cell-55651df6e8f7b7e4",
     "locked": true,
     "schema_version": 3,
     "solution": false,
     "task": false
    }
   },
   "source": [
    "--------------\n",
    "--------------\n",
    "a.) **(5 points)** Construct a query which lists the  albums  Iron Maiden have in the database and put it into variable called _maiden_\n",
    "\n",
    "--------------"
   ]
  },
  {
   "cell_type": "code",
   "execution_count": null,
   "id": "8dbefca7",
   "metadata": {
    "deletable": false,
    "nbgrader": {
     "cell_type": "code",
     "checksum": "96910b07b7ed8b62fea4d43e027ca28f",
     "grade": false,
     "grade_id": "cell-f5165ba583e168f9",
     "locked": false,
     "schema_version": 3,
     "solution": true,
     "task": false
    }
   },
   "outputs": [],
   "source": [
    "# YOUR CODE HERE\n",
    "raise NotImplementedError()"
   ]
  },
  {
   "cell_type": "code",
   "execution_count": null,
   "id": "a8203c1b",
   "metadata": {
    "deletable": false,
    "editable": false,
    "nbgrader": {
     "cell_type": "code",
     "checksum": "447aa280ce3b10bc9e209a6121bb4393",
     "grade": true,
     "grade_id": "cell-4b6426817ca3b4e9",
     "locked": true,
     "points": 5,
     "schema_version": 3,
     "solution": false,
     "task": false
    }
   },
   "outputs": [],
   "source": []
  },
  {
   "cell_type": "markdown",
   "id": "b5273df8",
   "metadata": {
    "deletable": false,
    "editable": false,
    "nbgrader": {
     "cell_type": "markdown",
     "checksum": "d26abc5062d67eb991bcce5e86afbcd7",
     "grade": false,
     "grade_id": "cell-987bc1d01340e999",
     "locked": true,
     "schema_version": 3,
     "solution": false,
     "task": false
    }
   },
   "source": [
    "--------------\n",
    "--------------\n",
    "b.) **(5 points)** Construct a query which lists all the tracks on the album Californication and store the result in a variable called _rhcp_\n",
    "\n",
    "--------------"
   ]
  },
  {
   "cell_type": "code",
   "execution_count": null,
   "id": "e7249368",
   "metadata": {
    "deletable": false,
    "nbgrader": {
     "cell_type": "code",
     "checksum": "f3b8e4ad17c73e10891195da50061dbb",
     "grade": false,
     "grade_id": "cell-f647d1adcb7ea752",
     "locked": false,
     "schema_version": 3,
     "solution": true,
     "task": false
    }
   },
   "outputs": [],
   "source": [
    "# YOUR CODE HERE\n",
    "raise NotImplementedError()\n"
   ]
  },
  {
   "cell_type": "code",
   "execution_count": null,
   "id": "df3dea8a",
   "metadata": {
    "deletable": false,
    "editable": false,
    "nbgrader": {
     "cell_type": "code",
     "checksum": "0a67a45cebea3c56011e96cbc48bad5c",
     "grade": true,
     "grade_id": "cell-c9413acfca6e2c28",
     "locked": true,
     "points": 5,
     "schema_version": 3,
     "solution": false,
     "task": false
    }
   },
   "outputs": [],
   "source": []
  },
  {
   "cell_type": "markdown",
   "id": "9f843ba2",
   "metadata": {
    "deletable": false,
    "editable": false,
    "nbgrader": {
     "cell_type": "markdown",
     "checksum": "b3c62f9e37d453f27688ac21e830d43e",
     "grade": false,
     "grade_id": "cell-d42f0ceed080fa98",
     "locked": true,
     "schema_version": 3,
     "solution": false,
     "task": false
    }
   },
   "source": [
    "--------------\n",
    "--------------\n",
    "\n",
    "c.) **(10 points)** Construct a query which returns how much it would cost to buy all Deep Purple songs to the nearest pound and store it in a variable called _rockon_\n",
    "- You should assume the track costs are in pounds\n",
    "\n",
    "---------------"
   ]
  },
  {
   "cell_type": "code",
   "execution_count": null,
   "id": "7629a591",
   "metadata": {
    "deletable": false,
    "nbgrader": {
     "cell_type": "code",
     "checksum": "a653fdff20be7abe19d2dacbfcba9093",
     "grade": false,
     "grade_id": "cell-87e53aac9841a7cd",
     "locked": false,
     "schema_version": 3,
     "solution": true,
     "task": false
    }
   },
   "outputs": [],
   "source": [
    "# YOUR CODE HERE\n",
    "raise NotImplementedError()"
   ]
  },
  {
   "cell_type": "code",
   "execution_count": null,
   "id": "94db5ab9",
   "metadata": {
    "deletable": false,
    "editable": false,
    "nbgrader": {
     "cell_type": "code",
     "checksum": "58d9a500cdcf3040ae26b1ef9f775175",
     "grade": true,
     "grade_id": "cell-39d561dd07a1487e",
     "locked": true,
     "points": 10,
     "schema_version": 3,
     "solution": false,
     "task": false
    }
   },
   "outputs": [],
   "source": []
  },
  {
   "cell_type": "markdown",
   "id": "190166db",
   "metadata": {
    "deletable": false,
    "editable": false,
    "nbgrader": {
     "cell_type": "markdown",
     "checksum": "7a4d16c724bae7fa3af7749de2c6a4cd",
     "grade": false,
     "grade_id": "cell-957ef22d55b4aad1",
     "locked": true,
     "schema_version": 3,
     "solution": false,
     "task": false
    }
   },
   "source": [
    "--------------\n",
    "--------------\n",
    "\n",
    "d.) **(10 points)** Construct a query which returns the name and the length of the longest Metal song and transforms it in seconds (to the nearest second) and stores the name in a variable called _longsong_ and the length in a variable called _time_\n",
    "\n",
    "---------------\n"
   ]
  },
  {
   "cell_type": "code",
   "execution_count": null,
   "id": "6d7aefd8",
   "metadata": {
    "deletable": false,
    "nbgrader": {
     "cell_type": "code",
     "checksum": "cd779f6f832c50bccf5f2cc1dc2b3ec2",
     "grade": false,
     "grade_id": "cell-0e127f632129599f",
     "locked": false,
     "schema_version": 3,
     "solution": true,
     "task": false
    }
   },
   "outputs": [],
   "source": [
    "# YOUR CODE HERE\n",
    "raise NotImplementedError()"
   ]
  },
  {
   "cell_type": "code",
   "execution_count": null,
   "id": "a3810ad4",
   "metadata": {
    "deletable": false,
    "editable": false,
    "nbgrader": {
     "cell_type": "code",
     "checksum": "64f41d9752718e2bd9f188b5ffd3ad47",
     "grade": true,
     "grade_id": "cell-ad34c0ea525892b1",
     "locked": true,
     "points": 10,
     "schema_version": 3,
     "solution": false,
     "task": false
    }
   },
   "outputs": [],
   "source": []
  },
  {
   "cell_type": "code",
   "execution_count": null,
   "id": "2b745049",
   "metadata": {
    "deletable": false,
    "editable": false,
    "nbgrader": {
     "cell_type": "code",
     "checksum": "bc0e029473a3df9bd47835142af70524",
     "grade": false,
     "grade_id": "cell-f02287a7cc716531",
     "locked": true,
     "schema_version": 3,
     "solution": false,
     "task": false
    }
   },
   "outputs": [],
   "source": [
    "m_conn.close()"
   ]
  },
  {
   "cell_type": "markdown",
   "id": "e45c773f",
   "metadata": {},
   "source": [
    "## Question 3 (30 Points)\n",
    "------------\n",
    "\n",
    "\n",
    "We will connect to the database given in the file **football.db**. This database has players and some of their statistics in 2 tables:\n",
    "- 'Players'\n",
    "- 'Player_Attributes'\n",
    "\n",
    "The tables are linked via **player_api_id**\n",
    "\n",
    "Unless otherwise stated you must only use SQL queries to get full marks. Below are the tables:\n",
    "\n",
    "**'Players'**\n",
    "<img src=\"1.png\" alt=\"Drawing\" style=\"width: 250px;\"/>\n",
    "\n",
    "**'Player Attributes'**\n",
    "![title](3.png)\n",
    "\n",
    "\n"
   ]
  },
  {
   "cell_type": "markdown",
   "id": "551e7098",
   "metadata": {},
   "source": [
    "-----------\n",
    "-----------\n",
    "\n",
    "a.) **(5 points)** How many goalkeepers are in the database. Store the number (and only the number as an integer) in a variable called _keeper_.\n",
    "\n",
    "------------\n"
   ]
  },
  {
   "cell_type": "code",
   "execution_count": null,
   "id": "23728f13",
   "metadata": {
    "deletable": false,
    "nbgrader": {
     "cell_type": "code",
     "checksum": "f8e9a8a4840c166657162733838d2b9f",
     "grade": false,
     "grade_id": "cell-35cc23d241bed856",
     "locked": false,
     "schema_version": 3,
     "solution": true,
     "task": false
    }
   },
   "outputs": [],
   "source": [
    "# YOUR CODE HERE\n",
    "raise NotImplementedError()"
   ]
  },
  {
   "cell_type": "code",
   "execution_count": null,
   "id": "643c88bd",
   "metadata": {
    "deletable": false,
    "editable": false,
    "nbgrader": {
     "cell_type": "code",
     "checksum": "72968c006a7c90e09ace2b7a22ef8c64",
     "grade": true,
     "grade_id": "cell-e2fa16949400d2a7",
     "locked": true,
     "points": 5,
     "schema_version": 3,
     "solution": false,
     "task": false
    }
   },
   "outputs": [],
   "source": []
  },
  {
   "cell_type": "markdown",
   "id": "e65ef00a",
   "metadata": {
    "deletable": false,
    "editable": false,
    "nbgrader": {
     "cell_type": "markdown",
     "checksum": "af71ef63b39dab0e18da9940e3a3a0d9",
     "grade": false,
     "grade_id": "cell-6987849457b815ba",
     "locked": true,
     "schema_version": 3,
     "solution": false,
     "task": false
    }
   },
   "source": [
    "\n",
    "-----------\n",
    "-----------\n",
    "\n",
    "b.)  **(10 points )** Find the player with the maximum ability for **marking**. Return the score the player has have for marking, the name, and the players height in meters. Store the three values (in this order) in a tuple called _mk_.\n",
    "\n",
    "------------\n"
   ]
  },
  {
   "cell_type": "code",
   "execution_count": null,
   "id": "c0f38ac1",
   "metadata": {
    "deletable": false,
    "nbgrader": {
     "cell_type": "code",
     "checksum": "26d71c70d224dff7240ac2314595e7fe",
     "grade": false,
     "grade_id": "cell-213481cd33c0d3b0",
     "locked": false,
     "schema_version": 3,
     "solution": true,
     "task": false
    }
   },
   "outputs": [],
   "source": [
    "# YOUR CODE HERE\n",
    "raise NotImplementedError()\n"
   ]
  },
  {
   "cell_type": "code",
   "execution_count": null,
   "id": "c98588f8",
   "metadata": {
    "deletable": false,
    "editable": false,
    "nbgrader": {
     "cell_type": "code",
     "checksum": "a412a2a0dcc08eef63c7c9a702957c53",
     "grade": true,
     "grade_id": "cell-7588bd2dd74d6957",
     "locked": true,
     "points": 10,
     "schema_version": 3,
     "solution": false,
     "task": false
    }
   },
   "outputs": [],
   "source": []
  },
  {
   "cell_type": "markdown",
   "id": "302356b3",
   "metadata": {
    "deletable": false,
    "editable": false,
    "nbgrader": {
     "cell_type": "markdown",
     "checksum": "a01409f6d1bc0843129d9427ed21625e",
     "grade": false,
     "grade_id": "cell-c6042b92a53ac8d6",
     "locked": true,
     "schema_version": 3,
     "solution": false,
     "task": false
    }
   },
   "source": [
    "\n",
    "-----------\n",
    "-----------\n",
    "\n",
    "c.)  **(15 points )** Here you will use matplotlib. Create 2 plots in 1 row where:\n",
    " - the first is a scatter plot of weight and dribbling (use a point size of 2)\n",
    " - the second is a histogram with 25 bins on the height of goalkeepers (use a transparency of 0.3)\n",
    "\n",
    "**Note:** To get full marks you should not use any filtering after the SQL query but you may use multiple queries and you may chnage the format of the output.\n",
    "\n",
    "------------\n"
   ]
  },
  {
   "cell_type": "code",
   "execution_count": null,
   "id": "71a4495e",
   "metadata": {
    "deletable": false,
    "nbgrader": {
     "cell_type": "code",
     "checksum": "914d543d5cad4c442e42341043cf3d27",
     "grade": true,
     "grade_id": "cell-443ab8bd971c7123",
     "locked": false,
     "points": 15,
     "schema_version": 3,
     "solution": true,
     "task": false
    }
   },
   "outputs": [],
   "source": [
    "# YOUR CODE HERE\n",
    "raise NotImplementedError()\n"
   ]
  }
 ],
 "metadata": {
  "kernelspec": {
   "display_name": "Python 3 (ipykernel)",
   "language": "python",
   "name": "python3"
  },
  "language_info": {
   "codemirror_mode": {
    "name": "ipython",
    "version": 3
   },
   "file_extension": ".py",
   "mimetype": "text/x-python",
   "name": "python",
   "nbconvert_exporter": "python",
   "pygments_lexer": "ipython3",
   "version": "3.9.18"
  }
 },
 "nbformat": 4,
 "nbformat_minor": 5
}
