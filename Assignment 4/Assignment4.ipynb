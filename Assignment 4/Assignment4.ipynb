{
 "cells": [
  {
   "cell_type": "markdown",
   "id": "748b1f02",
   "metadata": {},
   "source": [
    "Before you turn this problem in, make sure everything runs as expected. First, **restart the kernel** (in the menubar, select Kernel$\\rightarrow$Restart) and then **run all cells** (in the menubar, select Cell$\\rightarrow$Run All).\n",
    "\n",
    "Make sure you fill in any place that says `YOUR CODE HERE` or \"YOUR ANSWER HERE\", as well as your name and collaborators below:"
   ]
  },
  {
   "cell_type": "code",
   "execution_count": 1,
   "id": "d4c50c21",
   "metadata": {},
   "outputs": [],
   "source": [
    "NAME = \"Viktor Penchev\"\n",
    "STUDENTID = \"230966576\""
   ]
  },
  {
   "cell_type": "markdown",
   "id": "4e63a4e2",
   "metadata": {},
   "source": [
    "---"
   ]
  },
  {
   "cell_type": "markdown",
   "id": "3e893889",
   "metadata": {
    "deletable": false,
    "editable": false,
    "nbgrader": {
     "cell_type": "markdown",
     "checksum": "babe91ff3d6e8a834afd441a59c36d13",
     "grade": false,
     "grade_id": "cell-7186ca423b60543c",
     "locked": true,
     "schema_version": 3,
     "solution": false,
     "task": false
    }
   },
   "source": [
    "MTH765P - Coursework 4 \n",
    "This is a template notebook for the last coursework assignment for MTH765P,\n",
    "Closely follow the instructions in this template in order \n",
    "to complete the assessment and to obtain full marks. Please only\n",
    "modify cells where you are instructed to do so. Failure to comply\n",
    "may result in unexpected errors that can lead to mark deductions.\n",
    "\n",
    "Author: Primoz Skraba\n",
    "\n",
    "\n",
    "As usual, we begin by loading the necessary libraries. You should not \n",
    "import any other libraries."
   ]
  },
  {
   "cell_type": "code",
   "execution_count": 2,
   "id": "6fcdc7a3",
   "metadata": {
    "deletable": false,
    "editable": false,
    "nbgrader": {
     "cell_type": "code",
     "checksum": "c9ff89dd24fc7c99fd76a01fb1cf261e",
     "grade": false,
     "grade_id": "cell-e0498cc6111d3a30",
     "locked": true,
     "schema_version": 3,
     "solution": false,
     "task": false
    }
   },
   "outputs": [],
   "source": [
    "import sqlite3 \n",
    "import pandas as pd\n",
    "import numpy as np\n",
    "import matplotlib.pyplot as plt"
   ]
  },
  {
   "cell_type": "markdown",
   "id": "5b456c4d",
   "metadata": {
    "deletable": false,
    "editable": false,
    "nbgrader": {
     "cell_type": "markdown",
     "checksum": "41b44f87f80e61292766c187158260a8",
     "grade": false,
     "grade_id": "cell-3789e660386ae6ea",
     "locked": true,
     "schema_version": 3,
     "solution": false,
     "task": false
    }
   },
   "source": [
    "## Question 1 (20 points): \n",
    "\n",
    "-----------------------------------------\n",
    "\n",
    "\n",
    "a.)  **(12 points)** Create a sqlite database called **nanoim.db** with the following tables.\n",
    "- All numbers should be integers\n",
    "- IDs should be the primary key\n",
    "- All other entries should be of type TEXT\n",
    "\n",
    "Be sure to close the table once you have created it. \n",
    "\n",
    "<h1><center>Movies</center></h1>\n",
    "\n",
    "|MovieID  | Movie |Actor |Director|\n",
    "|  :--:|  :----: |  :----:| :----:|\n",
    "|1 | Idiocracy| 1 |4|\n",
    "|2 | Predator |2 |1|\n",
    "|3 | Unbearable Weight of Massive Talent |4  |2|\n",
    "|4 | Point Break  |3 | 3 |\n",
    "\n",
    "\n",
    "<h1><center>Actors</center></h1>\n",
    "\n",
    "|ActorID  | Name | Rank|\n",
    "|  :--:|  :----: |  :----:|\n",
    "|1 |Terry Crews|3|\n",
    "|2 | Arnold Schwarzenegger |2|\n",
    "|3 |Keanu Reeves | 1 |\n",
    "|4 |Nicholas Cage |4|\n",
    "\n",
    "\n",
    "<h1><center>Directors </center></h1>\n",
    "\n",
    "|DirectorID  | Name |\n",
    "|  :--:|  :----: | \n",
    "|1 |John McTiernan| \n",
    "|2 |Tom Gormican|\n",
    "|3 |Kathryn Bigelow |\n",
    "|4 |Mike Judge|\n",
    "\n",
    "\n",
    "\n"
   ]
  },
  {
   "cell_type": "code",
   "execution_count": 37,
   "id": "a492e77a",
   "metadata": {},
   "outputs": [],
   "source": [
    "conn = sqlite3.connect('nanoim.db')"
   ]
  },
  {
   "cell_type": "code",
   "execution_count": 3,
   "id": "c788644c",
   "metadata": {
    "deletable": false,
    "nbgrader": {
     "cell_type": "code",
     "checksum": "34f7aff5d882e22b5e3c5320a0a2cd1a",
     "grade": false,
     "grade_id": "cell-bc359bcd41563bd4",
     "locked": false,
     "schema_version": 3,
     "solution": true,
     "task": false
    }
   },
   "outputs": [],
   "source": [
    "# YOUR CODE HERE\n",
    "cursorObject = conn.cursor()\n",
    "# create the table module \n",
    "# with the columns: module_code, module_code, and lecturer\n",
    "\n",
    "cursorObject.execute('''CREATE TABLE \n",
    "                        Movies(MovieID integer PRIMARY KEY, \n",
    "                        Movie text, Actor integer, Director integer)''')\n",
    "cursorObject.execute('''CREATE TABLE\n",
    "                        Actors(ActorID integer PRIMARY KEY,\n",
    "                        Name text, Rank integer)''')\n",
    "cursorObject.execute('''CREATE TABLE\n",
    "                        Directors(DirectorID integer PRIMARY KEY,\n",
    "                        Name text)''')\n",
    "\n",
    "conn.commit()\n",
    "\n",
    "cursorObject.execute('''INSERT INTO Movies(MovieID, Movie, Actor, Director)\n",
    "                        VALUES(1, \"Idiocracy\", 1, 4)''')\n",
    "cursorObject.execute('''INSERT INTO Movies(MovieID, Movie, Actor, Director)\n",
    "                        VALUES(2, \"Predator\", 2, 1)''')\n",
    "cursorObject.execute('''INSERT INTO Movies(MovieID, Movie, Actor, Director)\n",
    "                        VALUES(3, \"Unbearable Weight of Massive Talent\", 4, 2)''')\n",
    "cursorObject.execute('''INSERT INTO Movies(MovieID, Movie, Actor, Director)\n",
    "                        VALUES(4, \"Point Break\", 3, 3)''')\n",
    "\n",
    "cursorObject.execute('''INSERT INTO Actors(ActorID, Name, Rank)\n",
    "                        VALUES(1, \"Terry Crews\", 3)''')\n",
    "cursorObject.execute('''INSERT INTO Actors(ActorID, Name, Rank)\n",
    "                        VALUES(2, \"Arnold Schwarzenegger\", 2)''')\n",
    "cursorObject.execute('''INSERT INTO Actors(ActorID, Name, Rank)\n",
    "                        VALUES(3, \"Keanu Reeves\", 1)''')\n",
    "cursorObject.execute('''INSERT INTO Actors(ActorID, Name, Rank)\n",
    "                        VALUES(4, \"Nicolas Cage\", 4)''')\n",
    "\n",
    "cursorObject.execute('''INSERT INTO Directors(DirectorID, Name)\n",
    "                        VALUES(1, \"John McTiernan\")''')\n",
    "cursorObject.execute('''INSERT INTO Directors(DirectorID, Name)\n",
    "                        VALUES(2, \"Tom Gormican\")''')\n",
    "cursorObject.execute('''INSERT INTO Directors(DirectorID, Name)\n",
    "                        VALUES(3, \"Kathryn Bigelow\")''')\n",
    "cursorObject.execute('''INSERT INTO Directors(DirectorID, Name)\n",
    "                        VALUES(4, \"Mike Judge\")''')\n",
    "\n",
    "conn.commit()\n",
    "conn.close()"
   ]
  },
  {
   "cell_type": "code",
   "execution_count": null,
   "id": "8d6dd2fc",
   "metadata": {
    "deletable": false,
    "editable": false,
    "nbgrader": {
     "cell_type": "code",
     "checksum": "27828b5106992dd66af292fbbc6091ad",
     "grade": true,
     "grade_id": "cell-f4c687095074f32a",
     "locked": true,
     "points": 12,
     "schema_version": 3,
     "solution": false,
     "task": false
    }
   },
   "outputs": [],
   "source": []
  },
  {
   "cell_type": "markdown",
   "id": "c569f38a",
   "metadata": {
    "deletable": false,
    "editable": false,
    "nbgrader": {
     "cell_type": "markdown",
     "checksum": "36b3ad1e836a08d59a543ab6046241c1",
     "grade": false,
     "grade_id": "cell-89c1238704719e7d",
     "locked": true,
     "schema_version": 3,
     "solution": false,
     "task": false
    }
   },
   "source": [
    "----------------\n",
    "----------------\n",
    "\n",
    "b.) **(2 points)** Reconnect with **nanoim.db** in a connection named _conn_\n",
    "\n",
    "----------------"
   ]
  },
  {
   "cell_type": "code",
   "execution_count": 38,
   "id": "b17efd7e",
   "metadata": {
    "deletable": false,
    "nbgrader": {
     "cell_type": "code",
     "checksum": "1413a1fa8ebd3e0be3cc7b19c85735f0",
     "grade": false,
     "grade_id": "cell-0e83b7a5e4b6f4b3",
     "locked": false,
     "schema_version": 3,
     "solution": true,
     "task": false
    }
   },
   "outputs": [],
   "source": [
    "# YOUR CODE HERE\n",
    "conn = sqlite3.connect('nanoim.db')"
   ]
  },
  {
   "cell_type": "code",
   "execution_count": null,
   "id": "85974e8b",
   "metadata": {
    "deletable": false,
    "editable": false,
    "nbgrader": {
     "cell_type": "code",
     "checksum": "03c774d212b233896d9fd52ca18ee910",
     "grade": true,
     "grade_id": "cell-64c8e3763986c6ff",
     "locked": true,
     "points": 2,
     "schema_version": 3,
     "solution": false,
     "task": false
    }
   },
   "outputs": [],
   "source": []
  },
  {
   "cell_type": "markdown",
   "id": "2f92fb5d",
   "metadata": {
    "deletable": false,
    "editable": false,
    "nbgrader": {
     "cell_type": "markdown",
     "checksum": "7f9895939d351801256cd18481eae0c7",
     "grade": false,
     "grade_id": "cell-a1fdcd3fb52af73b",
     "locked": true,
     "schema_version": 3,
     "solution": false,
     "task": false
    }
   },
   "source": [
    "For the rest of this question you will construct SQL queries and run them.\n",
    "- Make sure to store the result in the variable name given\n",
    "- Make queries so that they would work if the tables are expanded or updated. \n",
    "- Use only sqlite3 functions "
   ]
  },
  {
   "cell_type": "markdown",
   "id": "88152613",
   "metadata": {
    "deletable": false,
    "editable": false,
    "nbgrader": {
     "cell_type": "markdown",
     "checksum": "28bff85c33418c2369411762682ffffb",
     "grade": false,
     "grade_id": "cell-13158495b4a99e7f",
     "locked": true,
     "schema_version": 3,
     "solution": false,
     "task": false
    }
   },
   "source": [
    "---------\n",
    "---------\n",
    "\n",
    "c.) **(3 points)** Create the following query to return names of the actors who are ranked 3rd or higher (**The highest rank is 1**). Store the result in a variable called _actors_\n",
    "\n",
    "---------"
   ]
  },
  {
   "cell_type": "code",
   "execution_count": 39,
   "id": "c8e92255",
   "metadata": {
    "deletable": false,
    "nbgrader": {
     "cell_type": "code",
     "checksum": "2e5cadbda69ab8ae47d1dcf035fef538",
     "grade": false,
     "grade_id": "cell-9702431e37dc0ea6",
     "locked": false,
     "schema_version": 3,
     "solution": true,
     "task": false
    }
   },
   "outputs": [
    {
     "data": {
      "text/plain": [
       "[('Terry Crews',), ('Arnold Schwarzenegger',), ('Keanu Reeves',)]"
      ]
     },
     "execution_count": 39,
     "metadata": {},
     "output_type": "execute_result"
    }
   ],
   "source": [
    "# YOUR CODE HERE\n",
    "cursorObject = conn.cursor()\n",
    "cursorObject.execute('''SELECT Name FROM Actors WHERE Rank <= 3''')\n",
    "actors = cursorObject.fetchall()\n",
    "cursorObject.close()\n",
    "actors"
   ]
  },
  {
   "cell_type": "code",
   "execution_count": null,
   "id": "2925d5c6",
   "metadata": {
    "deletable": false,
    "editable": false,
    "nbgrader": {
     "cell_type": "code",
     "checksum": "46cc178430a71d9e0cb1b96eccac96ef",
     "grade": true,
     "grade_id": "cell-80a9a838039df5dd",
     "locked": true,
     "points": 3,
     "schema_version": 3,
     "solution": false,
     "task": false
    }
   },
   "outputs": [],
   "source": []
  },
  {
   "cell_type": "markdown",
   "id": "1d84c08a",
   "metadata": {
    "deletable": false,
    "editable": false,
    "nbgrader": {
     "cell_type": "markdown",
     "checksum": "74041730bd9fbc1c1b44554be9d2b433",
     "grade": false,
     "grade_id": "cell-6597e941e04eb8c3",
     "locked": true,
     "schema_version": 3,
     "solution": false,
     "task": false
    }
   },
   "source": [
    "---------\n",
    "---------\n",
    "\n",
    "d.) **(2 points)** Create a following query to return the name of movies starring Keanu Reeves. Store the result in a variable called _keanu_\n",
    "\n",
    "---------"
   ]
  },
  {
   "cell_type": "code",
   "execution_count": 40,
   "id": "79c2a3f5",
   "metadata": {
    "deletable": false,
    "nbgrader": {
     "cell_type": "code",
     "checksum": "7687576eea21d89bddfcaeafe9f61f03",
     "grade": false,
     "grade_id": "cell-4aaf6d7e34c05102",
     "locked": false,
     "schema_version": 3,
     "solution": true,
     "task": false
    }
   },
   "outputs": [
    {
     "data": {
      "text/plain": [
       "'Point Break'"
      ]
     },
     "execution_count": 40,
     "metadata": {},
     "output_type": "execute_result"
    }
   ],
   "source": [
    "# YOUR CODE HERE\n",
    "#  Create a following query to return the name of movies starring Keanu Reeves. Store the result in a variable called _keanu_\n",
    "cursorObject = conn.cursor()\n",
    "cursorObject.execute('''SELECT Movie FROM Movies WHERE Actor = 3''')\n",
    "keanu = cursorObject.fetchall()[0][0]\n",
    "cursorObject.close()\n",
    "keanu"
   ]
  },
  {
   "cell_type": "code",
   "execution_count": null,
   "id": "398613d5",
   "metadata": {
    "deletable": false,
    "editable": false,
    "nbgrader": {
     "cell_type": "code",
     "checksum": "2ea1136294adf3a6ea60b937140328ef",
     "grade": true,
     "grade_id": "cell-8032f92b9dc27c72",
     "locked": true,
     "points": 2,
     "schema_version": 3,
     "solution": false,
     "task": false
    }
   },
   "outputs": [],
   "source": []
  },
  {
   "cell_type": "markdown",
   "id": "9cc29647",
   "metadata": {
    "deletable": false,
    "editable": false,
    "nbgrader": {
     "cell_type": "markdown",
     "checksum": "c90b4e95b4433236f75691a1bd0db4fe",
     "grade": false,
     "grade_id": "cell-5e33e47f87d09f21",
     "locked": true,
     "schema_version": 3,
     "solution": false,
     "task": false
    }
   },
   "source": [
    "----------\n",
    "----------\n",
    "e.) **(1 point)** Close the connection.\n",
    "\n",
    "----------"
   ]
  },
  {
   "cell_type": "code",
   "execution_count": 41,
   "id": "9783e642",
   "metadata": {
    "deletable": false,
    "nbgrader": {
     "cell_type": "code",
     "checksum": "a3f4f35072df47f7c0e9c70c91ef8009",
     "grade": false,
     "grade_id": "cell-b69d938db7aa93b2",
     "locked": false,
     "schema_version": 3,
     "solution": true,
     "task": false
    }
   },
   "outputs": [],
   "source": [
    "# YOUR CODE HERE\n",
    "conn.close()"
   ]
  },
  {
   "cell_type": "code",
   "execution_count": null,
   "id": "7b2a17b7",
   "metadata": {
    "deletable": false,
    "editable": false,
    "nbgrader": {
     "cell_type": "code",
     "checksum": "73c28d160d58a78c7097e406c3995e6a",
     "grade": true,
     "grade_id": "cell-5c19e0eb26c3b078",
     "locked": true,
     "points": 1,
     "schema_version": 3,
     "solution": false,
     "task": false
    }
   },
   "outputs": [],
   "source": []
  },
  {
   "cell_type": "markdown",
   "id": "731fde5f",
   "metadata": {},
   "source": [
    "## Question 2 (30 Points)\n",
    "------------\n",
    "\n",
    "We will connect to the database given in the file **music.db**. This database has quite a large\n",
    "number of tables. We will deal with the following tables which have the following\n",
    "columns.\n",
    "- album: album id, title, artist id\n",
    "- artist: artist id, name\n",
    "- genre: genre id, name\n",
    "- track: track id, name, album id, media type id, genre id, composer, milliseconds, bytes, unit price"
   ]
  },
  {
   "cell_type": "code",
   "execution_count": 31,
   "id": "60bdc5e9",
   "metadata": {
    "deletable": false,
    "editable": false,
    "nbgrader": {
     "cell_type": "code",
     "checksum": "ed5cc5cac1e76f52123e3a9e0d390e43",
     "grade": false,
     "grade_id": "cell-5871a329f307ceae",
     "locked": true,
     "schema_version": 3,
     "solution": false,
     "task": false
    }
   },
   "outputs": [],
   "source": [
    "m_conn = sqlite3.connect('music.db')"
   ]
  },
  {
   "cell_type": "markdown",
   "id": "d6cda008",
   "metadata": {
    "deletable": false,
    "editable": false,
    "nbgrader": {
     "cell_type": "markdown",
     "checksum": "ccf666d8add00184a308a11c6e21da4a",
     "grade": false,
     "grade_id": "cell-55651df6e8f7b7e4",
     "locked": true,
     "schema_version": 3,
     "solution": false,
     "task": false
    }
   },
   "source": [
    "--------------\n",
    "--------------\n",
    "a.) **(5 points)** Construct a query which lists the  albums  Iron Maiden have in the database and put it into variable called _maiden_\n",
    "\n",
    "--------------"
   ]
  },
  {
   "cell_type": "code",
   "execution_count": 32,
   "id": "8dbefca7",
   "metadata": {
    "deletable": false,
    "nbgrader": {
     "cell_type": "code",
     "checksum": "96910b07b7ed8b62fea4d43e027ca28f",
     "grade": false,
     "grade_id": "cell-f5165ba583e168f9",
     "locked": false,
     "schema_version": 3,
     "solution": true,
     "task": false
    }
   },
   "outputs": [
    {
     "data": {
      "text/plain": [
       "[('A Matter of Life and Death',),\n",
       " ('A Real Dead One',),\n",
       " ('A Real Live One',),\n",
       " ('Brave New World',),\n",
       " ('Dance Of Death',),\n",
       " ('Fear Of The Dark',),\n",
       " ('Iron Maiden',),\n",
       " ('Killers',),\n",
       " ('Live After Death',),\n",
       " ('Live At Donington 1992 (Disc 1)',),\n",
       " ('Live At Donington 1992 (Disc 2)',),\n",
       " ('No Prayer For The Dying',),\n",
       " ('Piece Of Mind',),\n",
       " ('Powerslave',),\n",
       " ('Rock In Rio [cd1]',),\n",
       " ('Rock In Rio [cd2]',),\n",
       " ('Seventh Son of a Seventh Son',),\n",
       " ('Somewhere in Time',),\n",
       " ('The Number of The Beast',),\n",
       " ('The X Factor',),\n",
       " ('Virtual XI',)]"
      ]
     },
     "execution_count": 32,
     "metadata": {},
     "output_type": "execute_result"
    }
   ],
   "source": [
    "# YOUR CODE HERE\n",
    "cursorObject = m_conn.cursor()\n",
    "cursorObject.execute('''SELECT title FROM  album \n",
    "                     INNER JOIN artist ON album.artist_id = artist.artist_id\n",
    "                     WHERE artist.name = \"Iron Maiden\"''')\n",
    "maiden = cursorObject.fetchall()\n",
    "cursorObject.close()\n",
    "maiden"
   ]
  },
  {
   "cell_type": "code",
   "execution_count": null,
   "id": "a8203c1b",
   "metadata": {
    "deletable": false,
    "editable": false,
    "nbgrader": {
     "cell_type": "code",
     "checksum": "447aa280ce3b10bc9e209a6121bb4393",
     "grade": true,
     "grade_id": "cell-4b6426817ca3b4e9",
     "locked": true,
     "points": 5,
     "schema_version": 3,
     "solution": false,
     "task": false
    }
   },
   "outputs": [],
   "source": []
  },
  {
   "cell_type": "markdown",
   "id": "b5273df8",
   "metadata": {
    "deletable": false,
    "editable": false,
    "nbgrader": {
     "cell_type": "markdown",
     "checksum": "d26abc5062d67eb991bcce5e86afbcd7",
     "grade": false,
     "grade_id": "cell-987bc1d01340e999",
     "locked": true,
     "schema_version": 3,
     "solution": false,
     "task": false
    }
   },
   "source": [
    "--------------\n",
    "--------------\n",
    "b.) **(5 points)** Construct a query which lists all the tracks on the album Californication and store the result in a variable called _rhcp_\n",
    "\n",
    "--------------"
   ]
  },
  {
   "cell_type": "code",
   "execution_count": 33,
   "id": "e7249368",
   "metadata": {
    "deletable": false,
    "nbgrader": {
     "cell_type": "code",
     "checksum": "f3b8e4ad17c73e10891195da50061dbb",
     "grade": false,
     "grade_id": "cell-f647d1adcb7ea752",
     "locked": false,
     "schema_version": 3,
     "solution": true,
     "task": false
    }
   },
   "outputs": [
    {
     "data": {
      "text/plain": [
       "[('Around The World',),\n",
       " ('Parallel Universe',),\n",
       " ('Scar Tissue',),\n",
       " ('Otherside',),\n",
       " ('Get On Top',),\n",
       " ('Californication',),\n",
       " ('Easily',),\n",
       " ('Porcelain',),\n",
       " ('Emit Remmus',),\n",
       " ('I Like Dirt',),\n",
       " ('This Velvet Glove',),\n",
       " ('Savior',),\n",
       " ('Purple Stain',),\n",
       " ('Right On Time',),\n",
       " (\"Road Trippin'\",)]"
      ]
     },
     "execution_count": 33,
     "metadata": {},
     "output_type": "execute_result"
    }
   ],
   "source": [
    "# YOUR CODE HERE\n",
    "cursorObject = m_conn.cursor()\n",
    "cursorObject.execute('''SELECT name FROM track\n",
    "                        INNER JOIN album ON track.album_id = album.album_id\n",
    "                        WHERE album.title = \"Californication\"''')\n",
    "rhcp = cursorObject.fetchall()\n",
    "cursorObject.close()\n",
    "rhcp"
   ]
  },
  {
   "cell_type": "code",
   "execution_count": null,
   "id": "df3dea8a",
   "metadata": {
    "deletable": false,
    "editable": false,
    "nbgrader": {
     "cell_type": "code",
     "checksum": "0a67a45cebea3c56011e96cbc48bad5c",
     "grade": true,
     "grade_id": "cell-c9413acfca6e2c28",
     "locked": true,
     "points": 5,
     "schema_version": 3,
     "solution": false,
     "task": false
    }
   },
   "outputs": [],
   "source": []
  },
  {
   "cell_type": "markdown",
   "id": "9f843ba2",
   "metadata": {
    "deletable": false,
    "editable": false,
    "nbgrader": {
     "cell_type": "markdown",
     "checksum": "b3c62f9e37d453f27688ac21e830d43e",
     "grade": false,
     "grade_id": "cell-d42f0ceed080fa98",
     "locked": true,
     "schema_version": 3,
     "solution": false,
     "task": false
    }
   },
   "source": [
    "--------------\n",
    "--------------\n",
    "\n",
    "c.) **(10 points)** Construct a query which returns how much it would cost to buy all Deep Purple songs to the nearest pound and store it in a variable called _rockon_\n",
    "- You should assume the track costs are in pounds\n",
    "\n",
    "---------------"
   ]
  },
  {
   "cell_type": "code",
   "execution_count": 34,
   "id": "7629a591",
   "metadata": {
    "deletable": false,
    "nbgrader": {
     "cell_type": "code",
     "checksum": "a653fdff20be7abe19d2dacbfcba9093",
     "grade": false,
     "grade_id": "cell-87e53aac9841a7cd",
     "locked": false,
     "schema_version": 3,
     "solution": true,
     "task": false
    }
   },
   "outputs": [
    {
     "data": {
      "text/plain": [
       "91.0"
      ]
     },
     "execution_count": 34,
     "metadata": {},
     "output_type": "execute_result"
    }
   ],
   "source": [
    "# YOUR CODE HERE\n",
    "cursorObject = m_conn.cursor()\n",
    "cursorObject.execute('''SELECT ROUND(SUM(unit_price)) FROM track\n",
    "                        INNER JOIN album ON track.album_id = album.album_id\n",
    "                        WHERE album.artist_id IN (SELECT artist_id FROM artist WHERE name = \"Deep Purple\")''')\n",
    "rockon = cursorObject.fetchall()[0][0]\n",
    "cursorObject.close()\n",
    "rockon"
   ]
  },
  {
   "cell_type": "code",
   "execution_count": null,
   "id": "94db5ab9",
   "metadata": {
    "deletable": false,
    "editable": false,
    "nbgrader": {
     "cell_type": "code",
     "checksum": "58d9a500cdcf3040ae26b1ef9f775175",
     "grade": true,
     "grade_id": "cell-39d561dd07a1487e",
     "locked": true,
     "points": 10,
     "schema_version": 3,
     "solution": false,
     "task": false
    }
   },
   "outputs": [],
   "source": []
  },
  {
   "cell_type": "markdown",
   "id": "190166db",
   "metadata": {
    "deletable": false,
    "editable": false,
    "nbgrader": {
     "cell_type": "markdown",
     "checksum": "7a4d16c724bae7fa3af7749de2c6a4cd",
     "grade": false,
     "grade_id": "cell-957ef22d55b4aad1",
     "locked": true,
     "schema_version": 3,
     "solution": false,
     "task": false
    }
   },
   "source": [
    "--------------\n",
    "--------------\n",
    "\n",
    "d.) **(10 points)** Construct a query which returns the name and the length of the longest Metal song and transforms it in seconds (to the nearest second) and stores the name in a variable called _longsong_ and the length in a variable called _time_\n",
    "\n",
    "---------------\n"
   ]
  },
  {
   "cell_type": "code",
   "execution_count": 12,
   "id": "6d7aefd8",
   "metadata": {
    "deletable": false,
    "nbgrader": {
     "cell_type": "code",
     "checksum": "cd779f6f832c50bccf5f2cc1dc2b3ec2",
     "grade": false,
     "grade_id": "cell-0e127f632129599f",
     "locked": false,
     "schema_version": 3,
     "solution": true,
     "task": false
    }
   },
   "outputs": [
    {
     "data": {
      "text/plain": [
       "('Rime of the Ancient Mariner', 816.0)"
      ]
     },
     "execution_count": 12,
     "metadata": {},
     "output_type": "execute_result"
    }
   ],
   "source": [
    "# YOUR CODE HERE\n",
    "cursorObject = m_conn.cursor()\n",
    "cursorObject.execute('''SELECT track.name, ROUND(MAX(milliseconds)/1000) FROM track\n",
    "                        INNER JOIN genre ON track.genre_id = genre.genre_id\n",
    "                        WHERE genre.name = \"Metal\"''')\n",
    "longsong, time = cursorObject.fetchall()[0]\n",
    "cursorObject.close()\n",
    "longsong, time"
   ]
  },
  {
   "cell_type": "code",
   "execution_count": null,
   "id": "a3810ad4",
   "metadata": {
    "deletable": false,
    "editable": false,
    "nbgrader": {
     "cell_type": "code",
     "checksum": "64f41d9752718e2bd9f188b5ffd3ad47",
     "grade": true,
     "grade_id": "cell-ad34c0ea525892b1",
     "locked": true,
     "points": 10,
     "schema_version": 3,
     "solution": false,
     "task": false
    }
   },
   "outputs": [],
   "source": []
  },
  {
   "cell_type": "code",
   "execution_count": 13,
   "id": "2b745049",
   "metadata": {
    "deletable": false,
    "editable": false,
    "nbgrader": {
     "cell_type": "code",
     "checksum": "bc0e029473a3df9bd47835142af70524",
     "grade": false,
     "grade_id": "cell-f02287a7cc716531",
     "locked": true,
     "schema_version": 3,
     "solution": false,
     "task": false
    }
   },
   "outputs": [],
   "source": [
    "m_conn.close()"
   ]
  },
  {
   "cell_type": "markdown",
   "id": "e45c773f",
   "metadata": {},
   "source": [
    "## Question 3 (30 Points)\n",
    "------------\n",
    "\n",
    "\n",
    "We will connect to the database given in the file **football.db**. This database has players and some of their statistics in 2 tables:\n",
    "- 'Players'\n",
    "- 'Player_Attributes'\n",
    "\n",
    "The tables are linked via **player_api_id**\n",
    "\n",
    "Unless otherwise stated you must only use SQL queries to get full marks. Below are the tables:\n",
    "\n",
    "**'Players'**\n",
    "<img src=\"1.png\" alt=\"Drawing\" style=\"width: 250px;\"/>\n",
    "\n",
    "**'Player Attributes'**\n",
    "![title](3.png)\n",
    "\n",
    "\n"
   ]
  },
  {
   "cell_type": "markdown",
   "id": "551e7098",
   "metadata": {},
   "source": [
    "-----------\n",
    "-----------\n",
    "\n",
    "a.) **(5 points)** How many goalkeepers are in the database. Store the number (and only the number as an integer) in a variable called _keeper_.\n",
    "\n",
    "------------\n"
   ]
  },
  {
   "cell_type": "code",
   "execution_count": 44,
   "id": "99a8dfff",
   "metadata": {},
   "outputs": [],
   "source": [
    "conn = sqlite3.connect('football.db')"
   ]
  },
  {
   "cell_type": "code",
   "execution_count": 45,
   "id": "c6f1dab3",
   "metadata": {},
   "outputs": [
    {
     "name": "stdout",
     "output_type": "stream",
     "text": [
      "(6556, 27299, 'Manuel Neuer', 167495, '1986-03-27 00:00:00', 193.04, 203, 109062, 167495, 27299, '2007-02-22 00:00:00', 64, 76, 'right', 'medium', 'medium', 9, 8, 11, 28, 7, 9, 13, 45, 47, 24, 57, 58, 53, 69, 67, 26, 83, 52, 76, 12, 26, 50, 39, 33, 45, 15, 26, 9, 64, 60, 47, 57, 69)\n",
      "(6176, 30981, 'Lionel Messi', 158023, '1987-06-24 00:00:00', 170.18, 159, 102508, 158023, 30981, '2007-02-22 00:00:00', 85, 94, 'left', 'high', 'medium', 85, 76, 59, 86, 88, 95, 87, 87, 79, 92, 92, 94, 96, 85, 86, 83, 64, 74, 55, 84, 62, 75, 89, 91, 87, 20, 25, 20, 8, 9, 79, 12, 16)\n"
     ]
    }
   ],
   "source": [
    "# Let's investigate how we can find which players are goalkeepers.\n",
    "# I will look at the stats of Messi and Neuer, and see if there is a significant difference.\n",
    "cursorObject = conn.cursor()\n",
    "cursorObject.execute('''SELECT * FROM player INNER JOIN player_attributes ON player.player_api_id = player_attributes.player_api_id WHERE player_name=\"Manuel Neuer\"''')\n",
    "neuer = cursorObject.fetchall()[-1]\n",
    "cursorObject.execute('''SELECT * FROM player INNER JOIN player_attributes ON player.player_api_id = player_attributes.player_api_id WHERE player_name=\"Lionel Messi\"''')\n",
    "messi = cursorObject.fetchall()[-1]\n",
    "cursorObject.close()\n",
    "print(neuer)\n",
    "print(messi)"
   ]
  },
  {
   "cell_type": "markdown",
   "id": "59c97a21",
   "metadata": {},
   "source": [
    "It seems that we can't easily seperate the goalkeepers from the other players. For the games presented, there are values recorded for each attribute for Neuer, even though he is a goalkeeper and some of the attributes don't seem to be relevant for goalkeepers. On top of that, Messi's stat for 'gk_kicking' is almost twice that of Neuer's, which again doesn't make sense. We need to dig deeper to find out how to seperate the goalkeepers from the other players. Next, I will gather all the data into a dataframe for easy plotting and analysis."
   ]
  },
  {
   "cell_type": "code",
   "execution_count": 46,
   "id": "1c980b3f",
   "metadata": {},
   "outputs": [
    {
     "data": {
      "text/html": [
       "<div>\n",
       "<style scoped>\n",
       "    .dataframe tbody tr th:only-of-type {\n",
       "        vertical-align: middle;\n",
       "    }\n",
       "\n",
       "    .dataframe tbody tr th {\n",
       "        vertical-align: top;\n",
       "    }\n",
       "\n",
       "    .dataframe thead th {\n",
       "        text-align: right;\n",
       "    }\n",
       "</style>\n",
       "<table border=\"1\" class=\"dataframe\">\n",
       "  <thead>\n",
       "    <tr style=\"text-align: right;\">\n",
       "      <th></th>\n",
       "      <th>id</th>\n",
       "      <th>player_api_id</th>\n",
       "      <th>player_name</th>\n",
       "      <th>player_fifa_api_id</th>\n",
       "      <th>birthday</th>\n",
       "      <th>height</th>\n",
       "      <th>weight</th>\n",
       "      <th>id</th>\n",
       "      <th>player_fifa_api_id</th>\n",
       "      <th>player_api_id</th>\n",
       "      <th>...</th>\n",
       "      <th>vision</th>\n",
       "      <th>penalties</th>\n",
       "      <th>marking</th>\n",
       "      <th>standing_tackle</th>\n",
       "      <th>sliding_tackle</th>\n",
       "      <th>gk_diving</th>\n",
       "      <th>gk_handling</th>\n",
       "      <th>gk_kicking</th>\n",
       "      <th>gk_positioning</th>\n",
       "      <th>gk_reflexes</th>\n",
       "    </tr>\n",
       "  </thead>\n",
       "  <tbody>\n",
       "    <tr>\n",
       "      <th>0</th>\n",
       "      <td>1</td>\n",
       "      <td>505942</td>\n",
       "      <td>Aaron Appindangoye</td>\n",
       "      <td>218353</td>\n",
       "      <td>1992-02-29 00:00:00</td>\n",
       "      <td>182.88</td>\n",
       "      <td>187</td>\n",
       "      <td>1</td>\n",
       "      <td>218353</td>\n",
       "      <td>505942</td>\n",
       "      <td>...</td>\n",
       "      <td>54.0</td>\n",
       "      <td>48.0</td>\n",
       "      <td>65.0</td>\n",
       "      <td>69.0</td>\n",
       "      <td>69.0</td>\n",
       "      <td>6.0</td>\n",
       "      <td>11.0</td>\n",
       "      <td>10.0</td>\n",
       "      <td>8.0</td>\n",
       "      <td>8.0</td>\n",
       "    </tr>\n",
       "    <tr>\n",
       "      <th>1</th>\n",
       "      <td>1</td>\n",
       "      <td>505942</td>\n",
       "      <td>Aaron Appindangoye</td>\n",
       "      <td>218353</td>\n",
       "      <td>1992-02-29 00:00:00</td>\n",
       "      <td>182.88</td>\n",
       "      <td>187</td>\n",
       "      <td>2</td>\n",
       "      <td>218353</td>\n",
       "      <td>505942</td>\n",
       "      <td>...</td>\n",
       "      <td>54.0</td>\n",
       "      <td>48.0</td>\n",
       "      <td>65.0</td>\n",
       "      <td>69.0</td>\n",
       "      <td>69.0</td>\n",
       "      <td>6.0</td>\n",
       "      <td>11.0</td>\n",
       "      <td>10.0</td>\n",
       "      <td>8.0</td>\n",
       "      <td>8.0</td>\n",
       "    </tr>\n",
       "    <tr>\n",
       "      <th>2</th>\n",
       "      <td>1</td>\n",
       "      <td>505942</td>\n",
       "      <td>Aaron Appindangoye</td>\n",
       "      <td>218353</td>\n",
       "      <td>1992-02-29 00:00:00</td>\n",
       "      <td>182.88</td>\n",
       "      <td>187</td>\n",
       "      <td>3</td>\n",
       "      <td>218353</td>\n",
       "      <td>505942</td>\n",
       "      <td>...</td>\n",
       "      <td>54.0</td>\n",
       "      <td>48.0</td>\n",
       "      <td>65.0</td>\n",
       "      <td>66.0</td>\n",
       "      <td>69.0</td>\n",
       "      <td>6.0</td>\n",
       "      <td>11.0</td>\n",
       "      <td>10.0</td>\n",
       "      <td>8.0</td>\n",
       "      <td>8.0</td>\n",
       "    </tr>\n",
       "    <tr>\n",
       "      <th>3</th>\n",
       "      <td>1</td>\n",
       "      <td>505942</td>\n",
       "      <td>Aaron Appindangoye</td>\n",
       "      <td>218353</td>\n",
       "      <td>1992-02-29 00:00:00</td>\n",
       "      <td>182.88</td>\n",
       "      <td>187</td>\n",
       "      <td>4</td>\n",
       "      <td>218353</td>\n",
       "      <td>505942</td>\n",
       "      <td>...</td>\n",
       "      <td>53.0</td>\n",
       "      <td>47.0</td>\n",
       "      <td>62.0</td>\n",
       "      <td>63.0</td>\n",
       "      <td>66.0</td>\n",
       "      <td>5.0</td>\n",
       "      <td>10.0</td>\n",
       "      <td>9.0</td>\n",
       "      <td>7.0</td>\n",
       "      <td>7.0</td>\n",
       "    </tr>\n",
       "    <tr>\n",
       "      <th>4</th>\n",
       "      <td>1</td>\n",
       "      <td>505942</td>\n",
       "      <td>Aaron Appindangoye</td>\n",
       "      <td>218353</td>\n",
       "      <td>1992-02-29 00:00:00</td>\n",
       "      <td>182.88</td>\n",
       "      <td>187</td>\n",
       "      <td>5</td>\n",
       "      <td>218353</td>\n",
       "      <td>505942</td>\n",
       "      <td>...</td>\n",
       "      <td>53.0</td>\n",
       "      <td>47.0</td>\n",
       "      <td>62.0</td>\n",
       "      <td>63.0</td>\n",
       "      <td>66.0</td>\n",
       "      <td>5.0</td>\n",
       "      <td>10.0</td>\n",
       "      <td>9.0</td>\n",
       "      <td>7.0</td>\n",
       "      <td>7.0</td>\n",
       "    </tr>\n",
       "  </tbody>\n",
       "</table>\n",
       "<p>5 rows × 49 columns</p>\n",
       "</div>"
      ],
      "text/plain": [
       "   id  player_api_id         player_name  player_fifa_api_id  \\\n",
       "0   1         505942  Aaron Appindangoye              218353   \n",
       "1   1         505942  Aaron Appindangoye              218353   \n",
       "2   1         505942  Aaron Appindangoye              218353   \n",
       "3   1         505942  Aaron Appindangoye              218353   \n",
       "4   1         505942  Aaron Appindangoye              218353   \n",
       "\n",
       "              birthday  height  weight  id  player_fifa_api_id  player_api_id  \\\n",
       "0  1992-02-29 00:00:00  182.88     187   1              218353         505942   \n",
       "1  1992-02-29 00:00:00  182.88     187   2              218353         505942   \n",
       "2  1992-02-29 00:00:00  182.88     187   3              218353         505942   \n",
       "3  1992-02-29 00:00:00  182.88     187   4              218353         505942   \n",
       "4  1992-02-29 00:00:00  182.88     187   5              218353         505942   \n",
       "\n",
       "   ... vision  penalties  marking standing_tackle sliding_tackle gk_diving  \\\n",
       "0  ...   54.0       48.0     65.0            69.0           69.0       6.0   \n",
       "1  ...   54.0       48.0     65.0            69.0           69.0       6.0   \n",
       "2  ...   54.0       48.0     65.0            66.0           69.0       6.0   \n",
       "3  ...   53.0       47.0     62.0            63.0           66.0       5.0   \n",
       "4  ...   53.0       47.0     62.0            63.0           66.0       5.0   \n",
       "\n",
       "   gk_handling  gk_kicking  gk_positioning  gk_reflexes  \n",
       "0         11.0        10.0             8.0          8.0  \n",
       "1         11.0        10.0             8.0          8.0  \n",
       "2         11.0        10.0             8.0          8.0  \n",
       "3         10.0         9.0             7.0          7.0  \n",
       "4         10.0         9.0             7.0          7.0  \n",
       "\n",
       "[5 rows x 49 columns]"
      ]
     },
     "execution_count": 46,
     "metadata": {},
     "output_type": "execute_result"
    }
   ],
   "source": [
    "cursorObject = conn.cursor()\n",
    "\n",
    "# Get column names\n",
    "cursorObject.execute('''PRAGMA table_info(player_attributes);\n",
    "''')\n",
    "attributes_columns = cursorObject.fetchall()\n",
    "cursorObject.execute('''PRAGMA table_info(player);\n",
    "''')\n",
    "player_columns = cursorObject.fetchall()\n",
    "\n",
    "attributes_columns = [column[1] for column in attributes_columns]\n",
    "player_columns = [column[1] for column in player_columns]\n",
    "\n",
    "# Convert the tables into dataframe\n",
    "cursorObject.execute('''SELECT * FROM player INNER JOIN player_attributes ON player.player_api_id = player_attributes.player_api_id''')\n",
    "players = cursorObject.fetchall()\n",
    "cursorObject.close()\n",
    "players = pd.DataFrame(players, columns = player_columns + attributes_columns)\n",
    "players = players.dropna()\n",
    "players.head()"
   ]
  },
  {
   "cell_type": "markdown",
   "id": "6eaf5ecb",
   "metadata": {},
   "source": [
    "Let's now plot the histograms of the goalkeeper attributes."
   ]
  },
  {
   "cell_type": "code",
   "execution_count": 47,
   "id": "8101669e",
   "metadata": {},
   "outputs": [
    {
     "data": {
      "text/plain": [
       "Text(0.5, 1.0, 'GK Reflexes')"
      ]
     },
     "execution_count": 47,
     "metadata": {},
     "output_type": "execute_result"
    },
    {
     "data": {
      "image/png": "[encoded data removed]",
      "text/plain": [
       "<Figure size 2000x1500 with 6 Axes>"
      ]
     },
     "metadata": {},
     "output_type": "display_data"
    }
   ],
   "source": [
    "fig, ax = plt.subplots(2, 3, figsize=(20, 15))\n",
    "\n",
    "ax[0, 0].hist(players['gk_diving'], bins=100, alpha=0.5);\n",
    "ax[0,0].set_title('GK Diving')\n",
    "ax[1, 0].hist(players['gk_handling'], bins=100, alpha=0.5);\n",
    "ax[1,0].set_title('GK Handling')\n",
    "ax[0, 1].hist(players['gk_kicking'], bins=100, alpha=0.5);\n",
    "ax[0,1].set_title('GK Kicking')\n",
    "ax[1, 1].hist(players['gk_positioning'], bins=100, alpha=0.5);\n",
    "ax[1,1].set_title('GK Positioning')\n",
    "ax[0, 2].hist(players['gk_reflexes'], bins=100, alpha=0.5);\n",
    "ax[0,2].set_title('GK Reflexes')"
   ]
  },
  {
   "cell_type": "markdown",
   "id": "5d7dfe3f",
   "metadata": {},
   "source": [
    "In all of the plots there are a lot of values between 0 and 25 and then bell curves around 60-80. We can try using values which fall only in the bell curves to seperate the goalkeepers from the other players. By looking at the plots we can assume some cutoff values which we can use to seperate the goalkeepers from the other players. It is possible we miss some goalkeepers by using this strategy, however, given that we observe multiple games for each player, I hope that each goalkeeper will surpass these thresholds in at least one game. We will use the following cutoff values:\n",
    "* gk_diving: 40\n",
    "* gk_handling: 20\n",
    "* gk_kicking: 40\n",
    "* gk_positioning: 40\n",
    "* gk_reflexes: 40\n",
    "\n",
    "Now let's make an SQL query to find out how many goalkeepers there are in the database. "
   ]
  },
  {
   "cell_type": "code",
   "execution_count": 48,
   "id": "7e16db5e",
   "metadata": {},
   "outputs": [
    {
     "name": "stdout",
     "output_type": "stream",
     "text": [
      "First 10 goalkeepers: [('Abdoulaye Diallo',), ('Achille Coser',), ('Adam Bogdan',), ('Adam Collin',), ('Adam Federici',), ('Adrian',), ('Adriano Facchini',), ('Alan Combe',), ('Alan Mannus',), ('Alan Martin',)]\n",
      "Number of keepers: 951\n"
     ]
    }
   ],
   "source": [
    "cursorObject = conn.cursor()\n",
    "cursorObject.execute('''SELECT DISTINCT player_name from player \n",
    "                        INNER JOIN player_attributes ON player.player_api_id = player_attributes.player_api_id \n",
    "                        WHERE gk_diving > 40 AND gk_handling > 20 AND gk_kicking > 40 AND gk_positioning > 40 AND gk_reflexes > 40''')\n",
    "gk = cursorObject.fetchall()\n",
    "cursorObject.close()\n",
    "keeper = len(gk)\n",
    "print(f\"First 10 goalkeepers: {gk[:10]}\")\n",
    "print(f\"Number of keepers: {keeper}\")"
   ]
  },
  {
   "cell_type": "markdown",
   "id": "d02c4e91",
   "metadata": {},
   "source": [
    "A quick google of some of the names confirms we might be correct as all of the first 10 players are goalkeepers. "
   ]
  },
  {
   "cell_type": "code",
   "execution_count": null,
   "id": "643c88bd",
   "metadata": {
    "deletable": false,
    "editable": false,
    "nbgrader": {
     "cell_type": "code",
     "checksum": "72968c006a7c90e09ace2b7a22ef8c64",
     "grade": true,
     "grade_id": "cell-e2fa16949400d2a7",
     "locked": true,
     "points": 5,
     "schema_version": 3,
     "solution": false,
     "task": false
    }
   },
   "outputs": [],
   "source": []
  },
  {
   "cell_type": "markdown",
   "id": "e65ef00a",
   "metadata": {
    "deletable": false,
    "editable": false,
    "nbgrader": {
     "cell_type": "markdown",
     "checksum": "af71ef63b39dab0e18da9940e3a3a0d9",
     "grade": false,
     "grade_id": "cell-6987849457b815ba",
     "locked": true,
     "schema_version": 3,
     "solution": false,
     "task": false
    }
   },
   "source": [
    "\n",
    "-----------\n",
    "-----------\n",
    "\n",
    "b.)  **(10 points )** Find the player with the maximum ability for **marking**. Return the score the player has have for marking, the name, and the players height in meters. Store the three values (in this order) in a tuple called _mk_.\n",
    "\n",
    "------------\n"
   ]
  },
  {
   "cell_type": "code",
   "execution_count": 29,
   "id": "c0f38ac1",
   "metadata": {
    "deletable": false,
    "nbgrader": {
     "cell_type": "code",
     "checksum": "26d71c70d224dff7240ac2314595e7fe",
     "grade": false,
     "grade_id": "cell-213481cd33c0d3b0",
     "locked": false,
     "schema_version": 3,
     "solution": true,
     "task": false
    }
   },
   "outputs": [
    {
     "data": {
      "text/plain": [
       "(96, 'Fabio Cannavaro', 1.7526)"
      ]
     },
     "execution_count": 29,
     "metadata": {},
     "output_type": "execute_result"
    }
   ],
   "source": [
    "# YOUR CODE HERE\n",
    "cursorObject = conn.cursor()\n",
    "cursorObject.execute('''SELECT max(player_attributes.marking), player.player_name, player.height/100 FROM player_attributes\n",
    "                        INNER JOIN player ON player_attributes.player_api_id = player.player_api_id''')\n",
    "mk = cursorObject.fetchall()\n",
    "cursorObject.close()\n",
    "mk = mk[0]\n",
    "mk"
   ]
  },
  {
   "cell_type": "code",
   "execution_count": null,
   "id": "c98588f8",
   "metadata": {
    "deletable": false,
    "editable": false,
    "nbgrader": {
     "cell_type": "code",
     "checksum": "a412a2a0dcc08eef63c7c9a702957c53",
     "grade": true,
     "grade_id": "cell-7588bd2dd74d6957",
     "locked": true,
     "points": 10,
     "schema_version": 3,
     "solution": false,
     "task": false
    }
   },
   "outputs": [],
   "source": []
  },
  {
   "cell_type": "markdown",
   "id": "302356b3",
   "metadata": {
    "deletable": false,
    "editable": false,
    "nbgrader": {
     "cell_type": "markdown",
     "checksum": "a01409f6d1bc0843129d9427ed21625e",
     "grade": false,
     "grade_id": "cell-c6042b92a53ac8d6",
     "locked": true,
     "schema_version": 3,
     "solution": false,
     "task": false
    }
   },
   "source": [
    "\n",
    "-----------\n",
    "-----------\n",
    "\n",
    "c.)  **(15 points )** Here you will use matplotlib. Create 2 plots in 1 row where:\n",
    " - the first is a scatter plot of weight and dribbling (use a point size of 2)\n",
    " - the second is a histogram with 25 bins on the height of goalkeepers (use a transparency of 0.3)\n",
    "\n",
    "**Note:** To get full marks you should not use any filtering after the SQL query but you may use multiple queries and you may chnage the format of the output.\n",
    "\n",
    "------------\n"
   ]
  },
  {
   "cell_type": "code",
   "execution_count": 19,
   "id": "71a4495e",
   "metadata": {
    "deletable": false,
    "nbgrader": {
     "cell_type": "code",
     "checksum": "914d543d5cad4c442e42341043cf3d27",
     "grade": true,
     "grade_id": "cell-443ab8bd971c7123",
     "locked": false,
     "points": 15,
     "schema_version": 3,
     "solution": true,
     "task": false
    }
   },
   "outputs": [
    {
     "data": {
      "image/png": "[encoded data removed]",
      "text/plain": [
       "<Figure size 1500x800 with 2 Axes>"
      ]
     },
     "metadata": {},
     "output_type": "display_data"
    }
   ],
   "source": [
    "# YOUR CODE HERE\n",
    "cursorObject = conn.cursor()\n",
    "cursorObject.execute('''SELECT weight, dribbling FROM player INNER JOIN player_attributes ON player.player_api_id = player_attributes.player_api_id''')\n",
    "wh = np.array(cursorObject.fetchall())\n",
    "cursorObject.execute('''SELECT height FROM player\n",
    "                        INNER JOIN player_attributes ON player.player_api_id = player_attributes.player_api_id \n",
    "                        WHERE gk_diving > 40 AND gk_handling > 20 AND gk_kicking > 40 AND gk_positioning > 40 AND gk_reflexes > 40''')\n",
    "gk_height = np.array(cursorObject.fetchall())\n",
    "cursorObject.close()\n",
    "\n",
    "fig, ax = plt.subplots(1, 2, figsize=(15, 8))\n",
    "\n",
    "ax[0].scatter(wh[:, 0], wh[:, 1], s=2);\n",
    "ax[0].set_title('Weight vs Dribbling')\n",
    "ax[0].set_xlabel('Weight')\n",
    "ax[0].set_ylabel('Dribbling')\n",
    "ax[1].hist(gk_height, bins=25, alpha=0.3);\n",
    "ax[1].set_title('Height of Goalkeepers')\n",
    "ax[1].set_xlabel('Height')\n",
    "ax[1].set_ylabel('Count');"
   ]
  },
  {
   "cell_type": "code",
   "execution_count": 43,
   "id": "e30820a0",
   "metadata": {},
   "outputs": [],
   "source": [
    "conn.close()"
   ]
  },
  {
   "cell_type": "code",
   "execution_count": null,
   "id": "13905259",
   "metadata": {},
   "outputs": [],
   "source": []
  }
 ],
 "metadata": {
  "kernelspec": {
   "display_name": "Python 3 (ipykernel)",
   "language": "python",
   "name": "python3"
  },
  "language_info": {
   "codemirror_mode": {
    "name": "ipython",
    "version": 3
   },
   "file_extension": ".py",
   "mimetype": "text/x-python",
   "name": "python",
   "nbconvert_exporter": "python",
   "pygments_lexer": "ipython3",
   "version": "3.9.18"
  }
 },
 "nbformat": 4,
 "nbformat_minor": 5
}
