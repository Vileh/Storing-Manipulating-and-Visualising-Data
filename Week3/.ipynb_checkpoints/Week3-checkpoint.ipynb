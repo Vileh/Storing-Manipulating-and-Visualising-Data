{
 "cells": [
  {
   "cell_type": "markdown",
   "metadata": {},
   "source": [
    "# Week 3 Notebook- Plotting with Matplotlib "
   ]
  },
  {
   "cell_type": "code",
   "execution_count": null,
   "metadata": {},
   "outputs": [],
   "source": [
    "# below we load the two libraries we will be using\n",
    "import numpy as np\n",
    "import matplotlib.pyplot as plt\n"
   ]
  },
  {
   "cell_type": "markdown",
   "metadata": {},
   "source": [
    "First we will load the data from the file Apple_Stock.csv into a variable\n",
    "\n",
    "Each block corresponds to one of the lists in the associated work sheet (in the same order)."
   ]
  },
  {
   "cell_type": "markdown",
   "metadata": {},
   "source": [
    " ## Simple plotting\n"
   ]
  },
  {
   "cell_type": "code",
   "execution_count": null,
   "metadata": {},
   "outputs": [],
   "source": [
    "# Use the numpy function loadtxt to load the file into a variable called StockPrice\n",
    "# np.loadtxt('filename')\n"
   ]
  },
  {
   "cell_type": "code",
   "execution_count": null,
   "metadata": {},
   "outputs": [],
   "source": [
    "# Now divide StockProce into two variables X and Y\n"
   ]
  },
  {
   "cell_type": "code",
   "execution_count": null,
   "metadata": {},
   "outputs": [],
   "source": [
    "# create the first plot of X versus Y\n"
   ]
  },
  {
   "cell_type": "code",
   "execution_count": null,
   "metadata": {},
   "outputs": [],
   "source": [
    "# create a scatter plot of X versus Y\n"
   ]
  },
  {
   "cell_type": "markdown",
   "metadata": {},
   "source": [
    "Clearly something is not right with the line plot, we need to sort the first column. "
   ]
  },
  {
   "cell_type": "code",
   "execution_count": null,
   "metadata": {},
   "outputs": [],
   "source": [
    "# use the np.sort function to sort X into vartiable X_sorted\n",
    "# and plot again\n"
   ]
  },
  {
   "cell_type": "code",
   "execution_count": null,
   "metadata": {},
   "outputs": [],
   "source": [
    "# Now we will get it right, we need to sort Y the same way as we sorted X using argsort()\n"
   ]
  },
  {
   "cell_type": "markdown",
   "metadata": {},
   "source": [
    "Here we look at what happens when we have too much data - in this case selective visualisation is important\n",
    "\n",
    "First, as above load the file cos.txt"
   ]
  },
  {
   "cell_type": "code",
   "execution_count": null,
   "metadata": {},
   "outputs": [],
   "source": [
    "# load cos.txt into time and temp respectively - using numpy loadtxt\n"
   ]
  },
  {
   "cell_type": "code",
   "execution_count": null,
   "metadata": {},
   "outputs": [],
   "source": [
    "# plot time vs temp\n"
   ]
  },
  {
   "cell_type": "code",
   "execution_count": null,
   "metadata": {},
   "outputs": [],
   "source": [
    "# plot the first 200 time steps\n"
   ]
  },
  {
   "cell_type": "code",
   "execution_count": null,
   "metadata": {},
   "outputs": [],
   "source": [
    "# plot every 50th sample - this can be done using two colons ::k -> every k-th sample\n"
   ]
  },
  {
   "cell_type": "code",
   "execution_count": null,
   "metadata": {},
   "outputs": [],
   "source": [
    "# plot every 55th sample \n"
   ]
  },
  {
   "cell_type": "markdown",
   "metadata": {},
   "source": [
    " ## Multiple Plots"
   ]
  },
  {
   "cell_type": "markdown",
   "metadata": {},
   "source": [
    "Here we will see two ways of plotting multiple pieces of information simultaneously\n",
    "We will work with the file Gas_measurements.csv"
   ]
  },
  {
   "cell_type": "code",
   "execution_count": null,
   "metadata": {},
   "outputs": [],
   "source": [
    "# First load the file Gas_Measurements.csv \n"
   ]
  },
  {
   "cell_type": "code",
   "execution_count": null,
   "metadata": {},
   "outputs": [],
   "source": [
    "# plot the first column vs the remaining ones\n"
   ]
  },
  {
   "cell_type": "code",
   "execution_count": null,
   "metadata": {
    "scrolled": true
   },
   "outputs": [],
   "source": [
    "# Try to add a legend\n",
    "plt.legend()"
   ]
  },
  {
   "cell_type": "code",
   "execution_count": null,
   "metadata": {},
   "outputs": [],
   "source": [
    "# Add the label argument with labels 'a','b','c','d','e' to the plotting command and add a legend\n"
   ]
  },
  {
   "cell_type": "code",
   "execution_count": null,
   "metadata": {},
   "outputs": [],
   "source": [
    "# create a for loop plotting the first column in X \n",
    "# versus the other columns in X 1 by 1 \n",
    "# Hint: there are 5 other columns)\n",
    "# -------------------------------------------\n",
    "# Create a variable to hold the labels\n",
    "# Make sure to add the correct label in each step\n"
   ]
  },
  {
   "cell_type": "markdown",
   "metadata": {},
   "source": [
    "Here we will create subplots using the subplots function"
   ]
  },
  {
   "cell_type": "code",
   "execution_count": null,
   "metadata": {},
   "outputs": [],
   "source": [
    "# First we create the subplots - all you need to do here is supply row and columns\n",
    "# Notice it returns the figure and an array of axes  (check the types)\n"
   ]
  },
  {
   "cell_type": "code",
   "execution_count": null,
   "metadata": {},
   "outputs": [],
   "source": [
    "# Fill the plots using a for loop\n"
   ]
  },
  {
   "cell_type": "code",
   "execution_count": null,
   "metadata": {},
   "outputs": [],
   "source": [
    "# Extra: Make the subplots fo a 2x3 grid (not all the plots will be filled)\n"
   ]
  },
  {
   "cell_type": "markdown",
   "metadata": {},
   "source": [
    "## Custom Plotting\n",
    "\n",
    "This is extra - if the above was straightforward, try this. We want to have a plot in which the  region underneath a line plot is filled in with a specified color. Your task is to complete the following function so as to achieve this. "
   ]
  },
  {
   "cell_type": "code",
   "execution_count": null,
   "metadata": {},
   "outputs": [],
   "source": [
    "# first we import some additional libraries\n",
    "from matplotlib.patches import Polygon\n",
    "from matplotlib.collections import PatchCollection\n",
    "\n",
    "# the function takes in a Nx2 matrix where we will plot the first column versus\n",
    "# the second column. The line will be color1 and underneath we have the fill color line2. \n",
    "# We also pass the axis to the function, which we then return (this is good practice if\n",
    "# we later want to add to the axis)\n",
    "def plotunder(X,color1,color2,ax):\n",
    "    # plot the line \n",
    "    ax.plot(X[:,0],X[:,1],color=color1)\n",
    "    # your task is to create a variable polygon which contains the points which\n",
    "    # determine the shape - you can assume that the y-axis is always above 0 \n",
    "    # and begins with 0.\n",
    "    \n",
    "   \n",
    "    \n",
    "    p = PatchCollection([Polygon(polygon, closed=True,fill=True,color=color2)],match_original=True)\n",
    "    ax.add_collection(p)\n",
    "    return ax"
   ]
  },
  {
   "cell_type": "code",
   "execution_count": null,
   "metadata": {},
   "outputs": [],
   "source": [
    "# testing the above function\n",
    "fig,ax = plt.subplots(1,1)\n",
    "\n",
    "X = np.loadtxt('Gas_Measurements.csv')\n",
    "Y = X[:,(0,2)]\n",
    "plotunder(Y,'red','blue',ax)"
   ]
  },
  {
   "cell_type": "markdown",
   "metadata": {},
   "source": []
  },
  {
   "cell_type": "code",
   "execution_count": null,
   "metadata": {},
   "outputs": [],
   "source": []
  }
 ],
 "metadata": {
  "kernelspec": {
   "display_name": "Python 3 (ipykernel)",
   "language": "python",
   "name": "python3"
  },
  "language_info": {
   "codemirror_mode": {
    "name": "ipython",
    "version": 3
   },
   "file_extension": ".py",
   "mimetype": "text/x-python",
   "name": "python",
   "nbconvert_exporter": "python",
   "pygments_lexer": "ipython3",
   "version": "3.9.13"
  }
 },
 "nbformat": 4,
 "nbformat_minor": 4
}
