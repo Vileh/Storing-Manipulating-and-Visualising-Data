{
 "cells": [
  {
   "cell_type": "markdown",
   "id": "89830565",
   "metadata": {},
   "source": [
    " Lab Sheet 5 - Pandas and Dataframes\n",
    "================================"
   ]
  },
  {
   "cell_type": "markdown",
   "id": "5dd49f1f",
   "metadata": {},
   "source": [
    "#### This week you will be trying different things with the Pandas library.  In each case, feel free to add cells - and see what is in the dataframe. The goal is to understand and get used to using dataframes.\n",
    "\n",
    "#### First, import the necessary libraries."
   ]
  },
  {
   "cell_type": "code",
   "execution_count": null,
   "id": "4564bcf9",
   "metadata": {},
   "outputs": [],
   "source": [
    "%matplotlib inline\n",
    "import numpy as np\n",
    "import pandas as pd\n",
    "import matplotlib.pyplot as plt"
   ]
  },
  {
   "cell_type": "markdown",
   "id": "ca82bd19",
   "metadata": {},
   "source": [
    "#### We will be working with two datasets:\n",
    "- A list of results from the FIFA World Cup in 2018 - **Fifa2018.csv**\n",
    "- Measures of happiness for different countries - **Happiness2017.csv**"
   ]
  },
  {
   "cell_type": "markdown",
   "id": "a60d29be",
   "metadata": {},
   "source": [
    "#### FIFA\n",
    "\n",
    "1.) Use the _read_csv()_ function the dataset into a dataframe called Fifa."
   ]
  },
  {
   "cell_type": "code",
   "execution_count": null,
   "id": "d8128ed3",
   "metadata": {},
   "outputs": [],
   "source": []
  },
  {
   "cell_type": "markdown",
   "id": "454dde4b",
   "metadata": {},
   "source": [
    "Use _.head()_, _.tail()_, and _.columns_ to look at the dataframe. \n",
    "- How many columns does it have? \n",
    "- How many rows?"
   ]
  },
  {
   "cell_type": "code",
   "execution_count": null,
   "id": "a8425bbf",
   "metadata": {},
   "outputs": [],
   "source": []
  },
  {
   "cell_type": "markdown",
   "id": "9b1ac072",
   "metadata": {},
   "source": [
    "2.) **First plots:** Create a histogram of the goals scored in a game:\n",
    "- calling the command from the dataframe\n",
    "- using matplotlib"
   ]
  },
  {
   "cell_type": "code",
   "execution_count": null,
   "id": "f445b7a4",
   "metadata": {},
   "outputs": [],
   "source": []
  },
  {
   "cell_type": "code",
   "execution_count": null,
   "id": "773c5242",
   "metadata": {},
   "outputs": [],
   "source": []
  },
  {
   "cell_type": "markdown",
   "id": "cf5cab3f",
   "metadata": {},
   "source": [
    "3.) **Getting used to indexing:** Here the goal is to get used to different ways of indexing (there is more below)\n",
    "- What is the date of 5th game? (here the 5th game in the list is meant, not by date) \n",
    "- What is the date of England's 3rd game (as the home team)?  (here the 3rd game in the list is meant, not by date) "
   ]
  },
  {
   "cell_type": "code",
   "execution_count": null,
   "id": "51782ad5",
   "metadata": {},
   "outputs": [],
   "source": []
  },
  {
   "cell_type": "code",
   "execution_count": null,
   "id": "f5e09b5c",
   "metadata": {},
   "outputs": [],
   "source": []
  },
  {
   "cell_type": "markdown",
   "id": "4350d092",
   "metadata": {},
   "source": [
    "4.) **Cleaning up the dataframe:** While powerful, there can be values which cannot be read. \n",
    "- Use the _isnull()_ function called from the dataframe, to see if all values are defined?\n",
    "- Combine it with the _any()_ function to see if which columns (if any) have undefined values. "
   ]
  },
  {
   "cell_type": "code",
   "execution_count": null,
   "id": "b9c8a173",
   "metadata": {},
   "outputs": [],
   "source": []
  },
  {
   "cell_type": "code",
   "execution_count": null,
   "id": "0610ffa0",
   "metadata": {},
   "outputs": [],
   "source": []
  },
  {
   "cell_type": "markdown",
   "id": "471f37af",
   "metadata": {},
   "source": [
    "5.) Create a new variable called Fifa_test using _pd.DataFrame()_ making sure to set _copy=True_. \n",
    "- Use the function _.fillna()_ to set all undefined values to 0 (in Fifa_test). Verify that there are now no undefined values. \n",
    "- Notice that this sets all the NaN values to 0 - while this makes sense to have different values for different columns.  Going back to the variable Fifa. \n",
    "    *  For each of the columns with undefined values find the minimum and maximum values  **Hint:** use _.min()_ and _.max()_\n",
    "    * For quantities where none occurred, e.g. goals, own goals, etc. set the undefined values to 0\n",
    "    * For quantities which describe a time of an event which did not occur, e.g. 1st goal, set it to a value greater than the maximum of that column. \n",
    "    * Verify that all values are defined."
   ]
  },
  {
   "cell_type": "code",
   "execution_count": null,
   "id": "5e1137e2",
   "metadata": {},
   "outputs": [],
   "source": []
  },
  {
   "cell_type": "code",
   "execution_count": null,
   "id": "4921cfcd",
   "metadata": {},
   "outputs": [],
   "source": []
  },
  {
   "cell_type": "code",
   "execution_count": null,
   "id": "81bfcbb1",
   "metadata": {},
   "outputs": [],
   "source": []
  },
  {
   "cell_type": "code",
   "execution_count": null,
   "id": "8acaba2a",
   "metadata": {},
   "outputs": [],
   "source": []
  },
  {
   "cell_type": "code",
   "execution_count": null,
   "id": "4acf753b",
   "metadata": {},
   "outputs": [],
   "source": []
  },
  {
   "cell_type": "markdown",
   "id": "d563770d",
   "metadata": {},
   "source": [
    "6.) **Types and indices:** \n",
    "- Check the types using Dataframe.dtypes  - note that it is not a function (no parenthesis or brackets)\n",
    "- Use pandas.to_datetime(Series) to specify that the Date column is a date. \n",
    "    - Note that it is called from pandas or pd\n",
    "    - Make sure you overwrite the existing column (alternatively first call just the function and check dtypes again)\n",
    "- Use the function _.set_index()_ to make the Date column the index. Use _.head()_ to verify that it worked. If the date column is not in bold then it did not (**Hint:** what did you have to do to change the data type above?) "
   ]
  },
  {
   "cell_type": "code",
   "execution_count": null,
   "id": "2046119d",
   "metadata": {},
   "outputs": [],
   "source": []
  },
  {
   "cell_type": "code",
   "execution_count": null,
   "id": "7f57368d",
   "metadata": {},
   "outputs": [],
   "source": []
  },
  {
   "cell_type": "code",
   "execution_count": null,
   "id": "13af515e",
   "metadata": {},
   "outputs": [],
   "source": []
  },
  {
   "cell_type": "markdown",
   "id": "69891372",
   "metadata": {},
   "source": [
    "7.) List all the rows which occurred in June (using _.loc()_)\n",
    "- Use a range of dates in the same format as in the dataframe. You can use strings. So it would be \n",
    "        string1 : string2 \n",
    "  where string1 is a string representing the start date and the string2 is a string representing the end date. (Here you may get a warning that the dates are out of order - you can fix this using the function _sort_index()_)\n",
    "- Try a different range - is it inclusive (i.e. is the end date included?)\n",
    "- Try indexing with 'June 2018'\n",
    "- Try different formats of dates to see what works and what does not."
   ]
  },
  {
   "cell_type": "code",
   "execution_count": null,
   "id": "1e4cefed",
   "metadata": {},
   "outputs": [],
   "source": []
  },
  {
   "cell_type": "code",
   "execution_count": null,
   "id": "1113d0e8",
   "metadata": {},
   "outputs": [],
   "source": []
  },
  {
   "cell_type": "code",
   "execution_count": null,
   "id": "059b59cd",
   "metadata": {},
   "outputs": [],
   "source": []
  },
  {
   "cell_type": "markdown",
   "id": "0d87921b",
   "metadata": {},
   "source": [
    "* Find which rounds occurred in June"
   ]
  },
  {
   "cell_type": "code",
   "execution_count": null,
   "id": "f7476483",
   "metadata": {},
   "outputs": [],
   "source": []
  },
  {
   "cell_type": "markdown",
   "id": "7a138a47",
   "metadata": {},
   "source": [
    "8.) **Plotting**: Try to use the pandas plotting directly.\n",
    "- Plot a histogram of ball possession percentages in June (**Hint:** Use _density=True_ to normalise the histograms)\n",
    "- Plot separate histograms of ball possession percentages of Japan and England. **Hints:** If you use logical expressions, the individual terms should be in parenthesis and you need to you the element-wise logical expressions  **&**,**|**,**!** (rather than **and**, **or**,  **not**). For example,\n",
    "                 (x<0.75) & (x>0.25)\n",
    "for x between 1/4 and 3/4.\n",
    "- Plot a  histogram of ball possession percentages of England in June\n"
   ]
  },
  {
   "cell_type": "code",
   "execution_count": null,
   "id": "3bbe6f50",
   "metadata": {},
   "outputs": [],
   "source": []
  },
  {
   "cell_type": "code",
   "execution_count": null,
   "id": "16434933",
   "metadata": {},
   "outputs": [],
   "source": []
  },
  {
   "cell_type": "markdown",
   "id": "cce4ab57",
   "metadata": {},
   "source": [
    "9.) **Groupby**\n",
    "- Use _groupby()_ to find the mean of Passes by Round\n",
    "- Plot the normalised histograms of goals scored in one plot by round (**Hint:** _alpha=_ will be useful since they overlap)\n",
    "- Repeat both but only for France as the away team (**Hint:** You can use multiple commands)"
   ]
  },
  {
   "cell_type": "code",
   "execution_count": null,
   "id": "8e8fe5a7",
   "metadata": {},
   "outputs": [],
   "source": []
  },
  {
   "cell_type": "code",
   "execution_count": null,
   "id": "2eab8ca2",
   "metadata": {},
   "outputs": [],
   "source": []
  },
  {
   "cell_type": "code",
   "execution_count": null,
   "id": "eb6ab0e5",
   "metadata": {},
   "outputs": [],
   "source": []
  },
  {
   "cell_type": "markdown",
   "id": "71ca0326",
   "metadata": {},
   "source": [
    "####  Happiness\n",
    "\n",
    "1.) Use the _read_csv()_ function the dataset into a dataframe called Happy and look at head, tail, columns, etc."
   ]
  },
  {
   "cell_type": "code",
   "execution_count": null,
   "id": "1da8bfe0",
   "metadata": {},
   "outputs": [],
   "source": []
  },
  {
   "cell_type": "markdown",
   "id": "c8cd26bf",
   "metadata": {},
   "source": [
    "2.) Rename the column which has the Economy GDP per Capita to 'GDPperCapita'\n",
    "\n",
    "**Hint:** Use the function: \n",
    " \n",
    " _rename(columns={oldname : newname}, inplace=True)_)"
   ]
  },
  {
   "cell_type": "code",
   "execution_count": null,
   "id": "b95bab55",
   "metadata": {},
   "outputs": [],
   "source": []
  },
  {
   "cell_type": "markdown",
   "id": "f593f078",
   "metadata": {},
   "source": [
    "3.) **Plotting**:\n",
    "- Using _plt.scatter()_ make a scatter plot of GDP per Capita vs. the happiness score.\n",
    "- Repeat by calling plot from the dataframe (**Hint**: Set kind to scatter)\n",
    "- Plot a scatter plot for GDP per Capita vs Health/Life Expectancy for countries who have a Freedom score greater than 1/2\n"
   ]
  },
  {
   "cell_type": "code",
   "execution_count": null,
   "id": "0381998d",
   "metadata": {},
   "outputs": [],
   "source": []
  },
  {
   "cell_type": "code",
   "execution_count": null,
   "id": "b9c7dfef",
   "metadata": {},
   "outputs": [],
   "source": []
  },
  {
   "cell_type": "code",
   "execution_count": null,
   "id": "551d94ce",
   "metadata": {},
   "outputs": [],
   "source": []
  },
  {
   "cell_type": "markdown",
   "id": "18075fc0",
   "metadata": {},
   "source": [
    "4.) **More Plotting**\n",
    "- Create a line plot for Happiness rank vs Generosity\n",
    "- Create a line plot for Happiness rank vs Happiness score \n",
    "- Is it linear?\n"
   ]
  },
  {
   "cell_type": "code",
   "execution_count": null,
   "id": "108c6f91",
   "metadata": {},
   "outputs": [],
   "source": []
  },
  {
   "cell_type": "code",
   "execution_count": null,
   "id": "520b3087",
   "metadata": {},
   "outputs": [],
   "source": []
  },
  {
   "cell_type": "markdown",
   "id": "08fdc339",
   "metadata": {},
   "source": [
    "5.) **Useful Trick: Using groupby for numerical values**\n",
    "- Call _pandas.cut(Series,bins=)_ on Health/Life Expectancy with 5 bins. This creates a Series with each element representing which interval it falls into.\n",
    "- Append it to the Happy dataframe in a column named percentile **Hint:** This is done the same way as for a new element to a dictionary \n",
    "                dataframe['columnname'] = series\n",
    "- Use _groupby_ to plot the histograms of the Family index by the Health bins. "
   ]
  },
  {
   "cell_type": "code",
   "execution_count": null,
   "id": "47e8eb04",
   "metadata": {},
   "outputs": [],
   "source": []
  },
  {
   "cell_type": "code",
   "execution_count": null,
   "id": "4c93ee3f",
   "metadata": {},
   "outputs": [],
   "source": []
  },
  {
   "cell_type": "code",
   "execution_count": null,
   "id": "277865d3",
   "metadata": {},
   "outputs": [],
   "source": []
  },
  {
   "cell_type": "markdown",
   "id": "6ac6d219",
   "metadata": {},
   "source": [
    "Play around more with the datasets.  Some things to try include. \n",
    "- Practice indexing using _.loc[]_ and _.iloc[]_\n",
    "- When is the indexing inclusive, when is it not\n",
    "- Access multiple columns \n",
    "- Try to create new plots"
   ]
  },
  {
   "cell_type": "code",
   "execution_count": null,
   "id": "20308893",
   "metadata": {},
   "outputs": [],
   "source": []
  }
 ],
 "metadata": {
  "kernelspec": {
   "display_name": "Python 3 (ipykernel)",
   "language": "python",
   "name": "python3"
  },
  "language_info": {
   "codemirror_mode": {
    "name": "ipython",
    "version": 3
   },
   "file_extension": ".py",
   "mimetype": "text/x-python",
   "name": "python",
   "nbconvert_exporter": "python",
   "pygments_lexer": "ipython3",
   "version": "3.8.12"
  }
 },
 "nbformat": 4,
 "nbformat_minor": 5
}
