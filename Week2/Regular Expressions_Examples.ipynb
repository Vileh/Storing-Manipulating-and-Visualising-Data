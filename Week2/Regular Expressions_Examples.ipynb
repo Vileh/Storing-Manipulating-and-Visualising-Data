{
 "cells": [
  {
   "cell_type": "markdown",
   "metadata": {
    "slideshow": {
     "slide_type": "slide"
    }
   },
   "source": [
    "# Regular Expressions in Python"
   ]
  },
  {
   "cell_type": "markdown",
   "metadata": {
    "slideshow": {
     "slide_type": "slide"
    }
   },
   "source": [
    "### First, we import the library"
   ]
  },
  {
   "cell_type": "code",
   "execution_count": 1,
   "metadata": {
    "slideshow": {
     "slide_type": "fragment"
    }
   },
   "outputs": [],
   "source": [
    "import re"
   ]
  },
  {
   "cell_type": "markdown",
   "metadata": {
    "slideshow": {
     "slide_type": "slide"
    }
   },
   "source": [
    "### Creating patterns"
   ]
  },
  {
   "cell_type": "code",
   "execution_count": 2,
   "metadata": {
    "slideshow": {
     "slide_type": "fragment"
    }
   },
   "outputs": [
    {
     "data": {
      "text/plain": [
       "re.compile(r'\\$(.*?)\\$', re.UNICODE)"
      ]
     },
     "execution_count": 2,
     "metadata": {},
     "output_type": "execute_result"
    }
   ],
   "source": [
    "pattern = re.compile('\\$(.*?)\\$')\n",
    "pattern"
   ]
  },
  {
   "cell_type": "markdown",
   "metadata": {
    "slideshow": {
     "slide_type": "slide"
    }
   },
   "source": [
    "### Searching for patterns in strings\n"
   ]
  },
  {
   "cell_type": "code",
   "execution_count": 3,
   "metadata": {
    "slideshow": {
     "slide_type": "fragment"
    }
   },
   "outputs": [
    {
     "data": {
      "text/plain": [
       "'Mathematicians like to go from $\\\\alpha$ to $\\\\zeta$'"
      ]
     },
     "execution_count": 3,
     "metadata": {},
     "output_type": "execute_result"
    }
   ],
   "source": [
    "str = \"Mathematicians like to go from $\\\\alpha$ to $\\\\zeta$\"\n",
    "str"
   ]
  },
  {
   "cell_type": "code",
   "execution_count": 4,
   "metadata": {
    "slideshow": {
     "slide_type": "fragment"
    }
   },
   "outputs": [
    {
     "name": "stdout",
     "output_type": "stream",
     "text": [
      "['\\\\alpha', '\\\\zeta']\n"
     ]
    }
   ],
   "source": [
    "x = pattern.findall(str)\n",
    "print(x)"
   ]
  },
  {
   "cell_type": "markdown",
   "metadata": {
    "slideshow": {
     "slide_type": "subslide"
    }
   },
   "source": [
    " ### What type is it?"
   ]
  },
  {
   "cell_type": "code",
   "execution_count": 5,
   "metadata": {
    "slideshow": {
     "slide_type": "fragment"
    }
   },
   "outputs": [
    {
     "name": "stdout",
     "output_type": "stream",
     "text": [
      "<re.Match object; span=(31, 39), match='$\\\\alpha$'>\n"
     ]
    }
   ],
   "source": [
    "y = pattern.search(str)\n",
    "print(y)"
   ]
  },
  {
   "cell_type": "markdown",
   "metadata": {
    "slideshow": {
     "slide_type": "subslide"
    }
   },
   "source": [
    "### Searching for patterns in strings\n"
   ]
  },
  {
   "cell_type": "code",
   "execution_count": 6,
   "metadata": {
    "slideshow": {
     "slide_type": "fragment"
    }
   },
   "outputs": [
    {
     "name": "stdout",
     "output_type": "stream",
     "text": [
      "None\n"
     ]
    }
   ],
   "source": [
    "z = pattern.match(str)\n",
    "print(z)"
   ]
  },
  {
   "cell_type": "markdown",
   "metadata": {
    "slideshow": {
     "slide_type": "fragment"
    }
   },
   "source": [
    "This looks for an <b> exact match </b>"
   ]
  },
  {
   "cell_type": "code",
   "execution_count": 21,
   "metadata": {
    "slideshow": {
     "slide_type": "fragment"
    }
   },
   "outputs": [
    {
     "name": "stdout",
     "output_type": "stream",
     "text": [
      "None\n"
     ]
    }
   ],
   "source": [
    "z = re.match(\"\\$(.*?)\\$\\b\",\"$x=y$ eqeqeqe\")\n",
    "print(z)"
   ]
  },
  {
   "cell_type": "markdown",
   "metadata": {
    "slideshow": {
     "slide_type": "slide"
    }
   },
   "source": [
    "### Search and Replace"
   ]
  },
  {
   "cell_type": "code",
   "execution_count": 8,
   "metadata": {
    "slideshow": {
     "slide_type": "fragment"
    }
   },
   "outputs": [
    {
     "name": "stdout",
     "output_type": "stream",
     "text": [
      "Mathematicians like to go from beta to beta\n"
     ]
    }
   ],
   "source": [
    "n_str = pattern.sub('beta',str)\n",
    "print(n_str)"
   ]
  },
  {
   "cell_type": "markdown",
   "metadata": {
    "slideshow": {
     "slide_type": "fragment"
    }
   },
   "source": [
    "Missing backslash"
   ]
  },
  {
   "cell_type": "code",
   "execution_count": 9,
   "metadata": {
    "slideshow": {
     "slide_type": "subslide"
    }
   },
   "outputs": [
    {
     "name": "stdout",
     "output_type": "stream",
     "text": [
      "Mathematicians like to go frometa toeta\n"
     ]
    }
   ],
   "source": [
    "n_str = pattern.sub('\\beta',str)\n",
    "print(n_str)"
   ]
  },
  {
   "cell_type": "code",
   "execution_count": 10,
   "metadata": {
    "slideshow": {
     "slide_type": "subslide"
    }
   },
   "outputs": [
    {
     "name": "stdout",
     "output_type": "stream",
     "text": [
      "Mathematicians like to go from \\beta to \\beta\n"
     ]
    }
   ],
   "source": [
    "n_str = pattern.sub(r\"\\\\beta\",str)\n",
    "print(n_str)"
   ]
  },
  {
   "cell_type": "markdown",
   "metadata": {
    "slideshow": {
     "slide_type": "fragment"
    }
   },
   "source": [
    "r means \"raw\"  - it means it does not interpret backslashes (aside from escape characters)"
   ]
  },
  {
   "cell_type": "code",
   "execution_count": 11,
   "metadata": {
    "slideshow": {
     "slide_type": "subslide"
    }
   },
   "outputs": [
    {
     "name": "stdout",
     "output_type": "stream",
     "text": [
      "Mathematicians like to go frometa toeta\n"
     ]
    }
   ],
   "source": [
    "n_str = pattern.sub(r\"\\beta\",str)\n",
    "print(n_str)"
   ]
  },
  {
   "cell_type": "markdown",
   "metadata": {
    "slideshow": {
     "slide_type": "slide"
    }
   },
   "source": [
    "### How do we use it?"
   ]
  },
  {
   "cell_type": "markdown",
   "metadata": {
    "slideshow": {
     "slide_type": "fragment"
    }
   },
   "source": [
    "Let's start with a string"
   ]
  },
  {
   "cell_type": "code",
   "execution_count": 12,
   "metadata": {
    "slideshow": {
     "slide_type": "fragment"
    }
   },
   "outputs": [],
   "source": [
    "string = 'May the Fourth be with you!'"
   ]
  },
  {
   "cell_type": "markdown",
   "metadata": {
    "slideshow": {
     "slide_type": "subslide"
    }
   },
   "source": [
    "### Examples"
   ]
  },
  {
   "cell_type": "code",
   "execution_count": 13,
   "metadata": {
    "slideshow": {
     "slide_type": "fragment"
    }
   },
   "outputs": [
    {
     "data": {
      "text/plain": [
       "['Fourth']"
      ]
     },
     "execution_count": 13,
     "metadata": {},
     "output_type": "execute_result"
    }
   ],
   "source": [
    "re.findall('Fourth',string)"
   ]
  },
  {
   "cell_type": "markdown",
   "metadata": {
    "slideshow": {
     "slide_type": "subslide"
    }
   },
   "source": [
    "### How about all three letter words?"
   ]
  },
  {
   "cell_type": "code",
   "execution_count": 14,
   "metadata": {
    "slideshow": {
     "slide_type": "fragment"
    }
   },
   "outputs": [
    {
     "data": {
      "text/plain": [
       "['May', 'the', 'Fou', 'rth', 'wit', 'you']"
      ]
     },
     "execution_count": 14,
     "metadata": {},
     "output_type": "execute_result"
    }
   ],
   "source": [
    "re.findall('[A-Za-z]{3}',string)"
   ]
  },
  {
   "cell_type": "markdown",
   "metadata": {
    "slideshow": {
     "slide_type": "subslide"
    }
   },
   "source": [
    "### Not quite"
   ]
  },
  {
   "cell_type": "code",
   "execution_count": 15,
   "metadata": {
    "slideshow": {
     "slide_type": "fragment"
    }
   },
   "outputs": [
    {
     "data": {
      "text/plain": [
       "['May', 'the', 'you']"
      ]
     },
     "execution_count": 15,
     "metadata": {},
     "output_type": "execute_result"
    }
   ],
   "source": [
    "re.findall('\\\\b[A-Za-z]{3}\\\\b',string)"
   ]
  },
  {
   "cell_type": "markdown",
   "metadata": {
    "slideshow": {
     "slide_type": "fragment"
    }
   },
   "source": [
    "the \\\\b means boundaries of words"
   ]
  },
  {
   "cell_type": "markdown",
   "metadata": {
    "slideshow": {
     "slide_type": "fragment"
    }
   },
   "source": [
    "For line by line search, there are easier ways to proceed."
   ]
  },
  {
   "cell_type": "markdown",
   "metadata": {
    "slideshow": {
     "slide_type": "slide"
    }
   },
   "source": [
    "## How  do we read in longer text?"
   ]
  },
  {
   "cell_type": "markdown",
   "metadata": {
    "slideshow": {
     "slide_type": "subslide"
    }
   },
   "source": [
    "### Three things - open a file, read it into a sting"
   ]
  },
  {
   "cell_type": "code",
   "execution_count": 16,
   "metadata": {
    "slideshow": {
     "slide_type": "fragment"
    }
   },
   "outputs": [
    {
     "name": "stdout",
     "output_type": "stream",
     "text": [
      "Day Year UniqueID Activity\n",
      "May 1, 1596 ujS2DVVOG8 Studying\n",
      "April 10, 1697 m9JzMIOv2m Reading\n",
      "August 5, 1544 oTBi4MDxTg Studying\n",
      "July 17, 1843 n9evYzmdQK MATH!\n",
      "September 4, 2004 AaHaOBb8vk Reading\n",
      "October 4, 1554 HbJvtcTVyk Reading\n",
      "January 3, 1946 PopmqPkUBG Weightlifting\n",
      "August 23, 1952 9C6XpNDrLO Reading\n",
      "November 28, 1533 1ayB1SIPUi Programming\n",
      "September 9, 2016 VjzgHNSWj3 Studying\n",
      "August 26, 1967 LyLJORwD0O Weightlifting\n",
      "April 12, 1540 0rtC7y7AVW Weightlifting\n",
      "May 27, 1781 WpIycPc7qQ Reading\n",
      "October 28, 1534 dths1p1G4l Swimming\n",
      "October 13, 1783 g5yWITccms Programming\n",
      "August 0, 1691 dMzJUwf4NG Weightlifting\n",
      "January 13, 1559 ARpj40WycE Studying\n",
      "July 4, 1521 s62xPkf9jV Swimming\n",
      "August 2, 1668 WKRryzNvpE Reading\n",
      "May 26, 1904 ux3diRCZYw Programming\n",
      "August 16, 1550 r2V6MSFIPR MATH!\n",
      "September 16, 1634 u1SqgFZocb Programming\n",
      "June 20, 1885 4LGArkpSZR MATH!\n",
      "May 6, 1668 QF3FxXNvKv MATH!\n",
      "February 26, 1802 bo4ZhzMsUU Weightlifting\n",
      "January 27, 1934 B9ApcbhPE2 Weightlifting\n",
      "October 10, 1671 SbOkMY2bTb Programming\n",
      "February 7, 1952 wbkjJUrQ5S Programming\n",
      "January 9, 1608 GJd5QbD7np Reading\n",
      "November 26, 1527 0dkQzjxwdX MATH!\n",
      "August 10, 1679 Uq1CAQDjIq MATH!\n",
      "July 3, 1841 OdUnpESDO6 MATH!\n",
      "May 9, 1800 Flvx7zVo9w MATH!\n",
      "November 13, 1592 PIpV24FS52 MATH!\n",
      "August 18, 1582 HFbuDxOiCi Reading\n",
      "August 29, 1798 Bh18zP7dma Studying\n",
      "January 23, 1645 xdh6xKX6SW Reading\n",
      "May 0, 1515 6rd3rVBM6J Reading\n",
      "June 21, 1789 mC06vSwPv1 Reading\n",
      "January 6, 2006 l1rtc2nyXP Studying\n",
      "February 5, 1761 tDUacUX79U Weightlifting\n",
      "January 11, 1639 LlTZ2B2hQM Studying\n",
      "November 23, 1533 3iB4OOYJsy Programming\n",
      "May 20, 1731 mh3GYCpBx5 Reading\n",
      "July 27, 1531 YxbdcN7IAx Swimming\n",
      "August 21, 1714 Oo5hBmzFDm Reading\n",
      "January 19, 1869 bsbcCYI9If Swimming\n",
      "January 4, 1828 wCFPhXcgns Programming\n",
      "November 10, 1917 i94gasLNZ6 MATH!\n",
      "January 20, 1878 opywNu2XUn Swimming\n",
      "June 26, 1715 OQO65TyA4u Weightlifting\n",
      "August 24, 1715 MqYseysm0O Swimming\n",
      "August 15, 1868 lzOzYVrPqK Studying\n",
      "August 0, 1922 R1Icfj3LJU Weightlifting\n",
      "July 1, 1728 PP4VYzrL4m MATH!\n",
      "April 18, 1504 lR2tNrbedy Swimming\n",
      "April 22, 1607 HLpT56mfX2 MATH!\n",
      "September 25, 1947 3TLetVANUt Swimming\n",
      "August 26, 1729 6TuntMTokz Running\n",
      "August 1, 1836 XSFswft4BX Running\n",
      "January 19, 1790 OLy2uSSTdZ Reading\n",
      "April 29, 1504 mrYKZMSckO Swimming\n",
      "February 13, 1941 cjfSkebDo7 Studying\n",
      "February 20, 1615 fHzsVi3Ozf Studying\n",
      "April 18, 1643 R3cMWJhV7C Studying\n",
      "June 11, 1503 fjnAXTeeTq Swimming\n",
      "October 25, 1501 WDZqTRa87r Running\n",
      "May 21, 1925 CKlnO4JXSG Studying\n",
      "January 18, 1527 N0iXBXfLtn Reading\n",
      "May 18, 1821 ZrxrCnW6UV Running\n",
      "October 28, 1832 IuuHhKPGlF Programming\n",
      "January 29, 1941 fzg9BPbjZV Swimming\n",
      "August 26, 1791 K8tDPJRLVL Swimming\n",
      "October 25, 1551 VmgCJvhWmy Reading\n",
      "June 20, 1627 N89FXcQIOE Reading\n",
      "August 15, 1730 zFMdWpNQoh Reading\n",
      "February 28, 1736 LmYG43z917 Running\n",
      "May 4, 1833 9gaUuMvoMN Reading\n",
      "May 21, 1719 jRaLDlU7je Programming\n",
      "January 9, 1568 yRwzBhuLZD Weightlifting\n",
      "February 29, 1880 F8CbASaq90 Weightlifting\n",
      "August 4, 1534 suUOrUI8vH Programming\n",
      "February 2, 1939 NB5crXzcFo Studying\n",
      "February 29, 1523 4JmaVF2CvJ Studying\n",
      "January 5, 1800 9tcMzPO61U Studying\n",
      "November 25, 1754 z7Xn5B8bS9 MATH!\n",
      "February 19, 1515 L1mFfnYqqW Running\n",
      "January 29, 2016 BPVGpXtAmM Reading\n",
      "June 25, 1560 uT9KW6pGsN Reading\n",
      "June 29, 1993 rFCtVLo9ao Running\n",
      "October 7, 1927 nJpnQDJbGU Programming\n",
      "August 26, 1909 d8fcgcQZNh Swimming\n",
      "October 7, 1502 tJ3LwwT1CF Programming\n",
      "November 0, 1558 8zWKVrhlhy MATH!\n",
      "August 19, 1982 r7DR4MG3Cl Weightlifting\n",
      "October 10, 1935 mfObaW4YT8 Reading\n",
      "May 13, 1938 eYXqa5zoYr Weightlifting\n",
      "November 10, 1967 b63n72yHKS Reading\n",
      "January 3, 1975 SYrM6o68zH Swimming\n",
      "May 9, 1904 AHQAK5fNI6 Swimming\n",
      "December 4, 1943 Zvu2A6Iokq Reading\n",
      "November 4, 1636 e8OA1m2ah7 MATH!\n",
      "July 11, 1520 OQsqLt4GlI Programming\n",
      "April 19, 1845 3MhIiEpeUf Reading\n",
      "November 28, 1633 DRQNToMCWz Programming\n",
      "August 12, 1813 dG2pQnlMis Running\n",
      "September 14, 1675 1QMoaRWTUi Studying\n",
      "July 0, 1819 HfZCPwJTDK Studying\n",
      "September 27, 1820 gNI2Awh5cN Running\n",
      "January 25, 1657 CWmnS309tU MATH!\n",
      "October 28, 1846 IMQPcLqBAc Reading\n",
      "February 2, 2000 IXX6ajoEr0 Reading\n",
      "November 24, 1805 gh8tBUW4dD Weightlifting\n",
      "January 11, 1701 fLL4IJingn Studying\n",
      "August 8, 1938 66LQegA5VL Studying\n",
      "April 23, 1915 Dy23B1E4Ge Reading\n",
      "October 8, 1581 iXGtdUIQpe Programming\n",
      "April 23, 1645 QQFvJiZ2cu Studying\n",
      "August 8, 1747 QOZdZ827K5 Studying\n",
      "May 23, 1742 KSIgDRWK6G Programming\n",
      "May 8, 1627 QtAcPjECZU Swimming\n",
      "October 5, 1769 nDgPRbQbsQ Programming\n",
      "August 14, 1596 Tb9MUY7NrU MATH!\n",
      "August 25, 1909 FsxGJuplDq Swimming\n",
      "January 28, 1723 Hnw5MgHMtm Reading\n",
      "July 27, 1506 ouK4srvYNz MATH!\n",
      "February 10, 1554 R1ApIfynbM Running\n",
      "November 27, 1941 5fdY0OXkcv Studying\n",
      "October 14, 1610 qcJmQoAmUN Swimming\n",
      "August 15, 1833 ljO1YEV3oJ Weightlifting\n",
      "November 29, 2006 cTYMp3LCK6 Studying\n",
      "May 16, 1727 Upab8I3zQd MATH!\n",
      "February 11, 1826 eeaQ0eC9nU Swimming\n",
      "February 23, 1798 uSF3PgivwG Studying\n",
      "July 9, 1915 aAjMbhjP7s Weightlifting\n",
      "February 1, 1534 FcEhV9OYlg MATH!\n",
      "April 3, 1688 dFMAERr9yu Programming\n",
      "August 27, 1868 BjszKkRzmU Studying\n",
      "July 5, 1936 cxddCUQh9C Reading\n",
      "May 1, 1977 P6fsSVOsEX MATH!\n",
      "January 29, 1606 IMhXTMx8kO Weightlifting\n",
      "February 14, 1947 5IGvmWpbSC Running\n",
      "August 24, 1954 gq1vtpniBI Programming\n",
      "August 24, 1814 IT0NY99WDe Swimming\n",
      "October 28, 1693 QYOjnPWdwH Running\n",
      "October 2, 1763 JwY0WeUnAt Reading\n",
      "October 16, 1552 gAS1FOPxEG Running\n",
      "August 10, 1728 j0txHF1pze Weightlifting\n",
      "August 24, 1939 WowtTwz9qO Studying\n",
      "September 20, 1515 MkCnJJDPZJ Reading\n",
      "August 24, 1777 0RHJ6VCLJK Programming\n",
      "September 7, 1806 V9bXygW0EK Studying\n",
      "August 12, 1623 XdOyUaXIzz Programming\n",
      "November 9, 2019 7qT6x6OXbk MATH!\n",
      "July 3, 1874 Lfaz4GkLxp Weightlifting\n",
      "May 14, 1795 xRqwjwYQIc Swimming\n",
      "October 8, 1924 UcTxvmEBcD Reading\n",
      "August 13, 1697 alaVKZ4nAi Programming\n",
      "September 11, 1755 j83D8gm63L Running\n",
      "March 15, 1926 1p8x4XiYBB Swimming\n",
      "October 25, 1621 cipmRmPRdJ MATH!\n",
      "February 9, 1770 X5OVE1UxSt Reading\n",
      "May 13, 1830 U7A0OqEB6A Studying\n",
      "February 13, 1565 jc3uZqxqiD Programming\n",
      "April 3, 1857 i70tL7ZJ9f Studying\n",
      "September 14, 1726 dJLie2yDgZ Running\n",
      "November 6, 1631 t2XdECFC8p Swimming\n",
      "May 0, 1798 Jz6aJMHgD9 Studying\n",
      "January 3, 1639 2H3C9LA9uo Running\n",
      "April 1, 1508 FfFywR1m4j Programming\n",
      "May 0, 1821 bG9OexW9t7 Swimming\n",
      "May 9, 1630 9EEVGJeUkB Swimming\n",
      "October 25, 1856 v6yZ2dyRFz Studying\n",
      "August 25, 1601 k6SpojRVEt Programming\n",
      "February 9, 1521 nNw0CCjCmp Programming\n",
      "October 6, 1765 LBeaDpdscg Weightlifting\n",
      "May 29, 1673 2cz2fn1sVU Swimming\n",
      "September 17, 1904 DgwiqMGHHw Studying\n",
      "May 17, 1735 ybIU0KtMsx Running\n",
      "June 20, 1818 6kb0AETPtS Programming\n",
      "July 25, 1808 frdoLKFGbe Reading\n",
      "August 5, 1508 HROL0gUsXp Programming\n",
      "February 6, 1506 7iqGCGfxM9 Running\n",
      "September 23, 1655 8KpafCniXr Programming\n",
      "November 12, 1892 YgkTy6XUN8 Programming\n",
      "August 11, 1803 c3Ra7KqUf2 Weightlifting\n",
      "November 11, 1876 Fh4QSuB1Yu MATH!\n",
      "September 24, 1959 ZC7M9ygkMd Programming\n",
      "April 13, 1766 BbyG6wms9V Studying\n",
      "October 21, 1833 nVOpUQFJgZ Swimming\n",
      "August 5, 1709 I3dOK7NiEZ Weightlifting\n",
      "July 19, 1908 uYnLr8SVr7 MATH!\n",
      "February 25, 1994 XIKftxqO01 Reading\n",
      "August 26, 2015 UxzvNOOeyn MATH!\n",
      "February 13, 1897 hSQehdAG0m MATH!\n",
      "January 7, 1600 nepVUufrmM Reading\n",
      "August 2, 1705 Ccn1qa74JK Running\n",
      "February 27, 1749 tdnalsMqG4 MATH!\n",
      "April 9, 1974 Oh5LU7C8e8 Swimming\n",
      "November 7, 1961 XSy54BStFC Swimming\n",
      "February 20, 1862 BkfXQCZwIe Weightlifting\n",
      "February 21, 1628 TXMFfRk8sK Reading\n",
      "November 4, 1622 xgtMQAt1cJ MATH!\n",
      "November 6, 1649 WheViaL6h6 Reading\n",
      "April 20, 1699 kAQ9RrEbCa MATH!\n",
      "April 7, 1581 pK8TXXp2OF Studying\n",
      "February 1, 1706 G2EY3d2xtb Programming\n",
      "September 5, 1590 ZJa3kPwhCp Swimming\n",
      "November 7, 1698 4qPHywmSHO Swimming\n",
      "May 0, 1788 u9uWW9eEeJ Programming\n",
      "May 16, 1547 Vh8M9jYQrK MATH!\n",
      "February 27, 1678 auq2p0EZxd Reading\n",
      "September 15, 1673 qjZYxuJPvY Reading\n",
      "August 19, 1507 BvIWmQL6Az Reading\n",
      "January 21, 1707 CgLdhaVdZb Swimming\n",
      "February 6, 1866 im13jxo2ZQ Running\n",
      "June 15, 1674 em4jXFRzsa Swimming\n",
      "August 11, 1515 3AQ7VUpyyg MATH!\n",
      "January 6, 1981 uAlaZZpF6S Reading\n",
      "April 2, 1947 8gczDVIPer Weightlifting\n",
      "January 3, 2003 FBb3Lidprb Programming\n",
      "September 6, 1944 jYwhE7dOAS Swimming\n",
      "February 29, 1792 VDT8nDdkEw Studying\n",
      "November 10, 1990 rRk3A47XtC Studying\n",
      "January 23, 1695 MjTKg9Pt6u Studying\n",
      "April 0, 1705 sjtaXOBQyl Swimming\n",
      "August 28, 1716 YGwbN8lFmy Swimming\n",
      "August 20, 1970 terpw9XJny Studying\n",
      "April 22, 1648 gUb1wHX2rr Swimming\n",
      "February 6, 1858 59wjRI43Hh Weightlifting\n",
      "November 11, 1762 88U9NE8Vxl MATH!\n",
      "February 25, 1562 GgoY0BpUyq MATH!\n",
      "July 4, 1709 tPQUvkk2YI Running\n",
      "January 18, 1761 fWNYLyj2e2 Programming\n",
      "May 19, 1840 14Ov7JXApB Programming\n",
      "October 2, 1639 NZNDqxNKXS Programming\n",
      "September 4, 1687 P4QPS7huPC Studying\n",
      "February 5, 1864 huwRqDLOVD Running\n",
      "January 26, 1570 loaWs5JHUL Running\n",
      "February 15, 1863 4yQumOMNKo Programming\n",
      "August 2, 1878 FeTOznRUrn MATH!\n",
      "January 21, 2013 lyWXDCDYWN Programming\n",
      "July 25, 1619 IPG5JQW0RW Programming\n",
      "January 20, 1952 BVrVMuPsLO Programming\n",
      "March 17, 1589 i7w9Mn37n3 Programming\n",
      "June 19, 1998 e3uzvjMczq Swimming\n",
      "September 26, 1895 6N07lIDzVx Running\n",
      "October 3, 2013 PlooeKH36i Running\n",
      "February 17, 1547 09OGBhE4eR Running\n",
      "October 8, 1788 KbRrKcd1wA Running\n",
      "January 14, 1877 vJfkzv37ij Swimming\n",
      "May 2, 1810 OfY9dnScHA Swimming\n",
      "May 0, 1668 6IWoskGrpi Reading\n",
      "July 9, 1718 CnhezFWZUQ Running\n",
      "September 3, 1880 UqxIRrbPhf Studying\n",
      "February 29, 2019 yUwuyNeLU6 MATH!\n",
      "February 25, 1907 PY43aiXr8q Studying\n",
      "February 19, 1889 EBwzz6oPbS Studying\n",
      "October 6, 1962 AaBMjkyArs Studying\n",
      "October 13, 1727 ahnrFM3kqT Studying\n",
      "September 22, 1958 t3zuZ1fy5v Programming\n",
      "July 2, 1812 zeF7h35XZ6 Programming\n",
      "July 8, 1827 WYFMQvHfVL Programming\n",
      "June 10, 1712 xsYx9sFzRW Reading\n",
      "May 24, 1648 t4I2yT6vwL Swimming\n",
      "June 1, 1508 Cur0QkxsYP MATH!\n",
      "January 4, 1553 XXLeLl5oxA Studying\n",
      "September 9, 1588 I4rN8ANTaf MATH!\n",
      "May 8, 1917 ycqopgZ1MH Weightlifting\n",
      "August 1, 1775 8tdtomcPgL Programming\n",
      "April 11, 1645 KYE7Y6JTSd Swimming\n",
      "July 8, 1927 jza1jkh9qx MATH!\n",
      "May 12, 1669 1we0VgVr6w Swimming\n",
      "August 5, 1669 rKzkWUSdud Programming\n",
      "February 2, 1960 QwO0g7AJlY Reading\n",
      "January 5, 1743 RwiLQXhOFW Studying\n",
      "August 4, 1752 i2aQS4qxEx Studying\n",
      "July 2, 1608 TCOEdhDlH3 MATH!\n",
      "March 0, 1532 rfRRyuRdEO Programming\n",
      "February 4, 1886 hcJTd8GGN0 Running\n",
      "February 6, 1890 4w2IgXIMPk Weightlifting\n",
      "February 10, 1983 QkFon7FLtx Weightlifting\n",
      "August 4, 1936 WwV7Nu2A3k Programming\n",
      "January 17, 1603 tafVwA5fPE MATH!\n",
      "February 8, 1669 M3bUHi97hy Programming\n",
      "June 16, 1765 3XBCEVmsAf Reading\n",
      "February 12, 1736 4K2pZrQo3J MATH!\n",
      "May 25, 1889 2ekvC0R4L3 Reading\n",
      "May 10, 1887 nIHtp7zmzi Programming\n",
      "May 7, 1754 urgRFqlwcH Studying\n",
      "July 5, 1644 38RndKGOr6 Studying\n",
      "April 4, 2012 OeVXP63qmN Weightlifting\n",
      "January 21, 1641 5SOGtMDPMH Weightlifting\n",
      "November 27, 1622 VYmnL3CPus Studying\n",
      "October 10, 1821 D1MpohpgAD MATH!\n",
      "October 9, 1692 JlHGAXWb4z Weightlifting\n",
      "August 19, 1731 mkjYU1D2p2 MATH!\n",
      "August 7, 1686 9xUuGva28v Running\n",
      "October 1, 1609 yhUkWGZLPX MATH!\n",
      "November 17, 1689 TqAwCKrSpN Studying\n",
      "January 1, 1788 zekx7k0ZOG MATH!\n",
      "September 16, 1979 naIOtONvBb Running\n",
      "May 19, 1682 cT7vMaooll Studying\n",
      "May 15, 1991 4ZdAgc16QY Reading\n",
      "October 22, 1996 dfQVA1VbDt Programming\n",
      "July 21, 1754 G0AoeBRLFm Studying\n",
      "February 13, 1639 9TnvBrux9p MATH!\n",
      "May 3, 1943 YRFXAhP9J4 Swimming\n",
      "October 18, 1547 M6quh13dLn Running\n",
      "August 24, 1868 XW10J6TIsf Swimming\n",
      "August 25, 1834 sMNtz11Uv7 Swimming\n",
      "October 15, 1884 pZV3oJlJns Running\n",
      "April 21, 1697 QC0nOQiErn Programming\n",
      "January 21, 1865 hSRusUmciG Programming\n",
      "July 7, 1861 Xg3vck3aBw Programming\n",
      "July 2, 1770 19LuD3s0ft MATH!\n",
      "May 29, 1926 LL5XybiMj7 Reading\n",
      "October 20, 1877 2bzA92QTVk Studying\n",
      "May 25, 1589 SLClfDrfrc Studying\n",
      "July 0, 1935 Ip9oTCR16i Running\n",
      "November 12, 1601 uifG0aBp5k Running\n",
      "October 26, 1928 AKlV5mWOC4 Swimming\n",
      "November 28, 1674 s9o5fZB1j9 Running\n",
      "October 27, 1567 XKt847dpdS Running\n",
      "April 21, 1829 9LvFwqoPQd Programming\n",
      "January 11, 1732 68hPm63axk Running\n",
      "January 3, 1680 tF52LhpgT4 MATH!\n",
      "September 2, 1509 EH5bVZ54ph Weightlifting\n",
      "April 27, 1836 TrI3R0HCfk Reading\n",
      "August 0, 1986 A9v99Opecy Reading\n",
      "August 18, 1738 6puQTNySfm Weightlifting\n",
      "November 22, 1713 swqOkMCoaV Weightlifting\n",
      "July 0, 1505 35UJf6xqYU Running\n",
      "February 4, 1616 oW3WUIpuq6 Running\n",
      "November 1, 1512 ERwpiWvRgP Running\n",
      "May 19, 1954 qVGoFX8Raj Weightlifting\n",
      "October 0, 1900 A8XzTyboHx Weightlifting\n",
      "March 7, 1899 VeT7JpiZzJ Studying\n",
      "January 10, 1524 010qVIl3Qu Programming\n",
      "June 1, 1766 XI0YE82iI2 Running\n",
      "May 16, 1876 hwNFOHuABj Studying\n",
      "July 13, 1667 v99tvs2tcd Weightlifting\n",
      "July 7, 1976 L3m54FAZDG Weightlifting\n",
      "August 6, 1731 zlesXr2WtF Weightlifting\n",
      "January 3, 1645 mvuVS053f7 Programming\n",
      "July 18, 1995 U9AtU8Fh9X Swimming\n",
      "May 10, 1770 Rn8CbRsknx Running\n",
      "May 6, 1902 Vvx8r6PPiS Weightlifting\n",
      "November 11, 1718 fE9h9vtNCe MATH!\n",
      "November 6, 1519 yieJ8h9cOA Swimming\n",
      "January 12, 1961 uBoum8coSo MATH!\n",
      "January 7, 1999 kYHrcQ07zm Running\n",
      "November 6, 1559 GjcXjASVey Swimming\n",
      "August 9, 1531 W1DDCGDmaZ MATH!\n",
      "July 10, 1923 xKBRXfhbSh Swimming\n",
      "January 27, 1918 kmp2mV72TL Running\n",
      "October 7, 1580 sZb0aBUSYL MATH!\n",
      "February 21, 1892 H1KCuc6zmH Running\n",
      "November 8, 1747 rIdcOvGDpL MATH!\n",
      "May 17, 1568 Mpi1n4Ofv8 Studying\n",
      "January 9, 1634 DZnapJB4rI Programming\n",
      "January 15, 2015 vc9MRVe3Uv Studying\n",
      "January 4, 1844 o3Nu5Dfj9j Swimming\n",
      "April 13, 1961 vVBIDeNUWA Running\n",
      "July 14, 1743 mYoH4V03B4 Reading\n",
      "July 18, 1871 HqE0ryk91A Weightlifting\n",
      "November 15, 1879 6nHqTf3DO8 Programming\n",
      "July 7, 1781 OuHp0Tmoz3 Programming\n",
      "July 12, 1733 vakkU5f4Fq Studying\n",
      "August 27, 1507 QfzNvsL2ub MATH!\n",
      "May 23, 1743 4FsflSxab5 Running\n",
      "July 23, 1580 uHlALEp8SS Running\n",
      "October 0, 1542 LCp5Ed1AmT Swimming\n",
      "October 18, 1785 Jm6KxETPGV MATH!\n",
      "August 8, 1678 cFQIKGNWYH Reading\n",
      "September 22, 1796 GHcpGbADaH Programming\n",
      "April 28, 1669 tM0mBKmSPY Running\n",
      "November 13, 1777 BaAAbmrjJ0 MATH!\n",
      "August 13, 1662 2OgjNLqM47 Running\n",
      "February 5, 1843 zYbgpiRc74 Weightlifting\n",
      "February 4, 1963 JTCopl0hiR Running\n",
      "May 6, 1545 XdTp0cafqq Weightlifting\n",
      "March 6, 1598 TZAPLc6WNU Running\n",
      "April 26, 1848 7W4rgqcpLO Reading\n",
      "May 23, 1934 3O5mlxHyoe Swimming\n",
      "November 4, 1692 VHZMC6xVAI Running\n",
      "April 12, 1665 Khru3o2G3i Studying\n",
      "January 7, 1552 pQxrJPMUIU Running\n",
      "November 14, 1798 WgIlxoJWaT MATH!\n",
      "May 26, 1944 1EhNn7CGKT Studying\n",
      "September 7, 1636 wlQ7dVkQBj MATH!\n",
      "May 27, 1756 DrSHiB3GU0 MATH!\n",
      "February 3, 1799 XVJVQvc6sH Weightlifting\n",
      "October 10, 1848 XLRefvuTMn Swimming\n",
      "October 20, 1881 hC3oNhNpPn Running\n",
      "November 7, 1764 rVN1coqcXB Programming\n",
      "November 6, 1808 Y0hGv55wKR Running\n",
      "October 27, 1987 kDuXEQXv3K Weightlifting\n",
      "January 27, 1861 dQBbIeuCep Weightlifting\n",
      "August 15, 1708 xUYpEJFlgJ Studying\n",
      "November 17, 1854 yQ9fX9FjOy Weightlifting\n",
      "September 27, 1706 sIlvUpFbf4 Running\n",
      "June 0, 1541 qez1gYmRok Weightlifting\n",
      "May 7, 1624 fh0t0z1IuI Reading\n",
      "April 18, 1593 iZmdkudnXW Swimming\n",
      "May 28, 1845 8dIZyk4wMn Swimming\n",
      "June 16, 1564 VsOGldri0B Running\n",
      "May 28, 1805 4kR90kqML4 Swimming\n",
      "January 14, 1726 uy1CsOwoPi Weightlifting\n",
      "November 1, 1874 LNNCdGASmC Studying\n",
      "February 25, 1855 m3oetnFGNV Studying\n",
      "May 16, 1621 6oXcnxTH21 Studying\n",
      "July 0, 1795 F6AOvLm8eb Swimming\n",
      "May 18, 1988 D7fSItVsKM Swimming\n",
      "October 9, 1954 ukSyqkDzbw MATH!\n",
      "February 14, 1576 VQ7VFS8zGe MATH!\n",
      "February 14, 1516 kUF0DPSsFq Running\n",
      "May 27, 1686 pz4VguQqLy Studying\n",
      "November 23, 1871 Tw6Kk6lDKU Programming\n",
      "January 3, 1660 5moZmlzruh Swimming\n",
      "December 25, 1513 TJvBqTqQlq Studying\n",
      "February 20, 1956 Yk79E4Zs7z Studying\n",
      "February 21, 1538 sExDg4jF3I Swimming\n",
      "May 21, 1663 Aj5mHj6TUF Running\n",
      "January 2, 1699 PmAiYkSjcX MATH!\n",
      "July 22, 1864 qomjz40XSa Running\n",
      "April 23, 1926 bVHd5BVxyN Studying\n",
      "December 9, 1715 zMAmQIRTTg Programming\n",
      "August 3, 1845 aApr9ksvXG Weightlifting\n",
      "February 6, 1944 3mJL09brCK Programming\n",
      "August 14, 1744 vpWErQrk9C Running\n",
      "February 4, 1768 mCwfu2N94O Programming\n",
      "February 11, 2013 iRrSxuCco2 Studying\n",
      "August 4, 1804 nxrdUT5IJq Studying\n",
      "October 2, 1625 DDHmhTR8m6 Reading\n",
      "October 8, 1985 tJjIMSybhV Swimming\n",
      "August 22, 1507 3c26bAS5HI Studying\n",
      "April 14, 2010 cMa25eURW0 MATH!\n",
      "October 22, 1524 lHKEBjQCvW Reading\n",
      "November 14, 1806 3EC3TCQXzB Swimming\n",
      "July 1, 1525 VQunFLjgGJ Swimming\n",
      "October 3, 1589 GFbZV3MIqv Swimming\n",
      "July 5, 1573 nxaJGd1jhS Studying\n",
      "July 3, 1748 2TzJ6D1qxs Running\n",
      "August 0, 1566 Tpz5YQKPrr Swimming\n",
      "August 14, 1866 JHuvV3YAUm Running\n",
      "October 27, 1987 X0teaHFO4h Swimming\n",
      "April 11, 1834 gQOnRSAZCU MATH!\n",
      "November 3, 1561 o41wEsFgTf Programming\n",
      "November 29, 1686 OzQozkW5zi Studying\n",
      "February 0, 1671 Y0BIDMiEeo Running\n",
      "August 12, 1918 vtruZW78za Running\n",
      "August 5, 1561 sZoKCyx9EO Weightlifting\n",
      "October 26, 1635 3ODUTZM22X Reading\n",
      "September 16, 1726 tvgRmTHVbT Weightlifting\n",
      "July 12, 1887 ZZogt8QH7s Programming\n",
      "April 28, 1954 LZzomVS6y5 Studying\n",
      "June 23, 1686 bulqthtnk9 Studying\n",
      "February 3, 1690 pj0jteczuX MATH!\n",
      "November 17, 1884 2DkOTESsvk Weightlifting\n",
      "May 21, 1613 q65wcoSILl Weightlifting\n",
      "February 18, 1724 Q7bfpPu8e6 Reading\n",
      "May 18, 1803 adXIQAC2sN Swimming\n",
      "February 19, 1989 JG21ReFo7U Running\n",
      "June 13, 1676 PkshhgXpc4 Weightlifting\n",
      "August 20, 1934 M84CCIb6SR Studying\n",
      "July 24, 1513 NKjogpk25E Running\n",
      "August 19, 1815 RB9MMIDRQi Reading\n",
      "July 17, 1503 BO94hEDodq Studying\n",
      "March 25, 1679 jrrdi6dEgN Swimming\n",
      "May 9, 1757 tStxDOlvzq Studying\n",
      "October 7, 1578 3Xk4gztyuh Weightlifting\n",
      "May 11, 1517 LT8htJhtfy Weightlifting\n",
      "July 14, 1973 pIlziBFyAc Weightlifting\n",
      "May 16, 1872 UlQaeccTnX Running\n",
      "April 0, 1888 r3a7lFcVzs Reading\n",
      "August 10, 1833 02gEFPq3px Reading\n",
      "February 1, 1692 yb8FHT90i0 Weightlifting\n",
      "November 8, 1509 lFRfSUfqeX Running\n",
      "February 14, 1858 gsGVeF31Wi MATH!\n",
      "February 2, 1956 Xo4ys526xe Studying\n",
      "August 26, 1766 yq2jsqQhGf Weightlifting\n",
      "September 4, 1686 DZJcrEcXCG Reading\n",
      "October 17, 1589 Ukfji0R3h2 MATH!\n",
      "July 24, 1842 82hsIn8w4Z MATH!\n",
      "May 19, 1950 w4F3zc4jVJ Studying\n",
      "February 26, 1704 wKuME4TLOS MATH!\n",
      "January 6, 1966 10baAdNnly Studying\n",
      "January 22, 1947 M4xjsF3djn Swimming\n",
      "February 18, 1862 FI85jnMua8 Programming\n",
      "January 28, 1931 nNDJjxMMSo Reading\n",
      "June 29, 1540 6f2S6QxRDu Studying\n",
      "January 5, 1742 nFm7DWhKTJ Programming\n",
      "May 3, 1909 VQJ1Qy88k6 MATH!\n",
      "August 28, 1813 mtqKkwwRqK Running\n",
      "July 20, 1590 M59lXacpfM Swimming\n",
      "April 19, 1865 JsEv7F5zYa MATH!\n",
      "September 11, 1939 7jZrMY7Kh4 Studying\n",
      "February 28, 1515 bR1KiXIBhP Running\n",
      "October 18, 1505 arSpPZ0I1l Programming\n",
      "April 23, 1518 LSukH5OBf7 Reading\n",
      "August 7, 1687 S0jA6ybq16 MATH!\n",
      "July 20, 1603 KQTQJcGs2G MATH!\n",
      "January 14, 1814 ln9IB82x6g Weightlifting\n",
      "January 22, 2008 dvgFNiuXay Reading\n",
      "April 13, 1944 w9ZnNDHGeq Swimming\n",
      "May 2, 2010 s5BC73Ry8G Programming\n",
      "October 16, 1695 GVj8RjZPf4 Weightlifting\n",
      "January 29, 1756 LAoArd2CHr Swimming\n",
      "January 0, 1519 CpLx1bIajf Swimming\n",
      "June 20, 1934 dmSzYcANci Studying\n",
      "July 11, 1670 Gt1QsOMjW3 Reading\n",
      "May 6, 1785 iSkmEoA1yT MATH!\n",
      "September 26, 1760 dK8tv6DX6I Reading\n",
      "November 1, 1799 IQYFwd3yUX Running\n",
      "June 11, 1648 iajMdmnCf8 Programming\n",
      "February 17, 1993 kyQI3v7V4y Studying\n",
      "May 17, 1610 lPZ2HnmuyP Swimming\n",
      "May 3, 1867 GAaC24HvpJ Swimming\n",
      "November 9, 1618 rS5rCgnKho Running\n",
      "March 12, 1845 K9gXCJt1VD Swimming\n",
      "May 8, 1793 sxnVWemCUu MATH!\n",
      "August 19, 1692 6VKoLsHUG7 Running\n",
      "July 9, 1856 YawAo5unjf Reading\n",
      "May 27, 1859 RHRnRuGleV Swimming\n",
      "November 25, 1976 diAHESDSD4 MATH!\n",
      "June 20, 1671 Gcgk5Xg3Bx Weightlifting\n",
      "October 12, 1659 AdLLefqxK4 Running\n",
      "May 5, 1707 KhzfwNn6OR Reading\n",
      "July 0, 1683 4iEKlAC66G Running\n",
      "October 2, 1757 SIUu9gukGv Running\n",
      "October 28, 1623 kHBv3IGSvU Swimming\n",
      "October 14, 1869 VTByUzF1TB Swimming\n",
      "January 25, 1971 UdYj37JOCd Reading\n",
      "January 1, 1838 GIwOK8L0vs Swimming\n",
      "October 11, 1660 5M4EOQjuyt Reading\n",
      "May 23, 1506 WQrhBXlB5Q MATH!\n",
      "August 1, 1645 hJch19vQC6 MATH!\n",
      "May 19, 1953 PhAJEgiWVY Running\n",
      "January 5, 1666 CORczWAR57 Reading\n",
      "May 3, 2013 HstT5aklxP Weightlifting\n",
      "July 9, 1657 LumXNx0eSK Studying\n",
      "January 18, 1799 a4dIOxW3F5 Studying\n",
      "August 1, 1572 9tyeJhgmfa Running\n",
      "August 22, 1767 QiclbfNjkU Programming\n",
      "November 16, 1712 TKjZ7y2CGU Weightlifting\n",
      "January 5, 1944 WpHo4NvdOn MATH!\n",
      "November 7, 1596 Ozl6NUan58 Reading\n",
      "May 8, 1687 cc2FmxDbac Running\n",
      "April 9, 1789 poHhYLJf8d Running\n",
      "August 9, 1617 kWmBu854RP Weightlifting\n",
      "August 27, 1535 KnjxpVUfFj Swimming\n",
      "December 24, 1989 bz1XNqIfnp Programming\n",
      "August 23, 1805 Ae1gyVSQpa Studying\n",
      "August 2, 1738 mCKFrQkQJy Programming\n",
      "August 20, 1654 LRg1l9TQ1h Swimming\n",
      "April 14, 1820 ZXuzt7inDq Running\n",
      "July 28, 1721 JU8oEWeB3h Programming\n",
      "May 27, 1618 SJxaK3cyMO MATH!\n",
      "May 14, 1916 wpteO10jBD Programming\n",
      "May 23, 1887 CoWAZt90ZH Reading\n",
      "May 18, 1609 pc1DKXTZkL MATH!\n",
      "November 2, 1602 iuWpeTCYQK Reading\n",
      "June 5, 1651 zz9Xi561nO Reading\n",
      "January 6, 1753 v4TS9IpmDA Weightlifting\n",
      "January 19, 2015 SdOZwopMCB Studying\n",
      "August 4, 1940 8F4M1GRiRn Reading\n",
      "August 15, 1862 mDJYqAZyhW Programming\n",
      "February 0, 1773 G6axzhXDfb Swimming\n",
      "January 26, 2013 U0HbRSQAwK Programming\n",
      "January 18, 1931 NHRog61hrm Reading\n",
      "April 9, 1947 esKF91UBap MATH!\n",
      "October 11, 1841 5O7CP2u2eo MATH!\n",
      "August 18, 1817 iSdiQK7p8g Weightlifting\n",
      "August 24, 1779 bplAtjPCjN Swimming\n",
      "April 7, 1986 7b0dfLv0GK Swimming\n",
      "November 18, 1674 zoD04wOEZ2 Reading\n",
      "January 2, 1949 TA3tzANOF6 MATH!\n",
      "July 20, 2006 SA3M9cdkei Swimming\n",
      "November 6, 1574 Uks4SLew3T Running\n",
      "January 26, 1590 tGYBe4FNSb Swimming\n",
      "February 15, 1802 hUhftsA9pm Running\n",
      "August 23, 1882 AXwB1tavx1 Weightlifting\n",
      "November 25, 1893 ignKtMBV9N Programming\n",
      "\n"
     ]
    }
   ],
   "source": [
    "f = open('activity_log.txt','r') # open\n",
    "text = f.read()        # read\n",
    "f.close()              # close file\n",
    "print(text)            # check what we get"
   ]
  },
  {
   "cell_type": "markdown",
   "metadata": {
    "slideshow": {
     "slide_type": "subslide"
    }
   },
   "source": [
    "### Lets Count Number of Activities in October"
   ]
  },
  {
   "cell_type": "code",
   "execution_count": 17,
   "metadata": {
    "slideshow": {
     "slide_type": "fragment"
    }
   },
   "outputs": [
    {
     "name": "stdout",
     "output_type": "stream",
     "text": [
      "['October', 'October', 'October', 'October', 'October', 'October', 'October', 'October', 'October', 'October', 'October', 'October', 'October', 'October', 'October', 'October', 'October', 'October', 'October', 'October', 'October', 'October', 'October', 'October', 'October', 'October', 'October', 'October', 'October', 'October', 'October', 'October', 'October', 'October', 'October', 'October', 'October', 'October', 'October', 'October', 'October', 'October', 'October', 'October', 'October', 'October', 'October', 'October', 'October', 'October', 'October', 'October', 'October', 'October', 'October', 'October', 'October', 'October', 'October', 'October']\n"
     ]
    },
    {
     "data": {
      "text/plain": [
       "60"
      ]
     },
     "execution_count": 17,
     "metadata": {},
     "output_type": "execute_result"
    }
   ],
   "source": [
    "matches = re.findall('October',text)\n",
    "print(matches)\n",
    "len(matches)"
   ]
  },
  {
   "cell_type": "markdown",
   "metadata": {
    "slideshow": {
     "slide_type": "fragment"
    }
   },
   "source": [
    "re is useful for finding matches -- for searching for things there is grep."
   ]
  },
  {
   "cell_type": "markdown",
   "metadata": {
    "slideshow": {
     "slide_type": "slide"
    }
   },
   "source": [
    "## From Here\n",
    "\n",
    "- There is much more functionality to re\n",
    "- Use the tool which seems most comfortable\n",
    "- You should know how to build some basic regular expressions\n",
    "- Many editors support it - VS Code"
   ]
  }
 ],
 "metadata": {
  "celltoolbar": "Slideshow",
  "kernelspec": {
   "display_name": "Python 3",
   "language": "python",
   "name": "python3"
  },
  "language_info": {
   "codemirror_mode": {
    "name": "ipython",
    "version": 3
   },
   "file_extension": ".py",
   "mimetype": "text/x-python",
   "name": "python",
   "nbconvert_exporter": "python",
   "pygments_lexer": "ipython3",
   "version": "3.9.18"
  }
 },
 "nbformat": 4,
 "nbformat_minor": 4
}
